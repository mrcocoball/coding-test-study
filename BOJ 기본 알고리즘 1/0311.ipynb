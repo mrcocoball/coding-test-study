{
 "cells": [
  {
   "cell_type": "markdown",
   "id": "97276030-6cf9-495a-9263-e8707ffc8475",
   "metadata": {},
   "source": [
    "## 괄호\n",
    "- url : https://www.acmicpc.net/problem/9012"
   ]
  },
  {
   "cell_type": "code",
   "execution_count": null,
   "id": "0a6a9b75-6de8-4aaa-add9-ade5bedd8fe2",
   "metadata": {},
   "outputs": [],
   "source": [
    "# 일단 문자열의 길이가 홀수이면 무조건 탈락\n",
    "# 문자열 맨 처음과 양 끝이 각각 (, )가 아니면 탈락\n",
    "# 문자열의 길이가 2 이상이어야 하며 1이면 탈락\n",
    "# 문자열에 포함된 ()를 공백으로 치환시켰을 때 홀수이면 탈락\n",
    "# 문자열에 ()이 없을 때까지 계속 치환\n",
    "# 결과가 ''이면 통과, 아니면 에러"
   ]
  },
  {
   "cell_type": "code",
   "execution_count": 13,
   "id": "0ae79cd4-89bf-40bf-91fb-854262bd2746",
   "metadata": {},
   "outputs": [
    {
     "name": "stdin",
     "output_type": "stream",
     "text": [
      " 1\n",
      " (((()())()\n"
     ]
    },
    {
     "name": "stdout",
     "output_type": "stream",
     "text": [
      "a (((()())()\n",
      "res \n",
      "new a \n",
      "['YES']\n"
     ]
    }
   ],
   "source": [
    "t = int(input())\n",
    "a_list = list()\n",
    "\n",
    "for i in range(t):\n",
    "    a = input()\n",
    "    if len(a) >= 2:\n",
    "        if a[0] == \"(\" and a[-1] == \")\":\n",
    "            if len(a) % 2 == 0:\n",
    "                if '()' in a:\n",
    "                    while '()' in a:\n",
    "                        print(\"a\",a)\n",
    "                        target = \"()\"\n",
    "                        ts = str.maketrans('','',target)\n",
    "                        res = a.translate(ts)\n",
    "                        print(\"res\",res)\n",
    "                        a = res\n",
    "                        print(\"new a\",a)\n",
    "                    if len(a) == 0:\n",
    "                        a_list.append(\"YES\")\n",
    "                    else:\n",
    "                        a_list.append(\"NO\")\n",
    "                else:\n",
    "                    a_list.append(\"NO\")\n",
    "            else:\n",
    "                a_list.append(\"NO\")\n",
    "        else:\n",
    "            a_list.append(\"NO\")\n",
    "    else:\n",
    "        a_list.append(\"NO\")\n",
    "\n",
    "print(a_list)"
   ]
  },
  {
   "cell_type": "code",
   "execution_count": 18,
   "id": "380f9ddc-38a8-446e-ad76-a5be22dc7326",
   "metadata": {},
   "outputs": [
    {
     "name": "stdout",
     "output_type": "stream",
     "text": [
      "\n"
     ]
    }
   ],
   "source": [
    "# https://wookcode.tistory.com/49\n",
    "\n",
    "T = int(input())\n",
    "\n",
    "for i in range(T):\n",
    "    stack = []\n",
    "    a=input()\n",
    "    for j in a:\n",
    "        if j == '(':\n",
    "            stack.append(j)\n",
    "        elif j == ')':\n",
    "            if stack:\n",
    "                stack.pop()\n",
    "            else: # 스택에 괄호가 없을경우 NO\n",
    "                print(\"NO\")\n",
    "                break\n",
    "    else: # break문으로 끊기지 않고 수행됬을경우 수행한다\n",
    "        if not stack: # break문으로 안끊기고 스택이 비어있다면 괄호가 다 맞는거다.\n",
    "            print(\"YES\")\n",
    "        else: # break안 걸렸더라도 스택에 괄호가 들어있다면 NO이다.\n",
    "            print(\"NO\")"
   ]
  },
  {
   "cell_type": "markdown",
   "id": "c64c4c74-15a2-40ff-ba21-6bf3de824290",
   "metadata": {},
   "source": [
    "## 큐\n",
    "- url : https://www.acmicpc.net/problem/10845\n",
    "- 문제 설명 :\n",
    "\n",
    "정수를 저장하는 큐를 구현한 다음, 입력으로 주어지는 명령을 처리하는 프로그램을 작성하시오.\n",
    "\n",
    "명령은 총 여섯 가지이다.\n",
    "\n",
    "- push X: 정수 X를 큐에 넣는 연산이다.\n",
    "- pop: 큐에서 가장 앞에 있는 정수를 빼고, 그 수를 출력한다. 만약 큐에 들어있는 정수가 없는 경우에는 -1을 출력한다.\n",
    "- size: 큐에 들어있는 정수의 개수를 출력한다.\n",
    "- empty: 큐가 비어있으면 1, 아니면 0을 출력한다.\n",
    "- front: 큐의 가장 앞에 있는 정수를 출력한다. 만약 큐에 들어있는 정수가 없는 경우에는 -1을 출력한다.\n",
    "- back: 큐의 가장 뒤에 있는 정수를 출력한다. 만약 큐에 들어있는 정수가 없는 경우에는 -1을 출력한다."
   ]
  },
  {
   "cell_type": "code",
   "execution_count": 2,
   "id": "390315c8-d083-4bff-92e5-12ec3626b013",
   "metadata": {},
   "outputs": [
    {
     "ename": "ValueError",
     "evalue": "invalid literal for int() with base 10: ''",
     "output_type": "error",
     "traceback": [
      "\u001b[1;31m---------------------------------------------------------------------------\u001b[0m",
      "\u001b[1;31mValueError\u001b[0m                                Traceback (most recent call last)",
      "\u001b[1;32m~\\AppData\\Local\\Temp/ipykernel_32864/3487596879.py\u001b[0m in \u001b[0;36m<module>\u001b[1;34m\u001b[0m\n\u001b[0;32m      1\u001b[0m \u001b[1;32mimport\u001b[0m \u001b[0msys\u001b[0m\u001b[1;33m\u001b[0m\u001b[1;33m\u001b[0m\u001b[0m\n\u001b[1;32m----> 2\u001b[1;33m \u001b[0mn\u001b[0m \u001b[1;33m=\u001b[0m \u001b[0mint\u001b[0m\u001b[1;33m(\u001b[0m\u001b[0msys\u001b[0m\u001b[1;33m.\u001b[0m\u001b[0mstdin\u001b[0m\u001b[1;33m.\u001b[0m\u001b[0mreadline\u001b[0m\u001b[1;33m(\u001b[0m\u001b[1;33m)\u001b[0m\u001b[1;33m)\u001b[0m\u001b[1;33m\u001b[0m\u001b[1;33m\u001b[0m\u001b[0m\n\u001b[0m\u001b[0;32m      3\u001b[0m \u001b[1;33m\u001b[0m\u001b[0m\n\u001b[0;32m      4\u001b[0m \u001b[0mqueue\u001b[0m\u001b[1;33m=\u001b[0m\u001b[1;33m[\u001b[0m\u001b[1;33m]\u001b[0m\u001b[1;33m\u001b[0m\u001b[1;33m\u001b[0m\u001b[0m\n\u001b[0;32m      5\u001b[0m \u001b[1;32mfor\u001b[0m \u001b[0mi\u001b[0m \u001b[1;32min\u001b[0m \u001b[0mrange\u001b[0m\u001b[1;33m(\u001b[0m\u001b[0mn\u001b[0m\u001b[1;33m)\u001b[0m\u001b[1;33m:\u001b[0m\u001b[1;33m\u001b[0m\u001b[1;33m\u001b[0m\u001b[0m\n",
      "\u001b[1;31mValueError\u001b[0m: invalid literal for int() with base 10: ''"
     ]
    }
   ],
   "source": [
    "import sys\n",
    "n = int(sys.stdin.readline())\n",
    "\n",
    "queue=[]\n",
    "for i in range(n):\n",
    "    command = sys.stdin.readline().split()\n",
    "\n",
    "    if command[0]=='push':\n",
    "        queue.append(command[1])\n",
    "    elif command[0]=='pop':\n",
    "        if len(queue)==0:\n",
    "            print(-1)\n",
    "        else:\n",
    "            print(queue[0])\n",
    "            queue.remove(queue[0])\n",
    "    elif command[0] == 'size':\n",
    "        print(len(queue))\n",
    "    elif command[0] == 'empty':\n",
    "        if len(queue)==0:\n",
    "            print(1)\n",
    "        else:\n",
    "            print(0)\n",
    "    elif command[0] == 'front':\n",
    "        if len(queue)==0:\n",
    "            print(-1)\n",
    "        else:\n",
    "            print(queue[0])\n",
    "    elif command[0] == 'back':\n",
    "        if len(queue) == 0:\n",
    "            print(-1)\n",
    "        else:\n",
    "            print(queue[-1])"
   ]
  }
 ],
 "metadata": {
  "kernelspec": {
   "display_name": "Python 3 (ipykernel)",
   "language": "python",
   "name": "python3"
  },
  "language_info": {
   "codemirror_mode": {
    "name": "ipython",
    "version": 3
   },
   "file_extension": ".py",
   "mimetype": "text/x-python",
   "name": "python",
   "nbconvert_exporter": "python",
   "pygments_lexer": "ipython3",
   "version": "3.9.7"
  }
 },
 "nbformat": 4,
 "nbformat_minor": 5
}
