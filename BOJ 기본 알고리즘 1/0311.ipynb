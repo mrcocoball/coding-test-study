{
 "cells": [
  {
   "cell_type": "markdown",
   "id": "97276030-6cf9-495a-9263-e8707ffc8475",
   "metadata": {},
   "source": [
    "## 괄호\n",
    "- url : https://www.acmicpc.net/problem/9012"
   ]
  },
  {
   "cell_type": "code",
   "execution_count": null,
   "id": "0a6a9b75-6de8-4aaa-add9-ade5bedd8fe2",
   "metadata": {},
   "outputs": [],
   "source": [
    "# 일단 문자열의 길이가 홀수이면 무조건 탈락\n",
    "# 문자열 맨 처음과 양 끝이 각각 (, )가 아니면 탈락\n",
    "# 문자열의 길이가 2 이상이어야 하며 1이면 탈락\n",
    "# 문자열에 포함된 ()를 공백으로 치환시켰을 때 홀수이면 탈락\n",
    "# 문자열에 ()이 없을 때까지 계속 치환\n",
    "# 결과가 ''이면 통과, 아니면 에러"
   ]
  },
  {
   "cell_type": "code",
   "execution_count": 13,
   "id": "0ae79cd4-89bf-40bf-91fb-854262bd2746",
   "metadata": {},
   "outputs": [
    {
     "name": "stdin",
     "output_type": "stream",
     "text": [
      " 1\n",
      " (((()())()\n"
     ]
    },
    {
     "name": "stdout",
     "output_type": "stream",
     "text": [
      "a (((()())()\n",
      "res \n",
      "new a \n",
      "['YES']\n"
     ]
    }
   ],
   "source": [
    "t = int(input())\n",
    "a_list = list()\n",
    "\n",
    "for i in range(t):\n",
    "    a = input()\n",
    "    if len(a) >= 2:\n",
    "        if a[0] == \"(\" and a[-1] == \")\":\n",
    "            if len(a) % 2 == 0:\n",
    "                if '()' in a:\n",
    "                    while '()' in a:\n",
    "                        print(\"a\",a)\n",
    "                        target = \"()\"\n",
    "                        ts = str.maketrans('','',target)\n",
    "                        res = a.translate(ts)\n",
    "                        print(\"res\",res)\n",
    "                        a = res\n",
    "                        print(\"new a\",a)\n",
    "                    if len(a) == 0:\n",
    "                        a_list.append(\"YES\")\n",
    "                    else:\n",
    "                        a_list.append(\"NO\")\n",
    "                else:\n",
    "                    a_list.append(\"NO\")\n",
    "            else:\n",
    "                a_list.append(\"NO\")\n",
    "        else:\n",
    "            a_list.append(\"NO\")\n",
    "    else:\n",
    "        a_list.append(\"NO\")\n",
    "\n",
    "print(a_list)"
   ]
  },
  {
   "cell_type": "code",
   "execution_count": 18,
   "id": "380f9ddc-38a8-446e-ad76-a5be22dc7326",
   "metadata": {},
   "outputs": [
    {
     "name": "stdout",
     "output_type": "stream",
     "text": [
      "\n"
     ]
    }
   ],
   "source": [
    "# https://wookcode.tistory.com/49\n",
    "\n",
    "T = int(input())\n",
    "\n",
    "for i in range(T):\n",
    "    stack = []\n",
    "    a=input()\n",
    "    for j in a:\n",
    "        if j == '(':\n",
    "            stack.append(j)\n",
    "        elif j == ')':\n",
    "            if stack:\n",
    "                stack.pop()\n",
    "            else: # 스택에 괄호가 없을경우 NO\n",
    "                print(\"NO\")\n",
    "                break\n",
    "    else: # break문으로 끊기지 않고 수행됬을경우 수행한다\n",
    "        if not stack: # break문으로 안끊기고 스택이 비어있다면 괄호가 다 맞는거다.\n",
    "            print(\"YES\")\n",
    "        else: # break안 걸렸더라도 스택에 괄호가 들어있다면 NO이다.\n",
    "            print(\"NO\")"
   ]
  }
 ],
 "metadata": {
  "kernelspec": {
   "display_name": "Python 3 (ipykernel)",
   "language": "python",
   "name": "python3"
  },
  "language_info": {
   "codemirror_mode": {
    "name": "ipython",
    "version": 3
   },
   "file_extension": ".py",
   "mimetype": "text/x-python",
   "name": "python",
   "nbconvert_exporter": "python",
   "pygments_lexer": "ipython3",
   "version": "3.9.7"
  }
 },
 "nbformat": 4,
 "nbformat_minor": 5
}
