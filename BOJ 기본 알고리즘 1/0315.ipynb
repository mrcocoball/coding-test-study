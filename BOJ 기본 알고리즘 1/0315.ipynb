{
 "cells": [
  {
   "cell_type": "markdown",
   "id": "50d92727-d334-4b75-8126-a758bc7805c9",
   "metadata": {},
   "source": [
    "## 카드 구매하기\n",
    "- url : https://www.acmicpc.net/problem/11052\n",
    "- 문제 설명 \n",
    "\n",
    "요즘 민규네 동네에서는 스타트링크에서 만든 PS카드를 모으는 것이 유행이다.\n",
    "\n",
    "PS카드는 PS(Problem Solving)분야에서 유명한 사람들의 아이디와 얼굴이 적혀있는 카드이다. 각각의 카드에는 등급을 나타내는 색이 칠해져 있고, 다음과 같이 8가지가 있다.\n",
    "\n",
    "- 전설카드\n",
    "- 레드카드\n",
    "- 오렌지카드\n",
    "- 퍼플카드\n",
    "- 블루카드\n",
    "- 청록카드\n",
    "- 그린카드\n",
    "- 그레이카드\n",
    "\n",
    "카드는 카드팩의 형태로만 구매할 수 있고, 카드팩의 종류는 카드 1개가 포함된 카드팩, 카드 2개가 포함된 카드팩, ... 카드 N개가 포함된 카드팩과 같이 총 N가지가 존재한다.\n",
    "\n",
    "민규는 카드의 개수가 적은 팩이더라도 가격이 비싸면 높은 등급의 카드가 많이 들어있을 것이라는 미신을 믿고 있다. 따라서, 민규는 돈을 최대한 많이 지불해서 카드 N개 구매하려고 한다. 카드가 i개 포함된 카드팩의 가격은 Pi원이다.\n",
    "\n",
    "예를 들어, 카드팩이 총 4가지 종류가 있고, P1 = 1, P2 = 5, P3 = 6, P4 = 7인 경우에 민규가 카드 4개를 갖기 위해 지불해야 하는 금액의 최댓값은 10원이다. 2개 들어있는 카드팩을 2번 사면 된다.\n",
    "\n",
    "P1 = 5, P2 = 2, P3 = 8, P4 = 10인 경우에는 카드가 1개 들어있는 카드팩을 4번 사면 20원이고, 이 경우가 민규가 지불해야 하는 금액의 최댓값이다.\n",
    "\n",
    "마지막으로, P1 = 3, P2 = 5, P3 = 15, P4 = 16인 경우에는 3개 들어있는 카드팩과 1개 들어있는 카드팩을 구매해 18원을 지불하는 것이 최댓값이다.\n",
    "\n",
    "카드 팩의 가격이 주어졌을 때, N개의 카드를 구매하기 위해 민규가 지불해야 하는 금액의 최댓값을 구하는 프로그램을 작성하시오. N개보다 많은 개수의 카드를 산 다음, 나머지 카드를 버려서 N개를 만드는 것은 불가능하다. 즉, 구매한 카드팩에 포함되어 있는 카드 개수의 합은 N과 같아야 한다.\n",
    "\n",
    "첫째 줄에 민규가 구매하려고 하는 카드의 개수 N이 주어진다. (1 ≤ N ≤ 1,000)\n",
    "\n",
    "둘째 줄에는 Pi가 P1부터 PN까지 순서대로 주어진다. (1 ≤ Pi ≤ 10,000)\n",
    "\n",
    "첫째 줄에 민규가 카드 N개를 갖기 위해 지불해야 하는 금액의 최댓값을 출력한다."
   ]
  },
  {
   "cell_type": "code",
   "execution_count": 4,
   "id": "76a8c793-ebbd-4687-bc5c-ca547872174d",
   "metadata": {},
   "outputs": [
    {
     "name": "stdin",
     "output_type": "stream",
     "text": [
      " 4\n",
      " 1 5 6 7\n"
     ]
    },
    {
     "name": "stdout",
     "output_type": "stream",
     "text": [
      "[0, 0, 0, 0]\n"
     ]
    }
   ],
   "source": [
    "# https://infinitt.tistory.com/250\n",
    "# https://infinitt.tistory.com/246\n",
    "\n",
    "# dp[i] = 카드 i개 구매하는 최대 가격, p[k] = k개 들어 있는 카드팩 가격\n",
    "# 카드 i개를 구매하는 최대 비용은 p[1] + dp[i-1], p[2] + dp[i-2], .... p[i] + dp[0]\n",
    "# 점화식 dp[i] = p[k] + dp[i-k]\n",
    "\n",
    "N = int(input())\n",
    "p = [0] + list(map(int,input().split()))\n",
    "dp = [0 for _ in range(N+1)]\n",
    "\n",
    "for i in range(1,N+1):\n",
    "    for k in range(1,i+1):\n",
    "        dp[i] = max(dp[i], dp[i-k] + p[k]) # 최댓값\n",
    "print(dp[i])"
   ]
  },
  {
   "cell_type": "markdown",
   "id": "81a5df06-ac49-460c-b046-ac4106588c92",
   "metadata": {},
   "source": [
    "## 카드 구매하기 2\n",
    "- url : https://www.acmicpc.net/problem/16194\n",
    "- 위에서 최솟값으로 변경"
   ]
  },
  {
   "cell_type": "code",
   "execution_count": null,
   "id": "f78d8fb4-ff29-4add-b6cb-ea4b074d1841",
   "metadata": {},
   "outputs": [],
   "source": []
  },
  {
   "cell_type": "markdown",
   "id": "3ac2e3dd-44d9-494c-a6e4-803c36944738",
   "metadata": {},
   "source": [
    "## DP 공부 방법 관련\n",
    "\n",
    "- url : https://www.acmicpc.net/board/view/22717\n",
    "- DP 적용 조건 : https://infinitt.tistory.com/246"
   ]
  },
  {
   "cell_type": "code",
   "execution_count": null,
   "id": "1ff208b0-908c-4b7a-8580-79d0cde8c626",
   "metadata": {
    "tags": []
   },
   "outputs": [],
   "source": [
    "## 2*n 타일링\n",
    "- url : https://www.acmicpc.net/problem/11726"
   ]
  },
  {
   "cell_type": "code",
   "execution_count": 16,
   "id": "6b0c113d-e1fc-41c5-8bc9-e16083a677eb",
   "metadata": {},
   "outputs": [
    {
     "name": "stdin",
     "output_type": "stream",
     "text": [
      " 12\n"
     ]
    },
    {
     "name": "stdout",
     "output_type": "stream",
     "text": [
      "233\n"
     ]
    }
   ],
   "source": [
    "# dp 점화식 구해보기\n",
    "# dp(1) = 1 (2*1 1가지)\n",
    "# dp(2) = 2 (2*1로만 1가지, 1*2로만 1가지 => 2가지)\n",
    "# dp(3) = dp(2) + dp(1)\n",
    "# dp(4) = dp(3) + dp(2)\n",
    "# dp(n) = dp(n-1) + dp(n-2)\n",
    "\n",
    "n = int(input())\n",
    "\n",
    "dp = [0] * 1001\n",
    "dp[1] = 1\n",
    "dp[2] = 2\n",
    "for index in range(3, 1001):\n",
    "    dp[index] = dp[index-1] + dp[index-2]\n",
    "\n",
    "print(dp[n] % 10007)"
   ]
  },
  {
   "cell_type": "markdown",
   "id": "5fd03870-e0ea-40e3-9c74-9f29a462e627",
   "metadata": {},
   "source": [
    "## 카드 2 [시간 초과]\n",
    "- url : https://www.acmicpc.net/problem/2164\n",
    "- 문제 설명\n",
    "\n",
    "N장의 카드가 있다. 각각의 카드는 차례로 1부터 N까지의 번호가 붙어 있으며, 1번 카드가 제일 위에, N번 카드가 제일 아래인 상태로 순서대로 카드가 놓여 있다.\n",
    "\n",
    "이제 다음과 같은 동작을 카드가 한 장 남을 때까지 반복하게 된다. 우선, 제일 위에 있는 카드를 바닥에 버린다. 그 다음, 제일 위에 있는 카드를 제일 아래에 있는 카드 밑으로 옮긴다.\n",
    "\n",
    "예를 들어 N=4인 경우를 생각해 보자. 카드는 제일 위에서부터 1234 의 순서로 놓여있다. 1을 버리면 234가 남는다. 여기서 2를 제일 아래로 옮기면 342가 된다. 3을 버리면 42가 되고, 4를 밑으로 옮기면 24가 된다. 마지막으로 2를 버리고 나면, 남는 카드는 4가 된다.\n",
    "\n",
    "N이 주어졌을 때, 제일 마지막에 남게 되는 카드를 구하는 프로그램을 작성하시오."
   ]
  },
  {
   "cell_type": "code",
   "execution_count": 35,
   "id": "2d7f387c-1182-4a0d-b919-2baa1885c198",
   "metadata": {},
   "outputs": [
    {
     "name": "stdin",
     "output_type": "stream",
     "text": [
      " 9\n"
     ]
    },
    {
     "name": "stdout",
     "output_type": "stream",
     "text": [
      "2\n"
     ]
    }
   ],
   "source": [
    "from collections import deque\n",
    "\n",
    "t = int(input())\n",
    "\n",
    "num_list = deque([i for i in range(1, t+1)])\n",
    "\n",
    "# 시간 초과하여 deque 사용\n",
    "while len(num_list) > 1:\n",
    "    num_list.popleft() # 맨앞 제거\n",
    "    last_num = num_list.popleft() # 맨앞 제거 한번 더, 이 떄 반환된 값\n",
    "    num_list.append(last_num)\n",
    "    \n",
    "print(num_list[0])"
   ]
  }
 ],
 "metadata": {
  "kernelspec": {
   "display_name": "Python 3 (ipykernel)",
   "language": "python",
   "name": "python3"
  },
  "language_info": {
   "codemirror_mode": {
    "name": "ipython",
    "version": 3
   },
   "file_extension": ".py",
   "mimetype": "text/x-python",
   "name": "python",
   "nbconvert_exporter": "python",
   "pygments_lexer": "ipython3",
   "version": "3.9.7"
  }
 },
 "nbformat": 4,
 "nbformat_minor": 5
}
