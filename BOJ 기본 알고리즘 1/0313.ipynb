{
 "cells": [
  {
   "cell_type": "markdown",
   "id": "cd695de4-4a25-46b9-ad34-46c0c7e435ee",
   "metadata": {},
   "source": [
    "## 최대 공약수와 최소 공배수\n",
    "- url : https://www.acmicpc.net/problem/2609\n",
    "- 문제 설명\n",
    "\n",
    "두 개의 자연수를 입력받아 최대 공약수와 최소 공배수를 출력하는 프로그램을 작성하시오."
   ]
  },
  {
   "cell_type": "code",
   "execution_count": 31,
   "id": "7a826e7a-0cef-4f1c-848a-5243b0402efd",
   "metadata": {},
   "outputs": [
    {
     "name": "stdin",
     "output_type": "stream",
     "text": [
      " 15 27\n"
     ]
    },
    {
     "name": "stdout",
     "output_type": "stream",
     "text": [
      "0\n",
      "0\n"
     ]
    }
   ],
   "source": [
    "a,b = map(int,input().split())\n",
    "\n",
    "# 최대공약수\n",
    "# a & b의 최대 공약수는 b & a를 b로 나눈 나머지의 최대 공약수 (유클리드 호제법)\n",
    "def gcd(a, b):\n",
    "    while b > 0:\n",
    "        a, b = b, a % b\n",
    "    return a\n",
    "\n",
    "# 최소공배수 \n",
    "# a와 b의 곱을 a와 b의 최대 공약수로 나눈 값\n",
    "def lcm(a, b):\n",
    "    return a * b // gcd(a, b)\n",
    "\n",
    "\n",
    "print(gcd(a, b))\n",
    "print(lcm(a, b))"
   ]
  },
  {
   "cell_type": "markdown",
   "id": "b939de16-c698-44fc-88e4-a0dff90218ca",
   "metadata": {},
   "source": [
    "## 최소공배수\n",
    "- url : https://www.acmicpc.net/problem/1934\n",
    "- 문제 설명\n",
    "\n",
    "두 자연수 A와 B에 대해서, A의 배수이면서 B의 배수인 자연수를 A와 B의 공배수라고 한다. 이런 공배수 중에서 가장 작은 수를 최소공배수라고 한다. 예를 들어, 6과 15의 공배수는 30, 60, 90등이 있으며, 최소 공배수는 30이다.\n",
    "\n",
    "두 자연수 A와 B가 주어졌을 때, A와 B의 최소공배수를 구하는 프로그램을 작성하시오."
   ]
  },
  {
   "cell_type": "code",
   "execution_count": 1,
   "id": "5520dff3-3809-4867-ae3f-d2d31aa69d76",
   "metadata": {},
   "outputs": [
    {
     "name": "stdin",
     "output_type": "stream",
     "text": [
      " 3\n"
     ]
    },
    {
     "ename": "ValueError",
     "evalue": "invalid literal for int() with base 10: ''",
     "output_type": "error",
     "traceback": [
      "\u001b[1;31m---------------------------------------------------------------------------\u001b[0m",
      "\u001b[1;31mValueError\u001b[0m                                Traceback (most recent call last)",
      "\u001b[1;32m~\\AppData\\Local\\Temp/ipykernel_37204/3434396564.py\u001b[0m in \u001b[0;36m<module>\u001b[1;34m\u001b[0m\n\u001b[0;32m     16\u001b[0m \u001b[1;33m\u001b[0m\u001b[0m\n\u001b[0;32m     17\u001b[0m \u001b[1;32mfor\u001b[0m \u001b[0mi\u001b[0m \u001b[1;32min\u001b[0m \u001b[0mrange\u001b[0m\u001b[1;33m(\u001b[0m\u001b[0mt\u001b[0m\u001b[1;33m)\u001b[0m\u001b[1;33m:\u001b[0m\u001b[1;33m\u001b[0m\u001b[1;33m\u001b[0m\u001b[0m\n\u001b[1;32m---> 18\u001b[1;33m     \u001b[0mc\u001b[0m \u001b[1;33m=\u001b[0m \u001b[0mlist\u001b[0m\u001b[1;33m(\u001b[0m\u001b[0mmap\u001b[0m\u001b[1;33m(\u001b[0m\u001b[0mint\u001b[0m\u001b[1;33m,\u001b[0m \u001b[0msys\u001b[0m\u001b[1;33m.\u001b[0m\u001b[0mstdin\u001b[0m\u001b[1;33m.\u001b[0m\u001b[0mreadline\u001b[0m\u001b[1;33m(\u001b[0m\u001b[1;33m)\u001b[0m\u001b[1;33m.\u001b[0m\u001b[0msplit\u001b[0m\u001b[1;33m(\u001b[0m\u001b[1;34m' '\u001b[0m\u001b[1;33m)\u001b[0m\u001b[1;33m)\u001b[0m\u001b[1;33m)\u001b[0m\u001b[1;33m\u001b[0m\u001b[1;33m\u001b[0m\u001b[0m\n\u001b[0m\u001b[0;32m     19\u001b[0m     \u001b[0mprint\u001b[0m\u001b[1;33m(\u001b[0m\u001b[0mlcm\u001b[0m\u001b[1;33m(\u001b[0m\u001b[0mc\u001b[0m\u001b[1;33m[\u001b[0m\u001b[1;36m0\u001b[0m\u001b[1;33m]\u001b[0m\u001b[1;33m,\u001b[0m \u001b[0mc\u001b[0m\u001b[1;33m[\u001b[0m\u001b[1;36m1\u001b[0m\u001b[1;33m]\u001b[0m\u001b[1;33m)\u001b[0m\u001b[1;33m)\u001b[0m\u001b[1;33m\u001b[0m\u001b[1;33m\u001b[0m\u001b[0m\n",
      "\u001b[1;31mValueError\u001b[0m: invalid literal for int() with base 10: ''"
     ]
    }
   ],
   "source": [
    "import sys\n",
    "\n",
    "t = int(input())\n",
    "\n",
    "# 최대공약수\n",
    "# a & b의 최대 공약수는 b & a를 b로 나눈 나머지의 최대 공약수 (유클리드 호제법)\n",
    "def gcd(a, b):\n",
    "    while b > 0:\n",
    "        a, b = b, a % b\n",
    "    return a\n",
    "\n",
    "# 최소공배수 \n",
    "# a와 b의 곱을 a와 b의 최대 공약수로 나눈 값\n",
    "def lcm(a, b):\n",
    "    return a * b // gcd(a, b)\n",
    "\n",
    "for i in range(t):\n",
    "    c = list(map(int, sys.stdin.readline().split(' ')))\n",
    "    print(lcm(c[0], c[1]))"
   ]
  },
  {
   "cell_type": "markdown",
   "id": "15dce4ea-4c79-485f-a84d-04196daa8e35",
   "metadata": {},
   "source": [
    "## 소수 구하기 [시간초과]\n",
    "- url : https://www.acmicpc.net/problem/1929\n",
    "- 문제 설명\n",
    "\n",
    "M이상 N이하의 소수를 모두 출력하는 프로그램을 작성하시오."
   ]
  },
  {
   "cell_type": "code",
   "execution_count": 11,
   "id": "e87494d7-104a-4cfa-8bd9-a76b691c95ef",
   "metadata": {},
   "outputs": [
    {
     "name": "stdin",
     "output_type": "stream",
     "text": [
      " 3 16\n"
     ]
    },
    {
     "name": "stdout",
     "output_type": "stream",
     "text": [
      "3\n",
      "5\n",
      "7\n",
      "11\n",
      "13\n"
     ]
    }
   ],
   "source": [
    "n = list(map(int, input().split(' ')))\n",
    "\n",
    "for num in range(n[0], n[1]+1):\n",
    "    error = 0\n",
    "    if num > 1 :\n",
    "        for i in range(2, num):  # 2부터 n-1까지\n",
    "            if num % i == 0:\n",
    "                error += 1  # 2부터 n-1까지 나눈 몫이 0이면 error가 증가\n",
    "                break\n",
    "        if error == 0:\n",
    "            print(i+1)"
   ]
  },
  {
   "cell_type": "code",
   "execution_count": null,
   "id": "acd1dc65-b48a-413d-b7a2-40d419f4b9c0",
   "metadata": {},
   "outputs": [],
   "source": [
    "# 에라\n",
    "\n",
    "m,n=map(int,input().split())\n",
    "\n",
    "for i in range(m,n+1):\n",
    "    if i==1:#1은 소수가 아니므로 제외\n",
    "        continue\n",
    "    for j in range(2,int(i**0.5)+1):\n",
    "        if i%j==0: #약수가 존재하므로 소수가 아님\n",
    "            break   #더이상 검사할 필요가 없으므로 멈춤\n",
    "    else:\n",
    "        print(i)"
   ]
  },
  {
   "cell_type": "markdown",
   "id": "8d56ce9e-c6ff-4fb1-a255-6b9055b9165a",
   "metadata": {},
   "source": [
    "## 팩토리얼 0의 개수\n",
    "- url : https://www.acmicpc.net/problem/1676\n",
    "- 문제 설명\n",
    "\n",
    "N!에서 뒤에서부터 처음 0이 아닌 숫자가 나올 때까지 0의 개수를 구하는 프로그램을 작성하시오."
   ]
  },
  {
   "cell_type": "code",
   "execution_count": 22,
   "id": "8cdf4a2e-e1e0-43c2-9141-fdcff11e0c77",
   "metadata": {},
   "outputs": [
    {
     "name": "stdin",
     "output_type": "stream",
     "text": [
      " 3\n"
     ]
    },
    {
     "name": "stdout",
     "output_type": "stream",
     "text": [
      "0\n"
     ]
    }
   ],
   "source": [
    "t = int(input())\n",
    "\n",
    "def factorial(a):\n",
    "    if a == 0:\n",
    "        return 1\n",
    "    elif a == 1 :\n",
    "        return 1\n",
    "    elif a == 2:\n",
    "        return 2\n",
    "    else:\n",
    "        return a * factorial(a-1)\n",
    "    \n",
    "answer = str(factorial(t))[::-1]\n",
    "count = 0\n",
    "stop = False\n",
    "i = 0\n",
    "while stop == False:\n",
    "    if answer[i] == \"0\":\n",
    "        count += 1\n",
    "        i += 1\n",
    "    else:\n",
    "        stop = True\n",
    "\n",
    "print(count)"
   ]
  }
 ],
 "metadata": {
  "kernelspec": {
   "display_name": "Python 3 (ipykernel)",
   "language": "python",
   "name": "python3"
  },
  "language_info": {
   "codemirror_mode": {
    "name": "ipython",
    "version": 3
   },
   "file_extension": ".py",
   "mimetype": "text/x-python",
   "name": "python",
   "nbconvert_exporter": "python",
   "pygments_lexer": "ipython3",
   "version": "3.9.7"
  }
 },
 "nbformat": 4,
 "nbformat_minor": 5
}
