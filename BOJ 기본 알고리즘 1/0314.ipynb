{
 "cells": [
  {
   "cell_type": "markdown",
   "id": "023354f5-0dc2-4ff6-86ea-d62e46e578b1",
   "metadata": {},
   "source": [
    "## 골드바흐 추측 [시간 초과]\n",
    "- url : https://www.acmicpc.net/problem/6588\n",
    "- 문제 설명\n",
    "\n",
    "1742년, 독일의 아마추어 수학가 크리스티안 골드바흐는 레온하르트 오일러에게 다음과 같은 추측을 제안하는 편지를 보냈다.\n",
    "\n",
    "4보다 큰 모든 짝수는 두 홀수 소수의 합으로 나타낼 수 있다.\n",
    "예를 들어 8은 3 + 5로 나타낼 수 있고, 3과 5는 모두 홀수인 소수이다. 또, 20 = 3 + 17 = 7 + 13, 42 = 5 + 37 = 11 + 31 = 13 + 29 = 19 + 23 이다.\n",
    "\n",
    "이 추측은 아직도 해결되지 않은 문제이다.\n",
    "\n",
    "백만 이하의 모든 짝수에 대해서, 이 추측을 검증하는 프로그램을 작성하시오."
   ]
  },
  {
   "cell_type": "code",
   "execution_count": null,
   "id": "89451b5a-f1e9-455f-8dd2-0e5b89173cf1",
   "metadata": {},
   "outputs": [],
   "source": [
    "import sys\n",
    "\n",
    "#t = int(input())\n",
    "t = int(sys.stdin.readline())\n",
    "\n",
    "valid = False\n",
    "count = False\n",
    "\n",
    "if t > 0:\n",
    "    for i in range(t):\n",
    "        if i==1:#1은 소수가 아니므로 제외\n",
    "            continue\n",
    "        for j in range(2,int(i**0.5)+1):\n",
    "            if i%j==0: #약수가 존재하므로 소수가 아님\n",
    "                break   #더이상 검사할 필요가 없으므로 멈춤\n",
    "        else:\n",
    "            # i가 소수인 상황\n",
    "            k = t-i\n",
    "            # k가 소수인지 검증\n",
    "            k_true = True\n",
    "            for l in range(2, int(k**0.5)+1):\n",
    "                if k%l==0:\n",
    "                    k_true = False\n",
    "                    break\n",
    "            if k_true == True:\n",
    "                if count == False:\n",
    "                    print(str(t) + \" = \" + str(i) + \" + \" + str(k))\n",
    "                    valid = True\n",
    "                    count = True\n",
    "    if valid == False:\n",
    "        print(\"Goldbach's conjecture is wrong.\")\n",
    "\n"
   ]
  },
  {
   "cell_type": "code",
   "execution_count": 61,
   "id": "f040492e-ccbb-41c8-9184-fbb3f0830011",
   "metadata": {},
   "outputs": [
    {
     "name": "stdin",
     "output_type": "stream",
     "text": [
      " 42\n"
     ]
    },
    {
     "name": "stdout",
     "output_type": "stream",
     "text": [
      "42 = 5 + 37\n"
     ]
    }
   ],
   "source": [
    "import sys\n",
    "\n",
    "#t = int(input())\n",
    "t = int(sys.stdin.readline())\n",
    "\n",
    "sosu = list()\n",
    "\n",
    "valid = False\n",
    "\n",
    "if t > 0:\n",
    "    for i in range(t):\n",
    "        if i==1:#1은 소수가 아니므로 제외\n",
    "            continue\n",
    "        for j in range(2,int(i**0.5)+1):\n",
    "            if i%j==0: #약수가 존재하므로 소수가 아님\n",
    "                break   #더이상 검사할 필요가 없으므로 멈춤\n",
    "        else:\n",
    "            sosu.append(i) # t까지의 소수 리스트 출력\n",
    "    \n",
    "    init_0 = 0\n",
    "    init_1 = t\n",
    "    init = int(t/2)\n",
    "    for i in range(init):\n",
    "        if init_0+i in sosu and init_1-i in sosu:\n",
    "            print(str(t) + \" = \" + str(init_0+i) + \" + \" + str(init_1-i))\n",
    "            valid = True\n",
    "            break\n",
    "            \n",
    "if valid == False:\n",
    "    print(\"Goldbach's conjecture is wrong.\")"
   ]
  },
  {
   "cell_type": "code",
   "execution_count": null,
   "id": "2590bc69-2537-4bc0-9c8b-3aa26c309dc6",
   "metadata": {},
   "outputs": [],
   "source": [
    "# https://infinitt.tistory.com/238\n",
    "\n",
    "r= 1000000\n",
    "\n",
    "check = [True for _ in range(r)]\n",
    "\n",
    "for i in range(2,int(r**0.6)):\n",
    "    if check[i]==True:\n",
    "        for j in range(i*2, r, i) : \n",
    "            if check[j] == True :\n",
    "                check[j] = False            #에라토스테네스의 체\n",
    "\n",
    "\n",
    "import sys\n",
    "input = sys.stdin.readline\n",
    "\n",
    "\n",
    "while(True):                               #입력받은 수가 에라토스테네스의 체에 속하는지, 즉 소수인지\n",
    "    n = int(input())\n",
    "\n",
    "    if n==0 : break\n",
    "    for i in range(3,r):\n",
    "        if check[i] == True:\n",
    "            if check[n-i] == True :\n",
    "                print(\"%d = %d + %d\"%(n , i , n-i))\n",
    "                break"
   ]
  },
  {
   "cell_type": "markdown",
   "id": "b04bd200-238b-46f7-80be-f481bbfab328",
   "metadata": {},
   "source": [
    "## 조합 0의 개수 [GG]\n",
    "- url : https://www.acmicpc.net/problem/2004\n",
    "- 문제 설명\n",
    "\n",
    " \n",
    "$n \\choose m$의 끝자리 \n",
    "$0$의 개수를 출력하는 프로그램을 작성하시오."
   ]
  },
  {
   "cell_type": "markdown",
   "id": "74ca800d-f8d9-45d8-adad-7e3bcbffccba",
   "metadata": {},
   "source": [
    "nCr = nPr / n!\n",
    "nPr = n! / (n-r)!"
   ]
  },
  {
   "cell_type": "code",
   "execution_count": 91,
   "id": "1a157960-cd9f-4d1a-9bc9-e3deb40c1cde",
   "metadata": {},
   "outputs": [
    {
     "name": "stdin",
     "output_type": "stream",
     "text": [
      " 25 12\n"
     ]
    },
    {
     "name": "stdout",
     "output_type": "stream",
     "text": [
      "2\n"
     ]
    }
   ],
   "source": [
    "def factorial(a):\n",
    "    if a == 0:\n",
    "        return 1\n",
    "    elif a == 1 :\n",
    "        return 1\n",
    "    elif a == 2:\n",
    "        return 2\n",
    "    else:\n",
    "        return a * factorial(a-1)\n",
    "\n",
    "def nHr(n, r):\n",
    "    return int(factorial(n+r-1) / (factorial(n+r-1-r) * factorial(r)))\n",
    "\n",
    "t = list(map(int, input().split(' ')))\n",
    "n = t[0]\n",
    "r = t[1]\n",
    "\n",
    "answer = str(nHr(n, r))\n",
    "print(answer.count('0'))"
   ]
  },
  {
   "cell_type": "code",
   "execution_count": null,
   "id": "c49ca58d-8a58-4009-8f93-c4d3aec7893e",
   "metadata": {},
   "outputs": [],
   "source": [
    "# https://deok2kim.tistory.com/195\n",
    "\n",
    "N, M = map(int, input().split())\n",
    "\n",
    "\n",
    "# 진짜 팩토리얼로 구해서 문제를 해결하게 되면 시간초과 발생\n",
    "# 끝자리가 0이라는 것은 10의 배수\n",
    "# 10은 2와 5로 구성되어 있음\n",
    "# 2와 5 짝이 맞아야 10이 되므로 2의 개수와 5의 개수중 더 작은게 10의 개수이다.\n",
    "\n",
    "def count_number(n, k):\n",
    "    count = 0\n",
    "    while n:\n",
    "        n //= k\n",
    "        count += n\n",
    "    return count\n",
    "\n",
    "\n",
    "five_count = count_number(N, 5) - count_number(M, 5) - count_number(N - M, 5)\n",
    "two_count = count_number(N, 2) - count_number(M, 2) - count_number(N - M, 2)\n",
    "\n",
    "answer = min(five_count, two_count)\n",
    "print(answer)"
   ]
  }
 ],
 "metadata": {
  "kernelspec": {
   "display_name": "Python 3 (ipykernel)",
   "language": "python",
   "name": "python3"
  },
  "language_info": {
   "codemirror_mode": {
    "name": "ipython",
    "version": 3
   },
   "file_extension": ".py",
   "mimetype": "text/x-python",
   "name": "python",
   "nbconvert_exporter": "python",
   "pygments_lexer": "ipython3",
   "version": "3.9.7"
  }
 },
 "nbformat": 4,
 "nbformat_minor": 5
}
