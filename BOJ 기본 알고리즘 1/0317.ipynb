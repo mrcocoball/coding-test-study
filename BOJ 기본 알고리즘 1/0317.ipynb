{
 "cells": [
  {
   "cell_type": "markdown",
   "id": "3c0074db-b5f2-49fa-841e-41b075a0c705",
   "metadata": {},
   "source": [
    "## 제로\n",
    "- url : https://www.acmicpc.net/problem/10773"
   ]
  },
  {
   "cell_type": "code",
   "execution_count": 4,
   "id": "4c7d6dd8-4c10-49ea-835d-4f58af503506",
   "metadata": {},
   "outputs": [
    {
     "name": "stdin",
     "output_type": "stream",
     "text": [
      " 4\n",
      " 3\n",
      " 0\n",
      " 4\n",
      " 0\n"
     ]
    },
    {
     "name": "stdout",
     "output_type": "stream",
     "text": [
      "0\n"
     ]
    }
   ],
   "source": [
    "t = int(input())\n",
    "a_stack = list()\n",
    "\n",
    "for i in range(t):\n",
    "    a = int(input())\n",
    "    if a == 0:\n",
    "        if len(a_stack) == 0:\n",
    "            a_stack.append(0)\n",
    "        else:\n",
    "            a_stack.pop()\n",
    "    else:\n",
    "        a_stack.append(a)\n",
    "\n",
    "print(sum(a_stack))"
   ]
  }
 ],
 "metadata": {
  "kernelspec": {
   "display_name": "Python 3 (ipykernel)",
   "language": "python",
   "name": "python3"
  },
  "language_info": {
   "codemirror_mode": {
    "name": "ipython",
    "version": 3
   },
   "file_extension": ".py",
   "mimetype": "text/x-python",
   "name": "python",
   "nbconvert_exporter": "python",
   "pygments_lexer": "ipython3",
   "version": "3.9.7"
  }
 },
 "nbformat": 4,
 "nbformat_minor": 5
}
