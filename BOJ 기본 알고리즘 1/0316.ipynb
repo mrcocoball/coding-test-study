{
 "cells": [
  {
   "cell_type": "markdown",
   "id": "6eddeff1-6e8a-4ce9-8c93-779fee8a433a",
   "metadata": {
    "tags": []
   },
   "source": [
    "# 1,2,3 더하기\n",
    "- url : https://www.acmicpc.net/problem/9095"
   ]
  },
  {
   "cell_type": "markdown",
   "id": "213c23bf-aec6-42dd-aaf9-3eef83b69af6",
   "metadata": {},
   "source": [
    "dp(1) = 1 -> 1\n",
    "dp(2) = 1+1, 2 -> 2\n",
    "dp(3) = 1, 2+1인 경우, 1+2인 경우, 3인 경우 -> 4\n",
    "dp(4) = 1, 3+1인 경우, 1+3인 경우, 2+2인 경우, 4인 경우 -> 1(dp(1)) + 4(dp(3)) + 2(dp(2))\n",
    "dp(5) = 1, 4+1인 경우, 1+4인 경우, 2+3인 경우, 3+2인 경우 -> 1(dp(1) + dp(4) + dp(3)\n",
    "dp(6) = 1, 5+1인 경우, 1+5인 경우, 2+4인 경우, 4+2인 경우, 3+3인 경우"
   ]
  },
  {
   "cell_type": "code",
   "execution_count": 5,
   "id": "957d2263-41a4-4af1-9665-7bca4664dc4d",
   "metadata": {},
   "outputs": [
    {
     "name": "stdout",
     "output_type": "stream",
     "text": [
      "274\n"
     ]
    }
   ],
   "source": [
    "import sys\n",
    "\n",
    "dp = [0 for _ in range(12)]\n",
    "\n",
    "dp[1] = 1\n",
    "dp[2] = 2\n",
    "dp[3] = 4\n",
    "\n",
    "for i in range(4, 12):\n",
    "    dp[i] = dp[i-3] + dp[i-2] + dp[i-1]\n",
    "\n",
    "t = int(input())\n",
    "\n",
    "for i in range(t):\n",
    "    k = int(sys.stdin.readline())\n",
    "    print(dp[k])"
   ]
  },
  {
   "cell_type": "markdown",
   "id": "7ce2ecaf-0814-4aae-b9e2-f3f98d1eff16",
   "metadata": {},
   "source": [
    "## 1,2,3 더하기 5[GG]\n",
    "- url : https://www.acmicpc.net/problem/15990"
   ]
  },
  {
   "cell_type": "code",
   "execution_count": 38,
   "id": "a192aec4-b50d-48c1-a634-d8d9372cb01d",
   "metadata": {},
   "outputs": [
    {
     "ename": "SyntaxError",
     "evalue": "cannot assign to function call (Temp/ipykernel_33164/3036252841.py, line 1)",
     "output_type": "error",
     "traceback": [
      "\u001b[1;36m  File \u001b[1;32m\"C:\\Users\\Hwang\\AppData\\Local\\Temp/ipykernel_33164/3036252841.py\"\u001b[1;36m, line \u001b[1;32m1\u001b[0m\n\u001b[1;33m    dp(1) = 1 -> 1\u001b[0m\n\u001b[1;37m    ^\u001b[0m\n\u001b[1;31mSyntaxError\u001b[0m\u001b[1;31m:\u001b[0m cannot assign to function call\n"
     ]
    }
   ],
   "source": [
    "dp(1) = 1 -> 1\n",
    "dp(2) = 2 -> 1\n",
    "dp(3) = 2+1인 경우, 1+2인 경우, 3인 경우 -> 3\n",
    "dp(4) = 3+1인 경우, 1+3인 경우 -> dp(3) 3\n",
    "dp(5) = 4+1인 경우, 1+4인 경우, 2+3인 경우, 3+2인 경우 -> dp(4) + dp(3) 4 3\n",
    "dp(6) = 5+1인 경우, 1+5인 경우, 4+2인 경우, 2+4인 경우 -> dp(5) + dp(4) 5 4\n",
    "dp(7) = 6+1인 경우, 1+6인 경우, 5+2인 경우, 2+5인 경우, 3+4인 경우, 4+3인 경우 -> dp(6) + dP(5) + dp(4) 6 5 4\n",
    "dp(8) = 7+1인 경우, 6+2인 경우, 5+3인 경우 -> dp(7)+dp(6)+dp(5) 7 6 5\n",
    "dp(9) = 8+1인 경우, 7+2인 경우, 6+3인 경우, 5+4인 경우 -> dp(8) + dp(7) + dp(6) + dp(5) 8 7 6 5\n",
    "dp(10) = 9+1 / 8+2 / 7+3 / 6+4 -> dp(9) + dp(8) + dp(7) + dp(6) 9 8 7 6\n",
    "dp(11) = 10+1 / 9+2 / 8+3 / 7+4 / 6+5 -> 10 9 8 7 6\n",
    "dp(12) = 11+1 / 10+2 / 9+3 / 8+4 / 7+5 -> 11 10 9 8 7...\n",
    "\n",
    "#홀수일 경우\n",
    "dp(n) = 2 * dp(n-1) -1 \n",
    "#짝수일 경우\n",
    "dp(n) = for i in range(n-(n/2)+1, n): # n-(n/2)+1부터 n-1까지 dp의 합"
   ]
  },
  {
   "cell_type": "code",
   "execution_count": 59,
   "id": "9e305ca3-18b9-45a3-9c07-59ab9d125f27",
   "metadata": {},
   "outputs": [
    {
     "name": "stdin",
     "output_type": "stream",
     "text": [
      " 7\n"
     ]
    },
    {
     "name": "stdout",
     "output_type": "stream",
     "text": [
      "9\n"
     ]
    }
   ],
   "source": [
    "dp = [0 for _ in range(100)]\n",
    "\n",
    "dp[1] = 1\n",
    "dp[2] = 2\n",
    "dp[3] = 3\n",
    "dp[4] = 3\n",
    "\n",
    "t = int(input())\n",
    "\n",
    "for i in range(5, 100):\n",
    "    if i % 2 != 0:\n",
    "        total = 0\n",
    "        for j in range(i-int(i/2)+1, i):\n",
    "            total += dp[j]\n",
    "        dp[i] = total\n",
    "    else:\n",
    "        total = 0\n",
    "        for j in range(i-int((i-1)/2), i):\n",
    "            total += dp[j]\n",
    "        dp[i] = total\n",
    "\n",
    "print(dp[t])"
   ]
  },
  {
   "cell_type": "markdown",
   "id": "47ba59f5-40ae-4716-a83f-f8fbcef64cef",
   "metadata": {},
   "source": [
    "## 1,2,3 더하기 3 [메모리 초과]\n",
    "- url : https://www.acmicpc.net/problem/15988"
   ]
  },
  {
   "cell_type": "code",
   "execution_count": null,
   "id": "a34a8c2b-ad6d-40da-9ae4-518f654db80b",
   "metadata": {},
   "outputs": [],
   "source": [
    "import sys\n",
    "\n",
    "dp = [0 for _ in range(1000001)]\n",
    "\n",
    "dp[1] = 1\n",
    "dp[2] = 2\n",
    "dp[3] = 4\n",
    "\n",
    "for i in range(4, 1000001):\n",
    "    dp[i] = dp[i-3] + dp[i-2] + dp[i-1]\n",
    "\n",
    "t = int(input())\n",
    "\n",
    "for i in range(t):\n",
    "    k = int(sys.stdin.readline())\n",
    "    print(dp[k]%1000000009)"
   ]
  },
  {
   "cell_type": "code",
   "execution_count": null,
   "id": "fdba5bad-123d-40ff-a3d1-86269b67b3a0",
   "metadata": {},
   "outputs": [],
   "source": [
    "import sys\n",
    "input = sys.stdin.readline\n",
    "\n",
    "dp = [1,2,4,7]\n",
    "for i in range(int(input())):\n",
    "    n = int(input())\n",
    "    for j in range(len(dp), n):\n",
    "        dp.append((dp[-3]+dp[-2]+dp[-1])%1000000009)\n",
    "    print(dp[n-1])"
   ]
  }
 ],
 "metadata": {
  "kernelspec": {
   "display_name": "Python 3 (ipykernel)",
   "language": "python",
   "name": "python3"
  },
  "language_info": {
   "codemirror_mode": {
    "name": "ipython",
    "version": 3
   },
   "file_extension": ".py",
   "mimetype": "text/x-python",
   "name": "python",
   "nbconvert_exporter": "python",
   "pygments_lexer": "ipython3",
   "version": "3.9.7"
  }
 },
 "nbformat": 4,
 "nbformat_minor": 5
}
