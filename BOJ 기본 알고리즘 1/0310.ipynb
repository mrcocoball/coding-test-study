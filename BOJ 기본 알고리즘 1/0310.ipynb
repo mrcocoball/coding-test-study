{
 "cells": [
  {
   "cell_type": "markdown",
   "id": "215845ee-c46c-4c74-8261-4eeb78c8a57a",
   "metadata": {},
   "source": [
    "## 스택\n",
    "- url : https://www.acmicpc.net/problem/10828\n",
    "- 문제 설명:\n",
    "\n",
    "정수를 저장하는 스택을 구현한 다음, 입력으로 주어지는 명령을 처리하는 프로그램을 작성하시오.\n",
    "\n",
    "명령은 총 다섯 가지이다.\n",
    "\n",
    "- push X: 정수 X를 스택에 넣는 연산이다.\n",
    "- pop: 스택에서 가장 위에 있는 정수를 빼고, 그 수를 출력한다. 만약 스택에 들어있는 정수가 없는 경우에는 -1을 출력한다.\n",
    "- size: 스택에 들어있는 정수의 개수를 출력한다.\n",
    "- empty: 스택이 비어있으면 1, 아니면 0을 출력한다.\n",
    "- top: 스택의 가장 위에 있는 정수를 출력한다. 만약 스택에 들어있는 정수가 없는 경우에는 -1을 출력한다.\n",
    "\n",
    "첫째 줄에 주어지는 명령의 수 N (1 ≤ N ≤ 10,000)이 주어진다. 둘째 줄부터 N개의 줄에는 명령이 하나씩 주어진다. 주어지는 정수는 1보다 크거나 같고, 100,000보다 작거나 같다. 문제에 나와있지 않은 명령이 주어지는 경우는 없다."
   ]
  },
  {
   "cell_type": "code",
   "execution_count": 19,
   "id": "507f12bf-6fec-458b-ba88-50fc44782221",
   "metadata": {},
   "outputs": [
    {
     "name": "stdin",
     "output_type": "stream",
     "text": [
      " 14\n",
      " push 1\n",
      " push 2\n",
      " top\n",
      " size\n",
      " empty\n",
      " pop\n",
      " pop\n",
      " pop\n",
      " size\n",
      " empty\n",
      " pop\n",
      " push 3\n",
      " empty\n",
      " top\n"
     ]
    },
    {
     "name": "stdout",
     "output_type": "stream",
     "text": [
      "2\n",
      "2\n",
      "0\n",
      "2\n",
      "1\n",
      "-1\n",
      "0\n",
      "1\n",
      "-1\n",
      "0\n",
      "3\n"
     ]
    }
   ],
   "source": [
    "import sys\n",
    "\n",
    "t = int(input())\n",
    "answer_stack = list()\n",
    "answer_list = list()\n",
    "\n",
    "def push(a, s):\n",
    "    s.append(a)\n",
    "\n",
    "def top(s):\n",
    "    if len(s) == 0:\n",
    "        return -1\n",
    "    else:\n",
    "        return s[-1]\n",
    "    \n",
    "def size(s):\n",
    "    return len(s)\n",
    "\n",
    "def empty(s):\n",
    "    if len(s) == 0:\n",
    "        return 1\n",
    "    else:\n",
    "        return 0\n",
    "    \n",
    "def pop(s):\n",
    "    if len(s) == 0:\n",
    "        return -1\n",
    "    else:\n",
    "        answer = s[-1]\n",
    "        s.remove(s[-1])\n",
    "        return answer\n",
    "\n",
    "for i in range(t):\n",
    "    command = list(map(str, sys.stdin.readline().split(' ')))\n",
    "    if len(command) == 1:\n",
    "        if command[0] == 'top':\n",
    "            answer = top(answer_stack)\n",
    "            answer_list.append(answer)\n",
    "        elif command[0] == 'size':\n",
    "            answer = size(answer_stack)\n",
    "            answer_list.append(answer)\n",
    "        elif command[0] == 'empty':\n",
    "            answer = empty(answer_stack)\n",
    "            answer_list.append(answer)\n",
    "        elif command[0] == 'pop':\n",
    "            answer = pop(answer_stack)\n",
    "            answer_list.append(answer)\n",
    "    else:\n",
    "        answer = push(command[1], answer_stack)\n",
    "\n",
    "#answer_list.reverse()\n",
    "for i in range(len(answer_list)):\n",
    "    print(answer_list[i])"
   ]
  },
  {
   "cell_type": "markdown",
   "id": "7384d36e-773e-4ac0-8fde-3697340bf4e1",
   "metadata": {},
   "source": [
    "## 단어 뒤집기\n",
    "- url : https://www.acmicpc.net/problem/9093\n",
    "- 문제 설명 :\n",
    "\n",
    "문장이 주어졌을 때, 단어를 모두 뒤집어서 출력하는 프로그램을 작성하시오. 단, 단어의 순서는 바꿀 수 없다. 단어는 영어 알파벳으로만 이루어져 있다.\n",
    "\n",
    "첫째 줄에 테스트 케이스의 개수 T가 주어진다. 각 테스트 케이스는 한 줄로 이루어져 있으며, 문장이 하나 주어진다. 단어의 길이는 최대 20, 문장의 길이는 최대 1000이다. 단어와 단어 사이에는 공백이 하나 있다.\n",
    "\n"
   ]
  },
  {
   "cell_type": "code",
   "execution_count": 21,
   "id": "b35e8ea5-a368-4022-9334-d06ab79fdb14",
   "metadata": {},
   "outputs": [
    {
     "name": "stdin",
     "output_type": "stream",
     "text": [
      " 2\n",
      " i am happy today\n",
      " we want to win the firse prize\n"
     ]
    },
    {
     "name": "stdout",
     "output_type": "stream",
     "text": [
      "i ma yppah yadot\n",
      "ew tnaw ot niw eht esrif ezirp\n"
     ]
    }
   ],
   "source": [
    "t = int(input())\n",
    "answer_list = list()\n",
    "\n",
    "for i in range(t):\n",
    "    answer = list()\n",
    "    s = list(map(str, input().split(' ')))\n",
    "    for j in range(len(s)):\n",
    "        ns = s[j][::-1] # 단어 뒤집기\n",
    "        answer.append(ns)\n",
    "    answer_list.append(' '.join(answer))\n",
    "    \n",
    "for i in range(len(answer_list)):\n",
    "    print(answer_list[i])"
   ]
  }
 ],
 "metadata": {
  "kernelspec": {
   "display_name": "Python 3 (ipykernel)",
   "language": "python",
   "name": "python3"
  },
  "language_info": {
   "codemirror_mode": {
    "name": "ipython",
    "version": 3
   },
   "file_extension": ".py",
   "mimetype": "text/x-python",
   "name": "python",
   "nbconvert_exporter": "python",
   "pygments_lexer": "ipython3",
   "version": "3.9.7"
  }
 },
 "nbformat": 4,
 "nbformat_minor": 5
}
