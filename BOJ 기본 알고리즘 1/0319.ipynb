{
 "cells": [
  {
   "cell_type": "markdown",
   "id": "17ca95a2-fb3d-479b-aaad-dcbf4c0a40c5",
   "metadata": {},
   "source": [
    "## 동물원\n",
    "- url : https://www.acmicpc.net/problem/1309"
   ]
  },
  {
   "cell_type": "markdown",
   "id": "a707da0e-869d-4b49-b0f5-7fa6bfb3b16e",
   "metadata": {},
   "source": [
    "- dp(1) 3\n",
    "  - 한개도 안 칠하기 1\n",
    "  - 모든 줄 칠하기 2\n",
    "- dp(2) 7\n",
    "  - 한개도 안 칠하기 1\n",
    "  - 모든 줄 칠하기 2\n",
    "  - 첫번쨰 줄만 칠하기 2\n",
    "  - 두번째 줄만 칠하기 2\n",
    "- dp(3) 17\n",
    "  - 한개도 안 칠하기 1\n",
    "  - 모든 줄 칠하기 2\n",
    "  - 한개씩만 칠하기 6\n",
    "  - 첫번째, 두번쨰 줄만 칠하기 2\n",
    "  - 두번째, 세번째 줄만 칠하기 2\n",
    "  - 첫번째, 세번째 줄만 칠하기 2 * 2 = 4\n",
    "- dp(4) 41\n",
    "  - 한개도 안 칠하기 1\n",
    "  - 모든 줄 칠하기 2\n",
    "  - 한개씩만 칠하기 8\n",
    "  - 첫번째, 두번쨰 줄만 2\n",
    "  - 두번째, 세번쨰 줄만 2\n",
    "  - 첫번쨰, 세번쨰 줄만 2 * 2 = 4\n",
    "  - 세번째, 네번쨰 줄만 2\n",
    "  - 첫번쨰, 네번째 줄만 2 * 2 = 4\n",
    "  - 두번쪠, 네번쨰 줄만 2 * 2 = 4\n",
    "  - 첫번쨰, 두번쨰, 세번쨰 줄 2\n",
    "  - 첫번쨰, 두번쨰, 네번쨰 줄 2 * 2 = 4\n",
    "  - 두번쨰, 세번쨰, 네번째 줄 2\n",
    "\n",
    "\n",
    "dp(4) = dp(3) + 2 + (dp(3) - 1 - 2 - 6) * 2\n",
    "dp(4) = 2dp(3) + dp(2)\n",
    "dp(3) = 2dp(2) + dp(1)\n",
    "\n",
    "...\n",
    "\n",
    "dp(n) = 2dp(n-1) + dp(n-2)"
   ]
  },
  {
   "cell_type": "code",
   "execution_count": 10,
   "id": "1007c950-7cc8-494d-949b-2880f3aec9e6",
   "metadata": {},
   "outputs": [
    {
     "name": "stdin",
     "output_type": "stream",
     "text": [
      " 4\n"
     ]
    },
    {
     "name": "stdout",
     "output_type": "stream",
     "text": [
      "41\n"
     ]
    }
   ],
   "source": [
    "t = int(input())\n",
    "\n",
    "dp = list()\n",
    "\n",
    "dp.append(0)\n",
    "dp.append(3)\n",
    "dp.append(7)\n",
    "dp.append(17)\n",
    "\n",
    "for i in range(4, t+1):\n",
    "    dp.append((2 * dp[i-1] + dp[i-2])%9901)\n",
    "    \n",
    "print(dp[t])"
   ]
  },
  {
   "cell_type": "markdown",
   "id": "82cc5e81-1898-499a-9b79-3e09ba9f904f",
   "metadata": {
    "tags": []
   },
   "source": [
    "## 스티커 (이차원 배열...)\n",
    "- url : https://www.acmicpc.net/problem/9465"
   ]
  },
  {
   "cell_type": "code",
   "execution_count": null,
   "id": "a7c9f643-dc40-4029-95d4-59f4e807693f",
   "metadata": {},
   "outputs": [],
   "source": []
  },
  {
   "cell_type": "markdown",
   "id": "3d67ecb5-6b56-4eeb-94c9-269e6f3c45b1",
   "metadata": {
    "tags": []
   },
   "source": [
    "## 합분해\n",
    "- url : https://www.acmicpc.net/problem/2225"
   ]
  },
  {
   "cell_type": "markdown",
   "id": "822d8782-1820-41e0-bb92-5976acb51f32",
   "metadata": {},
   "source": [
    "- 20, 2 -> 0부터 20까지 정수 2개를 더해서 그 합이 20이 되는 경우 (dp(2))\n",
    "  - (0, 20), (1, 19) .... (10, 10) -> 21개\n",
    "  - n % 2 == 0일 경우 (반으로 나눠질 경우) n // 2 * 자리가지 수 + 1\n",
    "  - n & 2 != 0일 경우 (반으로 안 나눠질 경우)\n",
    "    - 3, 2 -> 0부터 3까지 정수 2개를 더해서 그 합이 3이 되는 경우\n",
    "      - (0, 3) (1,2) * 2 = n+1 // 2 * 자리 가지 수 -> 4가지\n",
    "- 20, 3 -> 0부터 20까지 정수 3개를 더해서 그 합이 20이 되는 경우\n",
    "  - n % 3 == 0일 경우 (세개로 정확히 나눠질 경우 ) n // 3 * 자리가지수 + 1\n",
    "   - 3, 3 -> 0부터 3까지 정수 3개를 더해서 그 합이 3이 되는 경우\n",
    "     - 앞이 0인 경우 : dp(2) * 3 (자리 가지 수) -> 12가지\n",
    "     - 앞이 1인 경우 : (1, 1)\n",
    "     - 앞이 2인 경우 : (1, 0) * 3 (자리 가지 수) * 2 (내부 자리 가지 수) -> 6가지\n",
    "     - 앞이 3인 경우 : (0, 0) * 3 (자리 가지 수) -> 3가지\n",
    "     \n",
    "     "
   ]
  },
  {
   "cell_type": "code",
   "execution_count": null,
   "id": "8d0d039f-48f9-4c2e-aab6-e18f2ee22ab1",
   "metadata": {},
   "outputs": [],
   "source": []
  }
 ],
 "metadata": {
  "kernelspec": {
   "display_name": "Python 3 (ipykernel)",
   "language": "python",
   "name": "python3"
  },
  "language_info": {
   "codemirror_mode": {
    "name": "ipython",
    "version": 3
   },
   "file_extension": ".py",
   "mimetype": "text/x-python",
   "name": "python",
   "nbconvert_exporter": "python",
   "pygments_lexer": "ipython3",
   "version": "3.9.7"
  }
 },
 "nbformat": 4,
 "nbformat_minor": 5
}
