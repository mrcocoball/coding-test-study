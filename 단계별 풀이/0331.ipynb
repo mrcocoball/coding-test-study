{
 "cells": [
  {
   "cell_type": "markdown",
   "id": "c940b164-f9fc-4962-92ef-1a271cb46e3b",
   "metadata": {},
   "source": [
    "## 세 막대\n",
    "- url : https://www.acmicpc.net/problem/14215"
   ]
  },
  {
   "cell_type": "code",
   "execution_count": 7,
   "id": "583bedb7-f792-47da-9592-53cf4000ccf6",
   "metadata": {},
   "outputs": [
    {
     "name": "stdin",
     "output_type": "stream",
     "text": [
      " 1 2 3\n"
     ]
    },
    {
     "name": "stdout",
     "output_type": "stream",
     "text": [
      "6\n"
     ]
    }
   ],
   "source": [
    "t = list(map(int, input().split(' ')))\n",
    "t.sort()\n",
    "first = t[0]\n",
    "second = t[1]\n",
    "third = t[2]\n",
    "\n",
    "if third >= first + second:\n",
    "    print(first + second + first + second - 1)\n",
    "else:\n",
    "    print(first + second + third)"
   ]
  },
  {
   "cell_type": "markdown",
   "id": "a5e010d4-6851-4452-a785-c1697a2145f4",
   "metadata": {},
   "source": [
    "## 알고리즘 수업 - 피보나치 수 1\n",
    "- url : https://www.acmicpc.net/problem/24416"
   ]
  },
  {
   "cell_type": "code",
   "execution_count": 34,
   "id": "d14f3083-f9a2-410d-ac93-588feda98bd0",
   "metadata": {},
   "outputs": [
    {
     "name": "stdin",
     "output_type": "stream",
     "text": [
      " 30\n"
     ]
    },
    {
     "name": "stdout",
     "output_type": "stream",
     "text": [
      "832040 28\n"
     ]
    }
   ],
   "source": [
    "fibc = 0\n",
    "fibdpc = 0\n",
    "\n",
    "fibo = [0 for _ in range(41)]\n",
    "fibo[1] = 1\n",
    "fibo[2] = 1\n",
    "\n",
    "def fibonacci(n):\n",
    "    if n == 1:\n",
    "        return fibo[1]\n",
    "    elif n == 2:\n",
    "        return fibo[2]\n",
    "    else:\n",
    "        return fibo[n]\n",
    "    \n",
    "t = int(input())\n",
    "for i in range(3, t+1):\n",
    "    fibc += 1\n",
    "    fibo[i] = fibo[i-1] + fibo[i-2]\n",
    "\n",
    "fibonacci(t)\n",
    "print(fibonacci(t), fibc)"
   ]
  },
  {
   "cell_type": "markdown",
   "id": "3ec452ae-ea55-46f7-88b0-b8f86ca89df0",
   "metadata": {},
   "source": [
    "## 신나는 함수 실행\n",
    "- url : https://www.acmicpc.net/problem/9184"
   ]
  },
  {
   "cell_type": "code",
   "execution_count": 80,
   "id": "4d5532b2-feb1-4879-bc4e-b5ff02ac649b",
   "metadata": {},
   "outputs": [
    {
     "name": "stdin",
     "output_type": "stream",
     "text": [
      " 20 20 20\n"
     ]
    },
    {
     "name": "stdout",
     "output_type": "stream",
     "text": [
      "w(20, 20, 20) = 1048576\n"
     ]
    },
    {
     "name": "stdin",
     "output_type": "stream",
     "text": [
      " 20 19 19\n"
     ]
    },
    {
     "name": "stdout",
     "output_type": "stream",
     "text": [
      "w(20, 19, 19) = 1048575\n"
     ]
    },
    {
     "name": "stdin",
     "output_type": "stream",
     "text": [
      " 20 20 19\n"
     ]
    },
    {
     "name": "stdout",
     "output_type": "stream",
     "text": [
      "w(20, 20, 19) = 1048576\n"
     ]
    },
    {
     "name": "stdin",
     "output_type": "stream",
     "text": [
      " -1 -1 -1\n"
     ]
    }
   ],
   "source": [
    "import sys\n",
    "\n",
    "w = [list() for _ in range(21)]\n",
    "for i in range(21):\n",
    "    w[i] = [list() for _ in range(21)]\n",
    "\n",
    "for j in range(21):\n",
    "    for k in range(21):\n",
    "        w[j][k] = [list() for _ in range(21)]\n",
    "\n",
    "\n",
    "w[2][2][2] = 4\n",
    "w[20][20][20] = 1048576\n",
    "\n",
    "for a in range(21):\n",
    "    for b in range(21):\n",
    "        for c in range(21):\n",
    "            if a == 1 and b == 1 and c == 1:\n",
    "                w[a][b][c] = 2\n",
    "            elif a == 2 and b == 2 and c == 2:\n",
    "                w[a][b][c] = 4\n",
    "            elif a <= 0 or b <= 0 or c <= 0:\n",
    "                w[a][b][c] = 1\n",
    "            elif a > 20 or b > 20 or c > 20:\n",
    "                w[a][b][c] = 1048576\n",
    "            elif a < b and b < c:\n",
    "                w[a][b][c] = w[a][b][c-1] + w[a][b-1][c-1] - w[a][b-1][c]\n",
    "            else:\n",
    "                w[a][b][c] = w[a-1][b][c] + w[a-1][b-1][c] + w[a-1][b][c-1] - w[a-1][b-1][c-1]\n",
    "                \n",
    "def p(w, a, b, c):\n",
    "    if a == -1 and b == -1 and c == -1:\n",
    "        pass\n",
    "    elif a <= 0 or b <= 0 or c <= 0:\n",
    "        return 1\n",
    "    elif a > 20 or b > 20 or c > 20:\n",
    "        return 1048576\n",
    "    else:\n",
    "        return w[a][b][c]\n",
    "\n",
    "while True:\n",
    "    #t = list(map(int, sys.stdin.readline().rstrip()))\n",
    "    t = list(map(int, input().split(' ')))\n",
    "    if t[0] == -1 and t[1] == -1 and t[2] == -1:\n",
    "        break\n",
    "    else:\n",
    "        print(\"w(\" + str(t[0]) + \", \" + str(t[1]) + \", \" + str(t[2]) + \") = \" + str(p(w, t[0], t[1], t[2])))"
   ]
  }
 ],
 "metadata": {
  "kernelspec": {
   "display_name": "Python 3 (ipykernel)",
   "language": "python",
   "name": "python3"
  },
  "language_info": {
   "codemirror_mode": {
    "name": "ipython",
    "version": 3
   },
   "file_extension": ".py",
   "mimetype": "text/x-python",
   "name": "python",
   "nbconvert_exporter": "python",
   "pygments_lexer": "ipython3",
   "version": "3.9.7"
  }
 },
 "nbformat": 4,
 "nbformat_minor": 5
}
