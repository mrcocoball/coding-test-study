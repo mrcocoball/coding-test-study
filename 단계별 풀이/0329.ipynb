{
 "cells": [
  {
   "cell_type": "markdown",
   "id": "4429d0a5-4981-45d8-84d9-d67472638247",
   "metadata": {},
   "source": [
    "## 수학은 체육과목입니다\n",
    "- url : https://www.acmicpc.net/problem/15894"
   ]
  },
  {
   "cell_type": "code",
   "execution_count": null,
   "id": "b14d0772-70a9-420c-8b4a-c6a48cb7fb2d",
   "metadata": {},
   "outputs": [],
   "source": [
    "a = int(input())\n",
    "\n",
    "# f(1) = 4\n",
    "# f(2) = f(1) - 1(기존 밑면) + 증분(2 + 밑면 2 + 윗면 1)\n",
    "# f(3) = f(2) - 2(기존 밑면) + 증분(2 + 밑면 3 + 윗면 1)\n",
    "# f(4) = f(3) - 3(기존 밑면) + 증분(2 + 밑면 4 + 윗면 1)\n",
    "#...\n",
    "# f(n) = f(n-1) - (n-1) + 2 + n + 1 -> f(n-1) - n + 1 + 2 + n + 1 = f(n-1) + 4\n",
    "\n",
    "print"
   ]
  }
 ],
 "metadata": {
  "kernelspec": {
   "display_name": "Python 3 (ipykernel)",
   "language": "python",
   "name": "python3"
  },
  "language_info": {
   "codemirror_mode": {
    "name": "ipython",
    "version": 3
   },
   "file_extension": ".py",
   "mimetype": "text/x-python",
   "name": "python",
   "nbconvert_exporter": "python",
   "pygments_lexer": "ipython3",
   "version": "3.9.7"
  }
 },
 "nbformat": 4,
 "nbformat_minor": 5
}
