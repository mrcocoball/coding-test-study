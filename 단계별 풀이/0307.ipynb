{
 "cells": [
  {
   "cell_type": "markdown",
   "id": "2670a6e3-cb97-4004-9cff-bfe79b49d81e",
   "metadata": {},
   "source": [
    "## 분해합\n",
    "- url : https://www.acmicpc.net/problem/2231\n",
    "- 문제 설명\n",
    "\n",
    "어떤 자연수 N이 있을 때, 그 자연수 N의 분해합은 N과 N을 이루는 각 자리수의 합을 의미한다. 어떤 자연수 M의 분해합이 N인 경우, M을 N의 생성자라 한다. 예를 들어, 245의 분해합은 256(=245+2+4+5)이 된다. 따라서 245는 256의 생성자가 된다. 물론, 어떤 자연수의 경우에는 생성자가 없을 수도 있다. 반대로, 생성자가 여러 개인 자연수도 있을 수 있다.\n",
    "\n",
    "자연수 N이 주어졌을 때, N의 가장 작은 생성자를 구해내는 프로그램을 작성하시오."
   ]
  },
  {
   "cell_type": "code",
   "execution_count": 25,
   "id": "eb1143d8-d593-4a31-b556-cfc2691aa649",
   "metadata": {
    "tags": []
   },
   "outputs": [
    {
     "name": "stdin",
     "output_type": "stream",
     "text": [
      " 216\n"
     ]
    },
    {
     "name": "stdout",
     "output_type": "stream",
     "text": [
      "198\n"
     ]
    }
   ],
   "source": [
    "t = int(input())\n",
    "num_list = list()\n",
    "answer_list = list()\n",
    "\n",
    "for i in range(t):\n",
    "    num_list.append(i)\n",
    "\n",
    "num_list.sort(reverse=True)\n",
    "\n",
    "def validate(num_list, t):\n",
    "    for i in range(len(num_list)):\n",
    "        total = num_list[i]\n",
    "        for j in range(len(str(num_list[i]))):\n",
    "            total += int(str(num_list[i])[j])\n",
    "        if total == t:\n",
    "            answer_list.append(num_list[i])\n",
    "    if len(answer_list) == 0:\n",
    "        print(0)\n",
    "    else:\n",
    "        answer_list.sort()\n",
    "        print(answer_list[0])\n",
    "\n",
    "validate(num_list, t)"
   ]
  },
  {
   "cell_type": "markdown",
   "id": "639acb2a-d6a9-474d-b507-51d150ab723e",
   "metadata": {
    "tags": []
   },
   "source": [
    "## 덩치 [GG]\n",
    "- url : https://www.acmicpc.net/problem/7568\n",
    "- 문제 설명\n",
    "\n",
    "우리는 사람의 덩치를 키와 몸무게, 이 두 개의 값으로 표현하여 그 등수를 매겨보려고 한다. 어떤 사람의 몸무게가 x kg이고 키가 y cm라면 이 사람의 덩치는 (x, y)로 표시된다. 두 사람 A 와 B의 덩치가 각각 (x, y), (p, q)라고 할 때 x > p 그리고 y > q 이라면 우리는 A의 덩치가 B의 덩치보다 \"더 크다\"고 말한다. 예를 들어 어떤 A, B 두 사람의 덩치가 각각 (56, 177), (45, 165) 라고 한다면 A의 덩치가 B보다 큰 셈이 된다. 그런데 서로 다른 덩치끼리 크기를 정할 수 없는 경우도 있다. 예를 들어 두 사람 C와 D의 덩치가 각각 (45, 181), (55, 173)이라면 몸무게는 D가 C보다 더 무겁고, 키는 C가 더 크므로, \"덩치\"로만 볼 때 C와 D는 누구도 상대방보다 더 크다고 말할 수 없다.\n",
    "\n",
    "N명의 집단에서 각 사람의 덩치 등수는 자신보다 더 \"큰 덩치\"의 사람의 수로 정해진다. 만일 자신보다 더 큰 덩치의 사람이 k명이라면 그 사람의 덩치 등수는 k+1이 된다. 이렇게 등수를 결정하면 같은 덩치 등수를 가진 사람은 여러 명도 가능하다. 아래는 5명으로 이루어진 집단에서 각 사람의 덩치와 그 등수가 표시된 표이다.\n",
    "\n",
    "이름\t(몸무게, 키)\t덩치 등수\n",
    "A\t(55, 185)\t2\n",
    "B\t(58, 183)\t2\n",
    "C\t(88, 186)\t1\n",
    "D\t(60, 175)\t2\n",
    "E\t(46, 155)\t5\n",
    "위 표에서 C보다 더 큰 덩치의 사람이 없으므로 C는 1등이 된다. 그리고 A, B, D 각각의 덩치보다 큰 사람은 C뿐이므로 이들은 모두 2등이 된다. 그리고 E보다 큰 덩치는 A, B, C, D 이렇게 4명이므로 E의 덩치는 5등이 된다. 위 경우에 3등과 4등은 존재하지 않는다. 여러분은 학생 N명의 몸무게와 키가 담긴 입력을 읽어서 각 사람의 덩치 등수를 계산하여 출력해야 한다.\n",
    "\n",
    "첫 줄에는 전체 사람의 수 N이 주어진다. 그리고 이어지는 N개의 줄에는 각 사람의 몸무게와 키를 나타내는 양의 정수 x와 y가 하나의 공백을 두고 각각 나타난다.\n",
    "\n",
    "여러분은 입력에 나열된 사람의 덩치 등수를 구해서 그 순서대로 첫 줄에 출력해야 한다. 단, 각 덩치 등수는 공백문자로 분리되어야 한다."
   ]
  },
  {
   "cell_type": "code",
   "execution_count": 45,
   "id": "6cd01a48-871f-477a-907a-19a0ba8bc4e5",
   "metadata": {},
   "outputs": [
    {
     "name": "stdin",
     "output_type": "stream",
     "text": [
      " 5\n",
      " 55 185\n",
      " 58 183\n",
      " 88 186\n",
      " 60 175\n",
      " 46 155\n"
     ]
    },
    {
     "name": "stdout",
     "output_type": "stream",
     "text": [
      "2 2 1 2 5\n"
     ]
    }
   ],
   "source": [
    "t = int(input())\n",
    "tuple_list = list()\n",
    "tuple_dict = {}\n",
    "answer_dict = {}\n",
    "\n",
    "for i in range(t):\n",
    "    t2 = list(map(int, input().split(' ')))\n",
    "    tuple = (t2, i)\n",
    "    tuple_list.append(tuple)\n",
    "\n",
    "tuple_list.sort(key=lambda x:(-x[0][0], -x[0][1])) # 튜플 내림차순 정렬\n",
    "\n",
    "rank = 1\n",
    "r_rank = 1\n",
    "\n",
    "for i in range(len(tuple_list)-1):\n",
    "    if tuple_list[i][0][0] > tuple_list[i+1][0][0]:\n",
    "        if tuple_list[i][0][1] > tuple_list[i+1][0][1]:\n",
    "            answer_dict[tuple_list[i][1]] = rank\n",
    "            r_rank += 1\n",
    "            rank = r_rank\n",
    "        else:\n",
    "            answer_dict[tuple_list[i][1]] = rank\n",
    "            r_rank += 1\n",
    "    else:\n",
    "        answer_dict[tuple_list[i][1]] = rank\n",
    "        r_rank += 1\n",
    "\n",
    "length = len(tuple_list)\n",
    "if tuple_list[length-1][0][0] < tuple_list[length-2][0][0]:\n",
    "    if tuple_list[length-1][0][1] < tuple_list[length-2][0][1]:\n",
    "        answer_dict[tuple_list[length-1][1]] = r_rank\n",
    "    else:\n",
    "        answer_dict[tuple_list[length-1][1]] = rank\n",
    "else:\n",
    "    answer_dict[tuple_list[length-1][1]] = rank\n",
    "\n",
    "answer_list = list()\n",
    "\n",
    "dks = list(answer_dict.keys())\n",
    "dks.sort()\n",
    "\n",
    "for i in range(len(dks)):\n",
    "    answer_list.append(str(answer_dict[i]))\n",
    "    \n",
    "answer = ' '.join(answer_list)\n",
    "print(answer)"
   ]
  },
  {
   "cell_type": "code",
   "execution_count": null,
   "id": "4f43eb0a-6597-4df5-acbc-2ac8a18e16f4",
   "metadata": {},
   "outputs": [],
   "source": [
    "# 자신보다 큰 놈들의 숫자만 카운트하면 된다\n",
    "\n",
    "t = int(input())\n",
    "size_list = list()\n",
    "\n",
    "for _ in range(t):\n",
    "    x, y = map(int, input().split())\n",
    "    size_list.append((x,y))\n",
    "    \n",
    "for size in size_list:\n",
    "    rank = 1\n",
    "    for compare_size in size_list:\n",
    "        if size[0] < compare_size[0] and size[1] < compare_size[1]:\n",
    "            rank += 1\n",
    "    print(rank, end=' ')"
   ]
  },
  {
   "cell_type": "code",
   "execution_count": null,
   "id": "aeb858ba-b11d-4023-8fda-a7b77a5f3fdb",
   "metadata": {},
   "outputs": [],
   "source": []
  }
 ],
 "metadata": {
  "kernelspec": {
   "display_name": "Python 3 (ipykernel)",
   "language": "python",
   "name": "python3"
  },
  "language_info": {
   "codemirror_mode": {
    "name": "ipython",
    "version": 3
   },
   "file_extension": ".py",
   "mimetype": "text/x-python",
   "name": "python",
   "nbconvert_exporter": "python",
   "pygments_lexer": "ipython3",
   "version": "3.9.7"
  }
 },
 "nbformat": 4,
 "nbformat_minor": 5
}
