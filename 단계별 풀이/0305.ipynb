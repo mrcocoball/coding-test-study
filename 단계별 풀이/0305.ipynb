{
 "cells": [
  {
   "cell_type": "markdown",
   "id": "c7f4b5f2-df96-482f-814b-394da2ddbb2b",
   "metadata": {
    "tags": []
   },
   "source": [
    "## 팩토리얼\n",
    "- url : https://www.acmicpc.net/problem/10872\n",
    "- 문제 설명\n",
    "\n",
    "0보다 크거나 같은 정수 N이 주어진다. 이때, N!을 출력하는 프로그램을 작성하시오."
   ]
  },
  {
   "cell_type": "code",
   "execution_count": 2,
   "id": "c79c969f-de6f-47ef-93c6-7501c0009ff0",
   "metadata": {},
   "outputs": [
    {
     "name": "stdin",
     "output_type": "stream",
     "text": [
      " 5\n"
     ]
    },
    {
     "name": "stdout",
     "output_type": "stream",
     "text": [
      "120\n"
     ]
    }
   ],
   "source": [
    "def factorial(n):\n",
    "    if n == 0:\n",
    "        return 1\n",
    "    if n == 1:\n",
    "        return 1\n",
    "    if n > 1:\n",
    "        return n * factorial(n-1)\n",
    "\n",
    "t = int(input())\n",
    "\n",
    "print(factorial(t))"
   ]
  },
  {
   "cell_type": "markdown",
   "id": "4b5f563a-a72e-470f-ac38-8e223fd7586f",
   "metadata": {},
   "source": [
    "## 피보나치 수 5\n",
    "- url : https://www.acmicpc.net/problem/10870\n",
    "- 문제 설명\n",
    "\n",
    "피보나치 수는 0과 1로 시작한다. 0번째 피보나치 수는 0이고, 1번째 피보나치 수는 1이다. 그 다음 2번째 부터는 바로 앞 두 피보나치 수의 합이 된다.\n",
    "\n",
    "이를 식으로 써보면 Fn = Fn-1 + Fn-2 (n ≥ 2)가 된다.\n",
    "\n",
    "n=17일때 까지 피보나치 수를 써보면 다음과 같다.\n",
    "\n",
    "0, 1, 1, 2, 3, 5, 8, 13, 21, 34, 55, 89, 144, 233, 377, 610, 987, 1597\n",
    "\n",
    "n이 주어졌을 때, n번째 피보나치 수를 구하는 프로그램을 작성하시오."
   ]
  },
  {
   "cell_type": "code",
   "execution_count": 3,
   "id": "f23956c0-1c54-40bf-90bc-9c1bdde72630",
   "metadata": {},
   "outputs": [
    {
     "name": "stdin",
     "output_type": "stream",
     "text": [
      " 10\n"
     ]
    },
    {
     "name": "stdout",
     "output_type": "stream",
     "text": [
      "55\n"
     ]
    }
   ],
   "source": [
    "def fibo(n):\n",
    "    if n == 0:\n",
    "        return 0\n",
    "    if n == 1:\n",
    "        return 1\n",
    "    if n > 1:\n",
    "        return fibo(n-1) + fibo(n-2)\n",
    "\n",
    "t = int(input())\n",
    "\n",
    "print(fibo(t))"
   ]
  },
  {
   "cell_type": "markdown",
   "id": "68200bd8-a61d-4793-90fd-b399d8c2b822",
   "metadata": {},
   "source": [
    "## 재귀의 귀재\n",
    "- url : https://www.acmicpc.net/problem/25501\n",
    "- 문제 설명\n",
    "\n",
    "정휘는 후배들이 재귀 함수를 잘 다루는 재귀의 귀재인지 알아보기 위해 재귀 함수와 관련된 문제를 출제하기로 했다.\n",
    "\n",
    "팰린드롬이란, 앞에서부터 읽었을 때와 뒤에서부터 읽었을 때가 같은 문자열을 말한다. 팰린드롬의 예시로 AAA, ABBA, ABABA 등이 있고, 팰린드롬이 아닌 문자열의 예시로 ABCA, PALINDROME 등이 있다.\n",
    "\n",
    "어떤 문자열이 팰린드롬인지 판별하는 문제는 재귀 함수를 이용해 쉽게 해결할 수 있다. 아래 코드의 isPalindrome 함수는 주어진 문자열이 팰린드롬이면 1, 팰린드롬이 아니면 0을 반환하는 함수다.\n",
    "\n",
    "```\n",
    "#include <stdio.h>\n",
    "#include <string.h>\n",
    "\n",
    "int recursion(const char *s, int l, int r){\n",
    "    if(l >= r) return 1;\n",
    "    else if(s[l] != s[r]) return 0;\n",
    "    else return recursion(s, l+1, r-1);\n",
    "}\n",
    "\n",
    "int isPalindrome(const char *s){\n",
    "    return recursion(s, 0, strlen(s)-1);\n",
    "}\n",
    "\n",
    "int main(){\n",
    "    printf(\"ABBA: %d\\n\", isPalindrome(\"ABBA\")); // 1\n",
    "    printf(\"ABC: %d\\n\", isPalindrome(\"ABC\"));   // 0\n",
    "}\n",
    "```\n",
    "\n",
    "정휘는 위에 작성된 isPalindrome 함수를 이용하여 어떤 문자열이 팰린드롬인지 여부를 판단하려고 한다.\n",
    "\n",
    "구체적으로는, 문자열 \n",
    "$S$를 isPalindrome 함수의 인자로 전달하여 팰린드롬 여부를 반환값으로 알아낼 것이다. 더불어 판별하는 과정에서 recursion 함수를 몇 번 호출하는지 셀 것이다.\n",
    "\n",
    "정휘를 따라 여러분도 함수의 반환값과 recursion 함수의 호출 횟수를 구해보자."
   ]
  },
  {
   "cell_type": "code",
   "execution_count": 17,
   "id": "83c2af74-ecd0-4018-b328-df37d733af0b",
   "metadata": {},
   "outputs": [
    {
     "name": "stdin",
     "output_type": "stream",
     "text": [
      " 5\n",
      " aaa\n",
      " abba\n",
      " ababa\n",
      " abca\n",
      " palindrome\n"
     ]
    },
    {
     "name": "stdout",
     "output_type": "stream",
     "text": [
      "1 2\n",
      "1 3\n",
      "1 3\n",
      "0 2\n",
      "0 1\n"
     ]
    }
   ],
   "source": [
    "import sys\n",
    "\n",
    "answer_list = list()\n",
    "\n",
    "def recursion(s, l, r, c):\n",
    "    if l >= r: return (1, c) # 문자열 s의 l열이 r열과 크거나 같은 경우 \n",
    "    elif s[l] != s[r]: return (0, c) # 문자열 s의 l열 문자와 r열 문자가 다르면\n",
    "    else: \n",
    "        return recursion(s, l+1, r-1, c+1)\n",
    "\n",
    "def isPalindrome(s):\n",
    "    return recursion(s, 0, len(s)-1, 1)\n",
    "\n",
    "t = int(input())\n",
    "\n",
    "for i in range(t):\n",
    "    charr = str(sys.stdin.readline().rstrip())\n",
    "    answer_list.append(isPalindrome(charr))\n",
    "    \n",
    "for i in range(len(answer_list)):\n",
    "    print(answer_list[i][0], answer_list[i][1])"
   ]
  },
  {
   "cell_type": "code",
   "execution_count": 10,
   "id": "71a7f12c-53ec-41c5-8fd3-2bd816f7fa5b",
   "metadata": {},
   "outputs": [
    {
     "name": "stdout",
     "output_type": "stream",
     "text": [
      "ABBA: 1\n",
      "ABC: 0\n"
     ]
    }
   ],
   "source": [
    "def recursion(s, l, r):\n",
    "    if l >= r: return 1\n",
    "    elif s[l] != s[r]: return 0\n",
    "    else: return recursion(s, l+1, r-1)\n",
    "\n",
    "def isPalindrome(s):\n",
    "    return recursion(s, 0, len(s)-1)\n",
    "\n",
    "print('ABBA:', isPalindrome('ABBA'))\n",
    "print('ABC:', isPalindrome('ABC'))"
   ]
  },
  {
   "cell_type": "markdown",
   "id": "f1fae205-12e7-4d38-8d2c-7ebad453ab08",
   "metadata": {
    "tags": []
   },
   "source": [
    "## 알고리즘 수업 - 병합 정렬 1\n",
    "- url : https://www.acmicpc.net/problem/24060\n",
    "- 문제 설명\n",
    "\n",
    "오늘도 서준이는 병합 정렬 수업 조교를 하고 있다. 아빠가 수업한 내용을 학생들이 잘 이해했는지 문제를 통해서 확인해보자.\n",
    "\n",
    "N개의 서로 다른 양의 정수가 저장된 배열 A가 있다. 병합 정렬로 배열 A를 오름차순 정렬할 경우 배열 A에 K 번째 저장되는 수를 구해서 우리 서준이를 도와주자.\n",
    "\n",
    "크기가 N인 배열에 대한 병합 정렬 의사 코드는 다음과 같다.\n",
    "\n",
    "```\n",
    "merge_sort(A[p..r]) { # A[p..r]을 오름차순 정렬한다.\n",
    "    if (p < r) then {\n",
    "        q <- ⌊(p + r) / 2⌋;       # q는 p, r의 중간 지점\n",
    "        merge_sort(A, p, q);      # 전반부 정렬\n",
    "        merge_sort(A, q + 1, r);  # 후반부 정렬\n",
    "        merge(A, p, q, r);        # 병합\n",
    "    }\n",
    "}\n",
    "\n",
    "# A[p..q]와 A[q+1..r]을 병합하여 A[p..r]을 오름차순 정렬된 상태로 만든다.\n",
    "# A[p..q]와 A[q+1..r]은 이미 오름차순으로 정렬되어 있다.\n",
    "merge(A[], p, q, r) {\n",
    "    i <- p; j <- q + 1; t <- 1;\n",
    "    while (i ≤ q and j ≤ r) {\n",
    "        if (A[i] ≤ A[j])\n",
    "        then tmp[t++] <- A[i++]; # tmp[t] <- A[i]; t++; i++;\n",
    "        else tmp[t++] <- A[j++]; # tmp[t] <- A[j]; t++; j++;\n",
    "    }\n",
    "    while (i ≤ q)  # 왼쪽 배열 부분이 남은 경우\n",
    "        tmp[t++] <- A[i++];\n",
    "    while (j ≤ r)  # 오른쪽 배열 부분이 남은 경우\n",
    "        tmp[t++] <- A[j++];\n",
    "    i <- p; t <- 1;\n",
    "    while (i ≤ r)  # 결과를 A[p..r]에 저장\n",
    "        A[i++] <- tmp[t++]; \n",
    "}\n",
    "```\n",
    "\n",
    "첫째 줄에 배열 A의 크기 N(5 ≤ N ≤ 500,000), 저장 횟수 K(1 ≤ K ≤ 108)가 주어진다.\n",
    "\n",
    "다음 줄에 서로 다른 배열 A의 원소 A1, A2, ..., AN이 주어진다. (1 ≤ Ai ≤ 109)\n",
    "\n",
    "배열 A에 K 번째 저장 되는 수를 출력한다. 저장 횟수가 K 보다 작으면 -1을 출력한다."
   ]
  },
  {
   "cell_type": "code",
   "execution_count": 18,
   "id": "51fb9821-ff14-485c-b405-1da71beda560",
   "metadata": {},
   "outputs": [
    {
     "ename": "SyntaxError",
     "evalue": "invalid syntax (Temp/ipykernel_8568/1249362929.py, line 17)",
     "output_type": "error",
     "traceback": [
      "\u001b[1;36m  File \u001b[1;32m\"C:\\Users\\Hwang\\AppData\\Local\\Temp/ipykernel_8568/1249362929.py\"\u001b[1;36m, line \u001b[1;32m17\u001b[0m\n\u001b[1;33m    temp[i++] = s[i++]\u001b[0m\n\u001b[1;37m            ^\u001b[0m\n\u001b[1;31mSyntaxError\u001b[0m\u001b[1;31m:\u001b[0m invalid syntax\n"
     ]
    }
   ],
   "source": [
    "def merge_sort(s, p, r):\n",
    "    if p < r:\n",
    "        q = (p + r) / 2\n",
    "        merge_sort(s, p, q)\n",
    "        merge_sort(s, p+1, r)\n",
    "        merge(s, p, q, r)\n",
    "            \n",
    "def merge(s, p, q, r):\n",
    "    count = 0\n",
    "    kv = {}\n",
    "    i = p\n",
    "    j = q + 1\n",
    "    t = 1\n",
    "    tmp = list()\n",
    "    while i <= q and j <= r:\n",
    "        if s[i] <= s[j]:\n",
    "            temp[i++] = s[i++]\n",
    "        else:\n",
    "            temp[i++] = s[j++]\n",
    "    while i <= q:\n",
    "        tmp[t++] = s[i++]\n",
    "    while j <= r:\n",
    "        tmp[t++] = s[j++]\n",
    "    i = p\n",
    "    t = 1\n",
    "    while i <= r:\n",
    "        s[i++] = tmp[t++]\n",
    "        count += 1\n",
    "        kv[count] = s[i]\n",
    "    return kv\n",
    "\n",
    "print(merge_sort('45132', 0, 5))"
   ]
  },
  {
   "cell_type": "markdown",
   "id": "db2ba188-b024-4669-b13b-90544e86aee7",
   "metadata": {},
   "source": [
    "## 별 찍기 - 10\n",
    "- url : https://www.acmicpc.net/problem/2447\n",
    "- 문제 설명\n",
    "\n",
    "재귀적인 패턴으로 별을 찍어 보자. N이 3의 거듭제곱(3, 9, 27, ...)이라고 할 때, 크기 N의 패턴은 N×N 정사각형 모양이다.\n",
    "\n",
    "크기 3의 패턴은 가운데에 공백이 있고, 가운데를 제외한 모든 칸에 별이 하나씩 있는 패턴이다.\n",
    "\n",
    "```\n",
    "***\n",
    "* *\n",
    "***\n",
    "```\n",
    "\n",
    "N이 3보다 클 경우, 크기 N의 패턴은 공백으로 채워진 가운데의 (N/3)×(N/3) 정사각형을 크기 N/3의 패턴으로 둘러싼 형태이다. 예를 들어 크기 27의 패턴은 예제 출력 1과 같다.\n",
    "\n",
    "첫째 줄에 N이 주어진다. N은 3의 거듭제곱이다. 즉 어떤 정수 k에 대해 N=3k이며, 이때 1 ≤ k < 8이다.\n",
    "\n",
    "첫째 줄부터 N번째 줄까지 별을 출력한다."
   ]
  },
  {
   "cell_type": "markdown",
   "id": "3411f138-6778-4cd6-b309-146681520405",
   "metadata": {},
   "source": [
    "n = 27일 경우 9 * 9 정사각형을 크기 9의 패턴으로 둘러쌈 = (크기 3 * 3 정사각형을 크기 3의 패턴으로 8개 둘러쌈) * 8개"
   ]
  },
  {
   "cell_type": "code",
   "execution_count": null,
   "id": "e6f3c495-af01-44d7-82db-071b4bde3ede",
   "metadata": {},
   "outputs": [
    {
     "ename": "UnboundLocalError",
     "evalue": "local variable 'square' referenced before assignment",
     "output_type": "error",
     "traceback": [
      "\u001b[1;31m---------------------------------------------------------------------------\u001b[0m",
      "\u001b[1;31mUnboundLocalError\u001b[0m                         Traceback (most recent call last)",
      "\u001b[1;32m~\\AppData\\Local\\Temp/ipykernel_8568/1302534548.py\u001b[0m in \u001b[0;36m<module>\u001b[1;34m\u001b[0m\n\u001b[0;32m     18\u001b[0m         \u001b[1;32mreturn\u001b[0m \u001b[0mblank_square\u001b[0m\u001b[1;33m\u001b[0m\u001b[1;33m\u001b[0m\u001b[0m\n\u001b[0;32m     19\u001b[0m \u001b[1;33m\u001b[0m\u001b[0m\n\u001b[1;32m---> 20\u001b[1;33m \u001b[0mprint\u001b[0m\u001b[1;33m(\u001b[0m\u001b[0msquare\u001b[0m\u001b[1;33m(\u001b[0m\u001b[1;36m9\u001b[0m\u001b[1;33m)\u001b[0m\u001b[1;33m)\u001b[0m\u001b[1;33m\u001b[0m\u001b[1;33m\u001b[0m\u001b[0m\n\u001b[0m",
      "\u001b[1;32m~\\AppData\\Local\\Temp/ipykernel_8568/888850361.py\u001b[0m in \u001b[0;36msquare\u001b[1;34m(n)\u001b[0m\n\u001b[0;32m      8\u001b[0m         \u001b[1;32mreturn\u001b[0m \u001b[0msquare\u001b[0m\u001b[1;33m\u001b[0m\u001b[1;33m\u001b[0m\u001b[0m\n\u001b[0;32m      9\u001b[0m     \u001b[1;32melse\u001b[0m\u001b[1;33m:\u001b[0m\u001b[1;33m\u001b[0m\u001b[1;33m\u001b[0m\u001b[0m\n\u001b[1;32m---> 10\u001b[1;33m         \u001b[1;32mreturn\u001b[0m \u001b[0msquare\u001b[0m\u001b[1;33m(\u001b[0m\u001b[0mn\u001b[0m\u001b[1;33m-\u001b[0m\u001b[1;36m1\u001b[0m\u001b[1;33m)\u001b[0m\u001b[1;33m\u001b[0m\u001b[1;33m\u001b[0m\u001b[0m\n\u001b[0m\u001b[0;32m     11\u001b[0m \u001b[1;33m\u001b[0m\u001b[0m\n\u001b[0;32m     12\u001b[0m \u001b[1;32mdef\u001b[0m \u001b[0msquare_blank\u001b[0m\u001b[1;33m(\u001b[0m\u001b[0mn\u001b[0m\u001b[1;33m)\u001b[0m\u001b[1;33m:\u001b[0m\u001b[1;33m\u001b[0m\u001b[1;33m\u001b[0m\u001b[0m\n",
      "\u001b[1;31mUnboundLocalError\u001b[0m: local variable 'square' referenced before assignment"
     ]
    }
   ],
   "source": [
    "# 패턴 3\n",
    "def star_square(n):\n",
    "    if n == 3:\n",
    "        top_star = \"*\" * 3\n",
    "        middle_star = \"*\" + \" \" + \"*\"\n",
    "        bottom_star = \"*\" * 3\n",
    "        star_square = '\\n'.join([top_star, middle_star, bottom_star])\n",
    "        return star_square\n",
    "    else:\n",
    "        return star_square(n/3)\n",
    "\n",
    "def square_blank(n):\n",
    "    if n == 1:\n",
    "        return \" \"\n",
    "    else:\n",
    "        blank_line = \" \" * (n / 3)\n",
    "        blank_square = blank_line+\"\\n\" * (n / 3)\n",
    "        return blank_square\n",
    "        \n",
    "print(square(9))"
   ]
  },
  {
   "cell_type": "code",
   "execution_count": null,
   "id": "2747d03f-bdfe-4827-be93-4521d39ba85a",
   "metadata": {},
   "outputs": [],
   "source": [
    "n = int(input())\n",
    "\n",
    "def star(l):\n",
    "    if l == 3:\n",
    "        return ['***','* *','***']\n",
    "\n",
    "    arr = star(l//3)\n",
    "    stars = []\n",
    "\n",
    "    for i in arr:\n",
    "        stars.append(i*3)\n",
    "\n",
    "    for i in arr:\n",
    "        stars.append(i+' '*(l//3)+i)\n",
    "\n",
    "    for i in arr:\n",
    "        stars.append(i*3)\n",
    "\n",
    "    return stars\n",
    "\n",
    "print('\\n'.join(star(n)))"
   ]
  }
 ],
 "metadata": {
  "kernelspec": {
   "display_name": "Python 3 (ipykernel)",
   "language": "python",
   "name": "python3"
  },
  "language_info": {
   "codemirror_mode": {
    "name": "ipython",
    "version": 3
   },
   "file_extension": ".py",
   "mimetype": "text/x-python",
   "name": "python",
   "nbconvert_exporter": "python",
   "pygments_lexer": "ipython3",
   "version": "3.9.7"
  }
 },
 "nbformat": 4,
 "nbformat_minor": 5
}
