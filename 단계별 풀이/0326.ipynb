{
 "cells": [
  {
   "cell_type": "markdown",
   "id": "b9398009-901b-481a-b3da-7fbeb88caede",
   "metadata": {},
   "source": [
    "## 듣보잡\n",
    "- url : https://www.acmicpc.net/problem/1764"
   ]
  },
  {
   "cell_type": "code",
   "execution_count": 5,
   "id": "53a176cf-0de4-4b04-87bd-ab3fd2288ada",
   "metadata": {},
   "outputs": [
    {
     "name": "stdin",
     "output_type": "stream",
     "text": [
      " 2 2\n",
      " a\n",
      " b\n",
      " a\n",
      " b\n"
     ]
    },
    {
     "name": "stdout",
     "output_type": "stream",
     "text": [
      "2\n",
      "b\n",
      "a\n"
     ]
    }
   ],
   "source": [
    "import sys\n",
    "\n",
    "t = list(map(int, input().split(' ')))\n",
    "a_list = list()\n",
    "b_list = list()\n",
    "\n",
    "for i in range(t[0]):\n",
    "    a = sys.stdin.readline().rstrip()\n",
    "    a_list.append(a)\n",
    "    \n",
    "for i in range(t[1]):\n",
    "    b = sys.stdin.readline().rstrip()\n",
    "    b_list.append(b)\n",
    "    \n",
    "c = set(a_list).intersection(set(b_list))\n",
    "print(len(c))\n",
    "c_list = list(c)\n",
    "c_list.sort()\n",
    "for i in range(len(c_list)):\n",
    "    print(c_list[i])"
   ]
  },
  {
   "cell_type": "markdown",
   "id": "2e231f02-20a8-4540-b3b9-a74d65627ab9",
   "metadata": {},
   "source": [
    "## 숫자 카드 2\n",
    "- url : https://www.acmicpc.net/problem/10816"
   ]
  },
  {
   "cell_type": "code",
   "execution_count": 19,
   "id": "69bd6d83-fc23-4e2b-89c5-e077a8d517f0",
   "metadata": {},
   "outputs": [
    {
     "name": "stdin",
     "output_type": "stream",
     "text": [
      " 5\n",
      " 5\n",
      " 5\n",
      " 5\n"
     ]
    },
    {
     "name": "stdout",
     "output_type": "stream",
     "text": [
      "1 0 0 0 0\n"
     ]
    }
   ],
   "source": [
    "# 시간 초과\n",
    "\n",
    "a = int(input())\n",
    "a_list = list(map(int, input().split(' ')))\n",
    "a_set = set(a_list)\n",
    "b = int(input())\n",
    "b_list = list(map(int, input().split(' ')))\n",
    "b_set = set(b_list)\n",
    "\n",
    "# 교집합\n",
    "c = a_set.intersection(b_set)\n",
    "answer_list = list()\n",
    "\n",
    "memo_list = list(\"0\" * b)\n",
    "\n",
    "for i in c:\n",
    "    index = b_list.index(i)\n",
    "    memo_list[index] = str(a_list.count(i))\n",
    "        \n",
    "print(' '.join(memo_list))"
   ]
  },
  {
   "cell_type": "code",
   "execution_count": 21,
   "id": "944e87ba-c6ff-4713-a5f4-166b4133f801",
   "metadata": {},
   "outputs": [
    {
     "name": "stdin",
     "output_type": "stream",
     "text": [
      " 10\n",
      " 6 3 2 10 10 10 -10 -10 7 3\n",
      " 8\n",
      " 10 9 -5 2 3 4 5 -10\n"
     ]
    },
    {
     "name": "stdout",
     "output_type": "stream",
     "text": [
      "3 0 0 1 2 0 0 2 "
     ]
    }
   ],
   "source": [
    "# 딕셔너리, count 활용\n",
    "\n",
    "a = int(input())\n",
    "x = sorted(list(map(int, input().split())))\n",
    "b = int(input())\n",
    "y = list(map(int, input().split()))\n",
    "\n",
    "count_dict = {}\n",
    "for i in x:\n",
    "    if i in count_dict:\n",
    "        count_dict[i] += 1\n",
    "    else:\n",
    "        count_dict[i] = 1\n",
    "        \n",
    "for i in y:\n",
    "    if i in count_dict:\n",
    "        print(count_dict[i], end=' ')\n",
    "    else:\n",
    "        print(0, end=' ')"
   ]
  },
  {
   "cell_type": "markdown",
   "id": "54c46a41-c0fc-4c38-9b9e-a53efabc0a4d",
   "metadata": {},
   "source": [
    "## 나는야 포켓몬 마스터 이다솜\n",
    "- url : https://www.acmicpc.net/problem/1620"
   ]
  },
  {
   "cell_type": "code",
   "execution_count": 42,
   "id": "a0d26bd5-a86a-4ff7-9007-938951093bcf",
   "metadata": {},
   "outputs": [
    {
     "name": "stdin",
     "output_type": "stream",
     "text": [
      " 3 3\n",
      " aaa\n",
      " bbb\n",
      " ccc\n",
      " 3\n"
     ]
    },
    {
     "name": "stdout",
     "output_type": "stream",
     "text": [
      "ccc\n"
     ]
    },
    {
     "name": "stdin",
     "output_type": "stream",
     "text": [
      " aaa\n"
     ]
    },
    {
     "name": "stdout",
     "output_type": "stream",
     "text": [
      "1\n"
     ]
    },
    {
     "name": "stdin",
     "output_type": "stream",
     "text": [
      " aaa\n"
     ]
    },
    {
     "name": "stdout",
     "output_type": "stream",
     "text": [
      "1\n"
     ]
    }
   ],
   "source": [
    "import sys\n",
    "\n",
    "t = list(map(int, input().split(' ')))\n",
    "n = t[0]\n",
    "m = t[1]\n",
    "poke = {}\n",
    "\n",
    "for i in range(n):\n",
    "    poke[str(i+1)] = sys.stdin.readline().rstrip()\n",
    "\n",
    "reverse_poke = {v:str(k) for k,v in poke.items()} # value로 key를 찾기 위해 딕셔너리 뒤집음 (포켓몬명 : 숫자)\n",
    "\n",
    "for i in range(m):\n",
    "    q = sys.stdin.readline().rstrip()\n",
    "    if q in reverse_poke: # 포켓몬 이름이 있는 경우, 즉 입력값이 포켓몬 이름인 경우\n",
    "        print(reverse_poke[q])\n",
    "    else:\n",
    "        if q in poke: # 포켓몬 숫자가 있는 경우, 즉 입력값이 포켓몬 숫자인 경우\n",
    "            print(poke[q])"
   ]
  }
 ],
 "metadata": {
  "kernelspec": {
   "display_name": "Python 3 (ipykernel)",
   "language": "python",
   "name": "python3"
  },
  "language_info": {
   "codemirror_mode": {
    "name": "ipython",
    "version": 3
   },
   "file_extension": ".py",
   "mimetype": "text/x-python",
   "name": "python",
   "nbconvert_exporter": "python",
   "pygments_lexer": "ipython3",
   "version": "3.9.7"
  }
 },
 "nbformat": 4,
 "nbformat_minor": 5
}
