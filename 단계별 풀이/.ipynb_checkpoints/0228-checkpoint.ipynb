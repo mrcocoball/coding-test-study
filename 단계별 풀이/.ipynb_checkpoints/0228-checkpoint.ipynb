{
 "cells": [
  {
   "cell_type": "markdown",
   "id": "22206ead-1579-4082-ac00-9cdaba51d103",
   "metadata": {},
   "source": [
    "## 벌집\n",
    "- url : https://www.acmicpc.net/problem/2292\n",
    "- 패턴 분석\n",
    "  - 첫번째 : 1 -> 1개\n",
    "  - 두번째 : 2,3,4,5,6,7 -> 6개 (2와 7 맞닿음)\n",
    "  - 세번째 : 8,9,10,11,12,13,14,15,16,17,18,19 -> 12개 (8과 19 맞닿음)\n",
    "  - 네번째 : 20 ~ 37 18개 (20과 37 맞닿음)\n",
    "  - 다섯번째 : 38 ~ 24개\n",
    "  - 거쳐가야 하는 최소 방 갯수는 육각형 범위 안의 숫자끼리는 모두 같다 -> 즉, 육각형 범위에 포함되는 숫자를 구하는 함수를 구해야 함\n",
    "  - 각 육각형 범위의 첫번째 숫자 f(n) = f(n-1) + 6*(n-2) // f(n) = f(n-1) + 6n - 12 (n >= 3)\n",
    "  - 각 육각형 범위의 마지막 숫자 g(n) = f(n-1) + 6*(n-1) // g(n) = f(n-1) + 6n - 7 (n >=2)\n",
    "  - f(1) = 1, g(1) = 1\n",
    "  - f(2) = 2, g(2) = 7\n",
    "  - f(3) = f(2) + 6 = 8, g(3) = f(3) + 11, 19\n",
    "  - f(4) = f(3) + 12 = 20, g(4) = f(3) + 17, 37\n",
    "  - f(5) = f(4) + 18 = 38, g(5) = f(4) + 23, 61\n",
    "  - n번째 육각형에 있는지 확인해보는 조건 로직\n",
    "  - 함수 정의\n",
    "  "
   ]
  },
  {
   "cell_type": "code",
   "execution_count": 35,
   "id": "bfe3e579-ec79-45bb-90ea-d736610f5367",
   "metadata": {},
   "outputs": [
    {
     "name": "stdout",
     "output_type": "stream",
     "text": [
      "4\n",
      "35\n",
      "3\n",
      "5\n"
     ]
    }
   ],
   "source": [
    "def f(n):\n",
    "    if n == 1:\n",
    "        return 1\n",
    "    elif n == 2:\n",
    "        return 2\n",
    "    else:\n",
    "        answer = f(n-1) + 6*n - 12\n",
    "        return answer\n",
    "    \n",
    "def g(n):\n",
    "    if n == 1:\n",
    "        return 1\n",
    "    elif n == 2:\n",
    "        return 7\n",
    "    else:\n",
    "        answer = g(n-1) + 6*n- 6\n",
    "        return answer\n",
    "    \n",
    "def fun(x):\n",
    "    n = 1\n",
    "    stop = 'false'\n",
    "    while(stop):\n",
    "        if f(n) <= x <= g(n):\n",
    "            print(n)\n",
    "            stop == 'true'\n",
    "            return\n",
    "        n += 1\n",
    "        \n",
    "fun(20)\n",
    "fun(3444)\n",
    "fun(13)\n",
    "fun(58)"
   ]
  },
  {
   "cell_type": "code",
   "execution_count": 1,
   "id": "0fddca9b-747b-4e4b-900f-2e6efc2a6526",
   "metadata": {},
   "outputs": [
    {
     "name": "stdin",
     "output_type": "stream",
     "text": [
      " 10000\n"
     ]
    },
    {
     "name": "stdout",
     "output_type": "stream",
     "text": [
      "59\n"
     ]
    }
   ],
   "source": [
    "# 재귀 호출로 인한 reculsiveError\n",
    "\n",
    "a = int(input())\n",
    "\n",
    "def f(n):\n",
    "    if n == 1:\n",
    "        return 1\n",
    "    elif n == 2:\n",
    "        return 2\n",
    "    else:\n",
    "        answer = f(n-1) + 6*n - 12\n",
    "        return answer\n",
    "    \n",
    "def g(n):\n",
    "    if n == 1:\n",
    "        return 1\n",
    "    elif n == 2:\n",
    "        return 7\n",
    "    else:\n",
    "        answer = g(n-1) + 6*n- 6\n",
    "        return answer\n",
    "    \n",
    "def fun(x):\n",
    "    n = 1\n",
    "    stop = 'false'\n",
    "    while(stop):\n",
    "        if f(n) <= x <= g(n):\n",
    "            print(n)\n",
    "            stop == 'true'\n",
    "            return\n",
    "        n += 1\n",
    "        \n",
    "fun(a)        "
   ]
  },
  {
   "cell_type": "code",
   "execution_count": 33,
   "id": "4f678bcb-b9a9-45d4-bbb0-7c1e7cf9be29",
   "metadata": {},
   "outputs": [
    {
     "name": "stdin",
     "output_type": "stream",
     "text": [
      " 58\n"
     ]
    },
    {
     "name": "stdout",
     "output_type": "stream",
     "text": [
      "5\n"
     ]
    }
   ],
   "source": [
    "# 메모리 초과\n",
    "\n",
    "a = int(input())\n",
    "\n",
    "list_f = list()\n",
    "list_g = list()\n",
    "\n",
    "list_f.append(1)\n",
    "list_f.append(2)\n",
    "list_g.append(1)\n",
    "list_g.append(7)\n",
    "\n",
    "active = True\n",
    "n = 2\n",
    "\n",
    "while(active):\n",
    "    if 2 <= a <= 7:\n",
    "        print(2)\n",
    "        active = False\n",
    "    else:\n",
    "        f_answer = list_f[n-1] + 6*n - 6\n",
    "        g_answer = list_g[n-1] + 6*n\n",
    "        if f_answer <= a <= g_answer:\n",
    "            print(n+1)\n",
    "            active = False\n",
    "        else:\n",
    "            list_f.append(f_answer)\n",
    "            list_g.append(g_answer)\n",
    "            n += 1\n"
   ]
  },
  {
   "cell_type": "code",
   "execution_count": 81,
   "id": "5adef0d7-9c24-415f-a2f7-b118f807b484",
   "metadata": {},
   "outputs": [
    {
     "name": "stdin",
     "output_type": "stream",
     "text": [
      " 58\n"
     ]
    },
    {
     "name": "stdout",
     "output_type": "stream",
     "text": [
      "5\n"
     ]
    }
   ],
   "source": [
    "a = int(input())\n",
    "\n",
    "g_answer = 1\n",
    "active = True\n",
    "n = 1\n",
    "\n",
    "if a == 1:\n",
    "    print(1)\n",
    "else:\n",
    "    while(active):\n",
    "        g_answer += 6*n\n",
    "        if a <= g_answer:\n",
    "            print(n+1)\n",
    "            active = False\n",
    "            break\n",
    "        else:\n",
    "            n += 1\n"
   ]
  },
  {
   "cell_type": "markdown",
   "id": "525c8e0e-2c0a-4393-ad59-a535d1168aeb",
   "metadata": {
    "tags": []
   },
   "source": [
    "## 분수찾기\n",
    "- url : https://www.acmicpc.net/problem/1193\n",
    "- 패턴 찾기\n",
    "- 분자\n",
    "  - 1 [1]\n",
    "  - 1 2 [2~3] 자모합 3, 2개\n",
    "  - 3 2 1 [4~6] 자모합 4, 3개 start 4\n",
    "  - 1 2 3 4 [7~10] 자모합 5, 4개\n",
    "  - 5 4 3 2 1 [11~15] 자모합 6, 5개 start 11\n",
    "  - 1 2 3 4 5 6 [16~21] 자모합 7, 6개 \n",
    "  - 7 6 5 4 3 2 1 [22~28] 자모합 8, 7개, start 22\n",
    "- 분모\n",
    "  - 1 [1]\n",
    "  - 2 1 [2~3]\n",
    "  - 1 2 3 [4~6]\n",
    "  - 4 3 2 1 [7~10]\n",
    "  - 1 2 3 4 5 [11~15]\n",
    "  - 6 5 4 3 2 1 [16~21] start 16\n",
    "  - 1 2 3 4 5 6 7 [22~28] \n",
    "- 순서\n",
    "  - 1/1 \n",
    "  - 2/1 \n",
    "  - 1/2 #3\n",
    "  - 1/3 #4\n",
    "  - 2/2 \n",
    "  - 3/1\n",
    "  - 4/1 #7\n",
    "  - 3/2\n",
    "  - 2/3\n",
    "  - 1/4 #10\n",
    "  - 1/5 #11\n",
    "  - 2/4\n",
    "  - 3/3\n",
    "  - 4/2\n",
    "  - 5/1 #15\n",
    "  - 4/1\n",
    "  - 3/2\n",
    "  - 2/3\n",
    "  - 1/5 #19\n",
    "  - 1/6 #20\n",
    "  - 2/5\n",
    "  - 3/4\n",
    "  - 4/3\n",
    "  - 5/2\n",
    "  - 6/1 #25\n",
    "  - 5/2\n",
    "  - 4/3\n",
    "  - 3/4\n",
    "  - 2/5\n",
    "  - 1/6 #30\n",
    "  - 1/7 #31\n",
    "  - 2\n",
    "  - 3\n",
    "  - 4\n",
    "  - 5\n",
    "  - 6\n",
    "  - 7\n",
    "  - 6\n",
    "  - 5\n",
    "  - 4\n",
    "  - 3\n",
    "  - 2\n",
    "  - 1 #43\n",
    "  - 1\n",
    "- 분자가 1인 경우가 연속으로 2번 나오는 경우 (지그재그 방향이 바뀌는 순간)\n",
    "  - 3, 10, 19, 30, 43... 각 포인트에서 7, 9, 11, 13씩 늘어남\n",
    "  - f(1) = 3\n",
    "  - f(2) = 3 + 7\n",
    "  - f(3) = 3 + 7 + 9\n",
    "  - f(4) = 3 + 7 + 9 + 11\n",
    "  - f(5) = f(4) + 13 -> f(n) = f(n-1) + 2(n-2) + 7 -> f(n) = f(n-1) + 2n+3 (n >= 2)\n",
    "  \n",
    "  "
   ]
  },
  {
   "cell_type": "code",
   "execution_count": null,
   "id": "2a20b037-f1e8-4e28-866d-c1de82c6ef2d",
   "metadata": {},
   "outputs": [],
   "source": []
  },
  {
   "cell_type": "markdown",
   "id": "bc139dbe-c3c9-487b-92f0-d5a56d983566",
   "metadata": {},
   "source": [
    "## 큰 수 A+B\n",
    "- url : https://www.acmicpc.net/problem/10757"
   ]
  },
  {
   "cell_type": "code",
   "execution_count": 82,
   "id": "8c7ce994-8d4d-469a-88a1-270e2f5cd3ce",
   "metadata": {},
   "outputs": [
    {
     "name": "stdin",
     "output_type": "stream",
     "text": [
      " 9223372036854775807 9223372036854775808\n"
     ]
    },
    {
     "name": "stdout",
     "output_type": "stream",
     "text": [
      "18446744073709551615\n"
     ]
    }
   ],
   "source": [
    "a= list(map(int, input().split(' ')))\n",
    "print(a[0]+a[1])"
   ]
  },
  {
   "cell_type": "markdown",
   "id": "5b4b8057-360a-4fb5-9a9f-8769ca629dd7",
   "metadata": {},
   "source": [
    "## 부녀회장이 될테야\n",
    "- url : https://www.acmicpc.net/problem/2775\n",
    "- 패턴\n",
    "  - a층의 b호에 살려면 자신의 아래(a-1)층의 1호부터 b호까지 사람들의 수의 합만큼 데려와 살아야 함\n",
    "  - 아파트는 0층부터 있고 각 층에는 1호부터 있으며 0층의 i호에는 i명이 삼\n",
    "  - 1층 5호 = 0층의 1호, 2호, 3호, 4호, 5호의 합\n",
    "  - 1층 n호 = n(n+1)/2\n",
    "  - 2층 1호 = 1층 1호만\n",
    "  - 2층 2호 = 1층 1호 + 2호\n",
    "  - 2층 3호 = 1층 1호 + 2호 + 3호.....\n",
    "  - 1층 n호까지의 전체 합 = (n^2+n의 전체 합)/2\n",
    "  - 3층 2호 = 2층 1호 + 2층 2호 + 2층 3호.....\n",
    "- 패턴 적은 결과\n",
    "  - 3층 2호 = 2층 1호 * 1, 2호 * 1 {1, 1}\n",
    "  - 3층 3호 = 2층 1호 * 1, 2호 * 1, 3호 * 1 {1, 1, 1}\n",
    "  - 3층 4호 = 2층 1호 * 1, 2호 * 1, 3호 * 1, 4호 * 1 {1, 1, 1, 1}\n",
    "  - 3층 5호 = 2층 1호 * 1, 2호 * 1, 3호 * 1, 4호 * 1, 5호 * 1 {1, 1, 1, 1, 1}\n",
    "  - 4층 2호 = 2층 1호 * 2, 2호 * 1 {2, 1}\n",
    "  - 4층 3호 = 2층 1호 * 3, 2호 * 2, 3호 * 1 {3, 2, 1}\n",
    "  - 4층 4호 = 2층 1호 * 4, 2호 * 3, 3호 * 2, 4호 * 1 {4, 3, 2, 1}\n",
    "  - 4층 5호 = 2층 1호 * 5, 2호 * 4, 3호 * 3, 4호 * 2, 5호 * 1 {5, 4, 3, 2, 1}\n",
    "  - 5총 2호 = 2층 1호 * 3, 2호 * 1 {3, 1}\n",
    "  - 5층 3호 = 2층 1호 * 6, 2호 * 3, 3호 * 1 {6, 3, 1}\n",
    "  - 5층 4호 = 2층 1호 * 10, 2호 * 6, 3호 * 2, 4호 * 1 {10, 6, 3, 1}\n",
    "  - 5층 5호 = 2층 1호 * 15, 2호 * 10, 3호 * 6, 4호 * 3, 5호 * 1 {15, 10, 6, 3, 1}\n",
    "- 한번 더 정리\n",
    "  - 3층의 n호 = n개 호에 대해 2층 1호 1개, 2층 2호 1개, .... 2층 n호 1개\n",
    "  - 4층의 n호 = n개 호에 대해 2층 1호 n개, 2호 n-1개, .... 2층 n호 1개\n",
    "  - 5층의 n호 = n개 호에 대해 2층 1호\n",
    "  - 5층의 4호= 5층 3호 + 4층 4호 = 5층 2호 + 4층 3호 + 4층 4호"
   ]
  },
  {
   "cell_type": "code",
   "execution_count": 91,
   "id": "c61f45b4-833e-4315-8586-6f326f9e5a27",
   "metadata": {},
   "outputs": [
    {
     "name": "stdout",
     "output_type": "stream",
     "text": [
      "10.0\n"
     ]
    }
   ],
   "source": [
    "list_first = list()\n",
    "\n",
    "n = 5\n",
    "\n",
    "# 1층 n호까지의 전체 인구수 합 = 2층 n호에 거주하는 인원\n",
    "sig1 = n*(n + 1) * (2*n + 1) / 6\n",
    "sig2 = n*(n+1) / 2\n",
    "result = (sig1 + sig2) / 2\n",
    "\n",
    "# 2층 n호까지 거주하는 인원 합\n",
    "def fun(n):\n",
    "    \n",
    "    summary = 0\n",
    "    for i in range(n):\n",
    "        sig1 = n*(n + 1) * (2*n + 1) / 6\n",
    "        sig2 = n*(n+1) / 2\n",
    "        result = (sig1 + sig2) / 2\n",
    "        summary += result\n",
    "        \n",
    "    return result\n",
    "\n",
    "print(fun(2))\n",
    "\n",
    "# 3층 n호까지 거주하는 인원 합\n",
    "def fun3(m, n):\n",
    "    \n",
    "    totalsummary = 0\n",
    "    for i in range(n):\n",
    "        summary = 0\n",
    "        for i in range(n):\n",
    "            sig1 = n*(n + 1) * (2*n + 1) / 6\n",
    "            sig2 = n*(n+1) / 2\n",
    "            result = (sig1 + sig2) / 2\n",
    "            summary += result"
   ]
  }
 ],
 "metadata": {
  "kernelspec": {
   "display_name": "Python 3 (ipykernel)",
   "language": "python",
   "name": "python3"
  },
  "language_info": {
   "codemirror_mode": {
    "name": "ipython",
    "version": 3
   },
   "file_extension": ".py",
   "mimetype": "text/x-python",
   "name": "python",
   "nbconvert_exporter": "python",
   "pygments_lexer": "ipython3",
   "version": "3.9.7"
  }
 },
 "nbformat": 4,
 "nbformat_minor": 5
}
