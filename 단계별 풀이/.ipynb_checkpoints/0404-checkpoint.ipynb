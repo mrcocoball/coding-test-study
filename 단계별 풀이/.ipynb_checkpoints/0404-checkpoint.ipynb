{
 "cells": [
  {
   "cell_type": "markdown",
   "id": "0b5fb535-ae31-40ef-92dc-d4ca2752c46e",
   "metadata": {},
   "source": [
    "## 수 찾기\n",
    "- url : https://www.acmicpc.net/problem/1920"
   ]
  },
  {
   "cell_type": "code",
   "execution_count": 1,
   "id": "9724546e-c8dc-48ec-a7b3-f7c0a5c8af84",
   "metadata": {},
   "outputs": [
    {
     "name": "stdin",
     "output_type": "stream",
     "text": [
      " 5\n",
      " 4 1 5 2 3\n",
      " 5\n",
      " 1 3 7 9 5\n"
     ]
    },
    {
     "name": "stdout",
     "output_type": "stream",
     "text": [
      "1\n",
      "1\n",
      "0\n",
      "0\n",
      "1\n"
     ]
    }
   ],
   "source": [
    "t1 = int(input())\n",
    "a_list = list(map(int, input().split(' ')))\n",
    "t2 = int(input())\n",
    "b_list = list(map(int, input().split(' ')))\n",
    "\n",
    "a_set = set(a_list)\n",
    "b_set = set(b_list)\n",
    "\n",
    "c = a_set.intersection(b_set) # 교집합\n",
    "\n",
    "for i in range(t2):\n",
    "    if b_list[i] in c:\n",
    "        print(1)\n",
    "    else:\n",
    "        print(0)"
   ]
  },
  {
   "cell_type": "markdown",
   "id": "41416014-cc14-4383-a22d-a8d4954a882b",
   "metadata": {},
   "source": [
    "## Hashing\n",
    "- url : https://www.acmicpc.net/problem/15829"
   ]
  },
  {
   "cell_type": "code",
   "execution_count": 17,
   "id": "e5f2cb75-1964-4482-aa68-3a70379ea1ae",
   "metadata": {},
   "outputs": [
    {
     "name": "stdin",
     "output_type": "stream",
     "text": [
      " 3\n",
      " zzz\n"
     ]
    },
    {
     "name": "stdout",
     "output_type": "stream",
     "text": [
      "25818\n"
     ]
    }
   ],
   "source": [
    "t = int(input())\n",
    "a = input()\n",
    "\n",
    "alphabet = ['a', 'b', 'c', 'd', 'e', 'f', 'g', 'h', 'i', 'j', 'k', 'l', 'm', 'n', 'o', 'p', 'q', 'r', 's', 't', 'u', 'v', 'w', 'x', 'y', 'z']\n",
    "\n",
    "sum = 0\n",
    "for i in range(len(a)):\n",
    "    sum += (alphabet.index(a[i])+1) * (31**i)\n",
    "print(sum)"
   ]
  },
  {
   "cell_type": "code",
   "execution_count": 7,
   "id": "6e2bc4dd-ddd8-45d2-bacb-6ab998983790",
   "metadata": {},
   "outputs": [
    {
     "ename": "NameError",
     "evalue": "name 'char' is not defined",
     "output_type": "error",
     "traceback": [
      "\u001b[1;31m---------------------------------------------------------------------------\u001b[0m",
      "\u001b[1;31mNameError\u001b[0m                                 Traceback (most recent call last)",
      "\u001b[1;32m~\\AppData\\Local\\Temp/ipykernel_29376/3022297338.py\u001b[0m in \u001b[0;36m<module>\u001b[1;34m\u001b[0m\n\u001b[1;32m----> 1\u001b[1;33m \u001b[0mchar\u001b[0m\u001b[1;33m(\u001b[0m\u001b[0mz\u001b[0m\u001b[1;33m)\u001b[0m\u001b[1;33m\u001b[0m\u001b[1;33m\u001b[0m\u001b[0m\n\u001b[0m",
      "\u001b[1;31mNameError\u001b[0m: name 'char' is not defined"
     ]
    }
   ],
   "source": []
  }
 ],
 "metadata": {
  "kernelspec": {
   "display_name": "Python 3 (ipykernel)",
   "language": "python",
   "name": "python3"
  },
  "language_info": {
   "codemirror_mode": {
    "name": "ipython",
    "version": 3
   },
   "file_extension": ".py",
   "mimetype": "text/x-python",
   "name": "python",
   "nbconvert_exporter": "python",
   "pygments_lexer": "ipython3",
   "version": "3.9.7"
  }
 },
 "nbformat": 4,
 "nbformat_minor": 5
}
