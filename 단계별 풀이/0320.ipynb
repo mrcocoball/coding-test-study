{
 "cells": [
  {
   "cell_type": "markdown",
   "id": "41fd8d5b-dd5c-44a2-973a-e93b04a78e87",
   "metadata": {},
   "source": [
    "## 행렬 덧셈\n",
    "- url : https://www.acmicpc.net/problem/2738"
   ]
  },
  {
   "cell_type": "code",
   "execution_count": 31,
   "id": "10d2d2f9-c767-47ad-97bc-f060c221ce4a",
   "metadata": {},
   "outputs": [
    {
     "name": "stdin",
     "output_type": "stream",
     "text": [
      " 3 3\n",
      " 1 1 1\n",
      " 2 2 2\n",
      " 3 3 3\n",
      " 4 4 4\n",
      " 5 5 5\n",
      " 6 6 6\n"
     ]
    },
    {
     "name": "stdout",
     "output_type": "stream",
     "text": [
      "5 5 5\n",
      "7 7 7\n",
      "9 9 9\n"
     ]
    }
   ],
   "source": [
    "a = list(map(int, input().split(' ')))\n",
    "m = a[0]\n",
    "n = a[1]\n",
    "mat_result = list()\n",
    "\n",
    "while True:\n",
    "    try:\n",
    "        if m != 0 and n != 0:    \n",
    "            for i in range(n):\n",
    "                mat_sub_result = list()\n",
    "                for j in range(m):\n",
    "                    mat_sub_result.append(0)\n",
    "                mat_result.append(mat_sub_result)\n",
    "\n",
    "            for i in range(n):\n",
    "                mat1 = list(map(int, input().split(' ')))\n",
    "                for j in range(m):\n",
    "                    mat_result[i][j] += mat1[j]\n",
    "\n",
    "            for i in range(n):\n",
    "                mat2 = list(map(int, input().split(' ')))\n",
    "                for j in range(m):\n",
    "                    mat_result[i][j] += mat2[j]\n",
    "\n",
    "            for i in range(len(mat_result)):\n",
    "                print(' '.join(map(str, mat_result[i])))\n",
    "        break\n",
    "    except:\n",
    "        break"
   ]
  },
  {
   "cell_type": "markdown",
   "id": "470aaf8e-ede2-480a-8194-95d28514ecec",
   "metadata": {},
   "source": [
    "## 최댓값\n",
    "- url : https://www.acmicpc.net/problem/2566"
   ]
  },
  {
   "cell_type": "code",
   "execution_count": 33,
   "id": "c5b73d97-095d-4a27-b732-6968523e8414",
   "metadata": {},
   "outputs": [
    {
     "name": "stdin",
     "output_type": "stream",
     "text": [
      " 3 23 85 34 17 74 25 52 65\n",
      " 10 7 39 42 88 52 14 72 63\n",
      " 87 42 18 78 53 45 18 84 53\n",
      " 34 28 64 85 12 16 75 36 55\n",
      " 21 77 45 35 28 75 90 76 1\n",
      " 25 87 65 15 28 11 37 28 74\n",
      " 65 27 75 41 7 89 78 64 39\n",
      " 47 47 70 45 23 65 3 41 44\n",
      " 87 13 82 38 31 12 29 29 80\n"
     ]
    },
    {
     "name": "stdout",
     "output_type": "stream",
     "text": [
      "90\n",
      "5 7\n"
     ]
    }
   ],
   "source": [
    "matrix = list()\n",
    "max_n = 0\n",
    "max_i = 0\n",
    "for i in range(9):\n",
    "    matrix_list = list(map(int, input().split(' ')))\n",
    "    matrix.append(matrix_list)\n",
    "    # max 함수 사용\n",
    "    if max(matrix_list) >= max_n:\n",
    "        max_n = max(matrix_list)\n",
    "        max_i = i\n",
    "\n",
    "# index 함수 사용\n",
    "position = matrix[max_i].index(max_n)\n",
    "print(max_n)\n",
    "print(str(max_i+1) + \" \" + str(position+1))"
   ]
  },
  {
   "cell_type": "markdown",
   "id": "c16066b4-365a-45f5-b898-13d995e8a4ae",
   "metadata": {},
   "source": [
    "## 세로읽기\n",
    "- url : https://www.acmicpc.net/problem/10798"
   ]
  },
  {
   "cell_type": "code",
   "execution_count": 34,
   "id": "d5964797-8743-4121-be5f-96f3ac1e5f40",
   "metadata": {},
   "outputs": [
    {
     "name": "stdin",
     "output_type": "stream",
     "text": [
      " abcd\n",
      " abd\n",
      " a\n",
      " ad\n",
      " d\n"
     ]
    },
    {
     "name": "stdout",
     "output_type": "stream",
     "text": [
      "aaaadbbdcdd\n"
     ]
    }
   ],
   "source": [
    "matrix = list()\n",
    "max_length = 0\n",
    "for i in range(5):\n",
    "    matrix_str = input()\n",
    "    matrix.append(matrix_str)\n",
    "    if len(matrix_str) >= max_length:\n",
    "        max_length = len(matrix_str)\n",
    "answer_list = list()\n",
    "for i in range(max_length):\n",
    "    for j in range(5):\n",
    "        if len(matrix[j]) >= i+1:\n",
    "            answer_list.append(matrix[j][i])\n",
    "            \n",
    "print(''.join(answer_list))"
   ]
  },
  {
   "cell_type": "markdown",
   "id": "e90d7e38-e3f3-4ca3-8691-f5328d95f2ab",
   "metadata": {},
   "source": [
    "## 색종이\n",
    "- url : https://www.acmicpc.net/problem/2563"
   ]
  },
  {
   "cell_type": "code",
   "execution_count": null,
   "id": "eb8e891c-18b2-43cf-8e5d-96fa44b1d315",
   "metadata": {},
   "outputs": [],
   "source": [
    "# https://ji-gwang.tistory.com/325?category=1044736\n",
    "\n",
    "N = int(input())\n",
    "array = [[0] * 100 for _ in range(100)]  # 도화지 범위 초기화\n",
    "for _ in range(N):  # 입력 받은 도화지 개수만큼 돈다.\n",
    "    y1, x1 = map(int, input().split())  # 왼쪽아래 x,y 좌표를 받는다.\n",
    "\n",
    "    for i in range(x1, x1 + 10):  # 세로를 돈다.\n",
    "        for j in range(y1, y1 + 10):  # 가로를 돈다.\n",
    "            array[i][j] = 1  # 해당 범위 값을 0에서 1로 바꿔준다.\n",
    "\n",
    "result = 0  # 넓이를 출력할 변수\n",
    "for k in range(100):  # 전체 도화지를 돌면서\n",
    "    result += array[k].count(1)  # 1 개수만 세어준다\n",
    "\n",
    "print(result)"
   ]
  }
 ],
 "metadata": {
  "kernelspec": {
   "display_name": "Python 3 (ipykernel)",
   "language": "python",
   "name": "python3"
  },
  "language_info": {
   "codemirror_mode": {
    "name": "ipython",
    "version": 3
   },
   "file_extension": ".py",
   "mimetype": "text/x-python",
   "name": "python",
   "nbconvert_exporter": "python",
   "pygments_lexer": "ipython3",
   "version": "3.9.7"
  }
 },
 "nbformat": 4,
 "nbformat_minor": 5
}
