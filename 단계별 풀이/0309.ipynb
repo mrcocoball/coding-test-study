{
 "cells": [
  {
   "cell_type": "markdown",
   "id": "44f2e5d6-2606-475e-9bfa-00b17b3dc2a7",
   "metadata": {},
   "source": [
    "## 영화감독 숌\n",
    "- url : https://www.acmicpc.net/problem/1436\n",
    "- 문제 설명 :\n",
    "\n",
    "666은 종말을 나타내는 수라고 한다. 따라서, 많은 블록버스터 영화에서는 666이 들어간 제목을 많이 사용한다. 영화감독 숌은 세상의 종말 이라는 시리즈 영화의 감독이다. 조지 루카스는 스타워즈를 만들 때, 스타워즈 1, 스타워즈 2, 스타워즈 3, 스타워즈 4, 스타워즈 5, 스타워즈 6과 같이 이름을 지었고, 피터 잭슨은 반지의 제왕을 만들 때, 반지의 제왕 1, 반지의 제왕 2, 반지의 제왕 3과 같이 영화 제목을 지었다. 하지만 숌은 자신이 조지 루카스와 피터 잭슨을 뛰어넘는다는 것을 보여주기 위해서 영화 제목을 좀 다르게 만들기로 했다.\n",
    "\n",
    "종말의 수란 어떤 수에 6이 적어도 3개 이상 연속으로 들어가는 수를 말한다. 제일 작은 종말의 수는 666이고, 그 다음으로 큰 수는 1666, 2666, 3666, .... 이다. 따라서, 숌은 첫 번째 영화의 제목은 \"세상의 종말 666\", 두 번째 영화의 제목은 \"세상의 종말 1666\"와 같이 이름을 지을 것이다. 일반화해서 생각하면, N번째 영화의 제목은 세상의 종말 (N번째로 작은 종말의 수) 와 같다.\n",
    "\n",
    "숌이 만든 N번째 영화의 제목에 들어간 수를 출력하는 프로그램을 작성하시오. 숌은 이 시리즈를 항상 차례대로 만들고, 다른 영화는 만들지 않는다."
   ]
  },
  {
   "cell_type": "markdown",
   "id": "be558028-8336-47bd-b483-fb6fc167f648",
   "metadata": {},
   "source": [
    "숫자를 str화 시킨 후 666이 포함되는지 확인"
   ]
  },
  {
   "cell_type": "code",
   "execution_count": 71,
   "id": "eaf462dc-2cbf-4824-b18e-a47c3275846c",
   "metadata": {},
   "outputs": [
    {
     "name": "stdin",
     "output_type": "stream",
     "text": [
      " 5\n"
     ]
    }
   ],
   "source": [
    "n = int(input())\n",
    "count = 0\n",
    "six_n = 666\n",
    "while True:\n",
    "    if '666' in str(six_n):\n",
    "        count += 1\n",
    "    if count == n:\n",
    "        print(six_n)\n",
    "        break\n",
    "    six_n += 1"
   ]
  },
  {
   "cell_type": "markdown",
   "id": "ad1a87ec-d5f1-43a2-accc-5630bf071530",
   "metadata": {},
   "source": [
    " ## 체스판 다시 칠하기[GG]\n",
    " - url : https://www.acmicpc.net/problem/1018\n",
    " - 문제 설명 :\n",
    " \n",
    " 지민이는 자신의 저택에서 MN개의 단위 정사각형으로 나누어져 있는 M×N 크기의 보드를 찾았다. 어떤 정사각형은 검은색으로 칠해져 있고, 나머지는 흰색으로 칠해져 있다. 지민이는 이 보드를 잘라서 8×8 크기의 체스판으로 만들려고 한다.\n",
    "\n",
    "체스판은 검은색과 흰색이 번갈아서 칠해져 있어야 한다. 구체적으로, 각 칸이 검은색과 흰색 중 하나로 색칠되어 있고, 변을 공유하는 두 개의 사각형은 다른 색으로 칠해져 있어야 한다. 따라서 이 정의를 따르면 체스판을 색칠하는 경우는 두 가지뿐이다. 하나는 맨 왼쪽 위 칸이 흰색인 경우, 하나는 검은색인 경우이다.\n",
    "\n",
    "보드가 체스판처럼 칠해져 있다는 보장이 없어서, 지민이는 8×8 크기의 체스판으로 잘라낸 후에 몇 개의 정사각형을 다시 칠해야겠다고 생각했다. 당연히 8*8 크기는 아무데서나 골라도 된다. 지민이가 다시 칠해야 하는 정사각형의 최소 개수를 구하는 프로그램을 작성하시오."
   ]
  },
  {
   "cell_type": "code",
   "execution_count": null,
   "id": "d85c7dbf-b092-43d9-ad51-999698d68e64",
   "metadata": {},
   "outputs": [],
   "source": []
  },
  {
   "cell_type": "markdown",
   "id": "791e4306-5445-4de3-b342-0e163f9c48b9",
   "metadata": {},
   "source": [
    "## 설탕 배달 [GG]\n",
    "- url : https://www.acmicpc.net/problem/2839\n",
    "- 문제 설명 :\n",
    "\n",
    "상근이는 요즘 설탕공장에서 설탕을 배달하고 있다. 상근이는 지금 사탕가게에 설탕을 정확하게 N킬로그램을 배달해야 한다. 설탕공장에서 만드는 설탕은 봉지에 담겨져 있다. 봉지는 3킬로그램 봉지와 5킬로그램 봉지가 있다.\n",
    "\n",
    "상근이는 귀찮기 때문에, 최대한 적은 봉지를 들고 가려고 한다. 예를 들어, 18킬로그램 설탕을 배달해야 할 때, 3킬로그램 봉지 6개를 가져가도 되지만, 5킬로그램 3개와 3킬로그램 1개를 배달하면, 더 적은 개수의 봉지를 배달할 수 있다.\n",
    "\n",
    "상근이가 설탕을 정확하게 N킬로그램 배달해야 할 때, 봉지 몇 개를 가져가면 되는지 그 수를 구하는 프로그램을 작성하시오."
   ]
  },
  {
   "cell_type": "code",
   "execution_count": 149,
   "id": "8146c63f-ffb5-43f4-bab1-878681507a46",
   "metadata": {},
   "outputs": [
    {
     "name": "stdin",
     "output_type": "stream",
     "text": [
      " 28\n"
     ]
    },
    {
     "name": "stdout",
     "output_type": "stream",
     "text": [
      "6\n"
     ]
    }
   ],
   "source": [
    "a = int(input())\n",
    "# 3kg짜리 x개, 5kg짜리 y개\n",
    "count = 0\n",
    "answer = False\n",
    "\n",
    "divy = a//5 # 5kg짜리로 나눴을 때의 몫\n",
    "divx = a//3 # 3kg 짜리로 나눴을 때의 몫\n",
    "after_y = a%5 # 5kg짜리로 나눴을때의 나머지\n",
    "n = 0\n",
    "if a%5 == 0: # 5kg짜리만으로 정확히 나눠지면\n",
    "    print(divy)\n",
    "    answer = True\n",
    "elif a%5 % 3 == 0: # 5kg짜리로 나눴는데 3kg로 더 나눌 수 있으면\n",
    "    print(divy+(a%5 // 3))\n",
    "    answer = True\n",
    "else:\n",
    "    x = 0\n",
    "    y = 0\n",
    "    while count < a:\n",
    "        y +=1\n",
    "        check = a - 3 * x - 5 * y\n",
    "        if check > 0:\n",
    "            #print(\"check\", check)\n",
    "            if check % 5 == 0:\n",
    "                print(x+y+(check // 5))\n",
    "                answer = True\n",
    "                break\n",
    "            if check % 3 == 0:\n",
    "                print(x+y+(check // 3))\n",
    "                answer = True\n",
    "                break\n",
    "        else:\n",
    "            break\n",
    "        x += 1\n",
    "        check = a - 3 * x - 5 * y\n",
    "        if check > 0:\n",
    "            #print(\"check\", check)\n",
    "            if check % 3 == 0:\n",
    "                print(x+y+(check // 3))\n",
    "                answer = True\n",
    "                break\n",
    "            if check % 5 == 0:\n",
    "                print(x+y+(check // 5))\n",
    "                answer = True\n",
    "                break\n",
    "            count += 1\n",
    "        else:\n",
    "            break\n",
    "            \n",
    "if a%3 == 0 and answer == False: # 3kg짜리만으로 정확히 나눠지면\n",
    "    print(divx)\n",
    "    answer = True    \n",
    "elif a%3 % 5 == 0 and answer == False: # 3kg짜리로 나눴는데 5kg로 더 나눌 수 있으면\n",
    "    print(divx + (a%5 // 5))\n",
    "    answer = True\n",
    "else:\n",
    "    pass\n",
    "if answer == False:\n",
    "    print(\"-1\")"
   ]
  },
  {
   "cell_type": "code",
   "execution_count": null,
   "id": "aff55c2b-f903-4d75-90d5-201e76aa39fe",
   "metadata": {},
   "outputs": [],
   "source": [
    "#https://velog.io/@goplanit/Algorithm-%EB%B0%B1%EC%A4%80-2839%EB%B2%88-%EC%84%A4%ED%83%95-%EB%B0%B0%EB%8B%AC%ED%8C%8C%EC%9D%B4%EC%8D%AC\n",
    "\n",
    "num = int(input())\n",
    "count = 0\n",
    "\n",
    "while num >= 0:\n",
    "  if num % 5 == 0:\n",
    "    count += int(num // 5)\n",
    "    print(count)\n",
    "    break\n",
    "  \n",
    "  num -= 3\n",
    "  count += 1\n",
    "  \n",
    "else:\n",
    "  print(-1)"
   ]
  }
 ],
 "metadata": {
  "kernelspec": {
   "display_name": "Python 3 (ipykernel)",
   "language": "python",
   "name": "python3"
  },
  "language_info": {
   "codemirror_mode": {
    "name": "ipython",
    "version": 3
   },
   "file_extension": ".py",
   "mimetype": "text/x-python",
   "name": "python",
   "nbconvert_exporter": "python",
   "pygments_lexer": "ipython3",
   "version": "3.9.7"
  }
 },
 "nbformat": 4,
 "nbformat_minor": 5
}
