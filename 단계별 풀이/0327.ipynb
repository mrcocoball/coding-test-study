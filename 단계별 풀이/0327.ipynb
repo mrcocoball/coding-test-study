{
 "cells": [
  {
   "cell_type": "markdown",
   "id": "46fb481e-a2fe-4464-b5e4-86e3cb85f4a6",
   "metadata": {},
   "source": [
    "## N과 M(1)\n",
    "- url : https://www.acmicpc.net/problem/15649"
   ]
  },
  {
   "cell_type": "markdown",
   "id": "bb916a56-024c-48b7-85b3-ed5fd61775ba",
   "metadata": {},
   "source": [
    "- 백 트래킹 기법 : 각 후보군을 DFS 방식으로 확인\n",
    "- 상태 공간 트리를 탐색하며 제약이 맞지 않으면 해의 후보가 될만한 곳으로 바로 넘어가서 탐색\n",
    "- 각 루트에 대해 조건에 부합하는지 체크(Promising), 해당 트리에서 조건에 맞지 않는 노드는 더 이상 DFS로 깊이 탐색을 하지 않고 가지 치키를 함 (Pruning)"
   ]
  },
  {
   "cell_type": "markdown",
   "id": "4de00d99-217d-4ec6-9bcc-e8bae18d7474",
   "metadata": {},
   "source": [
    "## DFS (Depth-First-Search)\n",
    "- need_visit 스택과 visited 큐 두 개의 자료 구조를 생성\n",
    "- need_visit 스택 : 방문이 필요한 노드에 대한 정보를 담은 스택\n",
    "- visited 큐 : 방문한 노드를 순서대로 기입한 큐 (파이썬 리스트)"
   ]
  },
  {
   "cell_type": "code",
   "execution_count": null,
   "id": "fcd5326d-2d05-4d4c-bb5b-97b44fea156f",
   "metadata": {},
   "outputs": [],
   "source": [
    "graph = dict()\n",
    "\n",
    "graph['A'] = ['B', 'C']\n",
    "graph['B'] = ['A', 'D']\n",
    "graph['C'] = ['A', 'G', 'H', 'I']\n",
    "graph['D'] = ['B', 'E', 'F']\n",
    "graph['E'] = ['D']\n",
    "graph['F'] = ['D']\n",
    "graph['G'] = ['C']\n",
    "graph['H'] = ['C']\n",
    "graph['I'] = ['C', 'J']\n",
    "graph['J'] = ['I']\n",
    "\n",
    "def dfs(graph, start_node):\n",
    "    visited = list() # 큐\n",
    "    need_visit = list() # 스택\n",
    "    \n",
    "    need_visit.append(start_node) # 시작점 추가\n",
    "    \n",
    "    while need_visit:\n",
    "        node = need_visit.pop() # need_visit의 첫 인덱스 대상으로 pop\n",
    "        if node not in visited: # 방문한 적이 없는 경우\n",
    "            visited.append(node) # 방문 처리\n",
    "            need_visit.extend(graph[node]) # 그래프의 node의 값을 붙임\n",
    "        return visited"
   ]
  },
  {
   "cell_type": "code",
   "execution_count": 6,
   "id": "51cba033-7558-4902-8440-34f928fec6f8",
   "metadata": {},
   "outputs": [
    {
     "name": "stdin",
     "output_type": "stream",
     "text": [
      " 3 1\n"
     ]
    },
    {
     "name": "stdout",
     "output_type": "stream",
     "text": [
      "1\n",
      "2\n",
      "3\n"
     ]
    }
   ],
   "source": [
    "# https://jiwon-coding.tistory.com/21\n",
    "\n",
    "t = list(map(int, input().split(' ')))\n",
    "n = t[0]\n",
    "m = t[1]\n",
    "\n",
    "s = [] # 출력하는 리스트, 스택\n",
    "\n",
    "def dfs():\n",
    "    if len(s) == m: # 리스트가 전부 채워질 경우\n",
    "        print(' '.join(map(str,s)))\n",
    "        return\n",
    "    \n",
    "    for i in range(1, n+1):\n",
    "        if i not in s:\n",
    "            s.append(i) # 요소를 추가\n",
    "            dfs() # 재귀함수, 가지치기\n",
    "            s.pop() \n",
    "            \n",
    "dfs()"
   ]
  }
 ],
 "metadata": {
  "kernelspec": {
   "display_name": "Python 3 (ipykernel)",
   "language": "python",
   "name": "python3"
  },
  "language_info": {
   "codemirror_mode": {
    "name": "ipython",
    "version": 3
   },
   "file_extension": ".py",
   "mimetype": "text/x-python",
   "name": "python",
   "nbconvert_exporter": "python",
   "pygments_lexer": "ipython3",
   "version": "3.9.7"
  }
 },
 "nbformat": 4,
 "nbformat_minor": 5
}
