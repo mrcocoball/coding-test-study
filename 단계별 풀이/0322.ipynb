{
 "cells": [
  {
   "cell_type": "markdown",
   "id": "c6e21339-cfb5-436d-bc3b-9409a8dc3cea",
   "metadata": {},
   "source": [
    "## 다음 소수\n",
    "- url : https://www.acmicpc.net/problem/4134"
   ]
  },
  {
   "cell_type": "code",
   "execution_count": 17,
   "id": "390f673c-53f5-4036-b637-46e3144ac70c",
   "metadata": {},
   "outputs": [
    {
     "name": "stdin",
     "output_type": "stream",
     "text": [
      " 3\n",
      " 0\n"
     ]
    },
    {
     "name": "stdout",
     "output_type": "stream",
     "text": [
      "2\n"
     ]
    },
    {
     "name": "stdin",
     "output_type": "stream",
     "text": [
      " 1\n"
     ]
    },
    {
     "name": "stdout",
     "output_type": "stream",
     "text": [
      "2\n"
     ]
    },
    {
     "name": "stdin",
     "output_type": "stream",
     "text": [
      " 2\n"
     ]
    },
    {
     "name": "stdout",
     "output_type": "stream",
     "text": [
      "2\n"
     ]
    }
   ],
   "source": [
    "import sys\n",
    "\n",
    "t = int(input())\n",
    "\n",
    "for i in range(t):\n",
    "    #a = int(sys.stdin.readline().rstrip())\n",
    "    a = int(input())\n",
    "    if a == 0:\n",
    "        print(2)\n",
    "    else:\n",
    "        # 에라토스테네스의 체 사용, 제곱으로 한 건 그냥 범위 늘리려고 ㅋ;\n",
    "        for j in range(a, a*a+1):\n",
    "            if j == 1:\n",
    "                print(2)\n",
    "                break\n",
    "            for k in range(2, int(j**0.5)+1):\n",
    "                if j%k == 0:\n",
    "                    break\n",
    "            else:\n",
    "                print(j)\n",
    "                break\n",
    "    \n"
   ]
  },
  {
   "cell_type": "code",
   "execution_count": null,
   "id": "c9f4bccf-c6b8-4575-bb88-6504d055dbd8",
   "metadata": {},
   "outputs": [],
   "source": [
    "import sys\n",
    "\n",
    "t = int(input())\n",
    "\n",
    "for i in range(t):\n",
    "    a = int(sys.stdin.readline().rstrip())\n",
    "    #a = int(input())\n",
    "    if a != 0:\n",
    "        for j in range(a, a*2+1):\n",
    "            if j == 1:\n",
    "                continue\n",
    "            for k in range(2, int(j**0.5)+1):\n",
    "                if j%k == 0:\n",
    "                    break\n",
    "            else:\n",
    "                print(j)\n",
    "                break"
   ]
  },
  {
   "cell_type": "markdown",
   "id": "c4f304c8-f820-48b1-af1e-c7dc8735436c",
   "metadata": {},
   "source": [
    "## 소수 구하기\n",
    "- url : https://www.acmicpc.net/problem/1929"
   ]
  },
  {
   "cell_type": "code",
   "execution_count": null,
   "id": "511b4bfd-7dc4-468b-be32-8d1a57812ba1",
   "metadata": {},
   "outputs": [],
   "source": [
    "# 에라토스테네스의 체 활용\n",
    "# 특정 수의 제곱근을 구해 그 제곱근까지의 약수를 구하면 해당 약수를 포함하는 수를 모두 제거할 수 있음\n",
    "\n",
    "m,n=map(int,input().split())\n",
    "\n",
    "for i in range(m,n+1):\n",
    "    if i==1:#1은 소수가 아니므로 제외\n",
    "        continue\n",
    "    for j in range(2,int(i**0.5)+1):\n",
    "        if i%j==0: #약수가 존재하므로 소수가 아님\n",
    "            break   #더이상 검사할 필요가 없으므로 멈춤\n",
    "    else:\n",
    "        print(i)"
   ]
  }
 ],
 "metadata": {
  "kernelspec": {
   "display_name": "Python 3 (ipykernel)",
   "language": "python",
   "name": "python3"
  },
  "language_info": {
   "codemirror_mode": {
    "name": "ipython",
    "version": 3
   },
   "file_extension": ".py",
   "mimetype": "text/x-python",
   "name": "python",
   "nbconvert_exporter": "python",
   "pygments_lexer": "ipython3",
   "version": "3.9.7"
  }
 },
 "nbformat": 4,
 "nbformat_minor": 5
}
