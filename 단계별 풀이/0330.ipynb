{
 "cells": [
  {
   "cell_type": "markdown",
   "id": "58bc877e-646c-49f0-89fb-c7d740934b2e",
   "metadata": {},
   "source": [
    "## 녹색거탑\n",
    "- url : https://www.acmicpc.net/problem/24723"
   ]
  },
  {
   "cell_type": "code",
   "execution_count": 3,
   "id": "3bb30ad6-3122-413d-ba41-f1e05e3faf7c",
   "metadata": {},
   "outputs": [
    {
     "name": "stdin",
     "output_type": "stream",
     "text": [
      " 2\n"
     ]
    },
    {
     "name": "stdout",
     "output_type": "stream",
     "text": [
      "4\n"
     ]
    }
   ],
   "source": [
    "t = int(input())\n",
    "g = 2\n",
    "if t == 1:\n",
    "    print(2)\n",
    "else:\n",
    "    for i in range(1, t):\n",
    "        g *= 2\n",
    "    print(g)"
   ]
  },
  {
   "cell_type": "markdown",
   "id": "076402fb-5ab2-42cb-ad7b-2f4617b8db03",
   "metadata": {},
   "source": [
    "## 네 번째 점\n",
    "- url : https://www.acmicpc.net/problem/3009"
   ]
  },
  {
   "cell_type": "code",
   "execution_count": 6,
   "id": "dc228bfa-f124-4d2a-93ad-807c7cc9003a",
   "metadata": {},
   "outputs": [
    {
     "name": "stdin",
     "output_type": "stream",
     "text": [
      " 30 20\n",
      " 10 10\n",
      " 10 20\n"
     ]
    },
    {
     "name": "stdout",
     "output_type": "stream",
     "text": [
      "30 10\n"
     ]
    }
   ],
   "source": [
    "first = list(map(int, input().split(' ')))\n",
    "second = list(map(int, input().split(' ')))\n",
    "third = list(map(int, input().split(' ')))\n",
    "ansx = 0\n",
    "ansy = 0\n",
    "\n",
    "x_list = [first[0], second[0], third[0]]\n",
    "y_list = [first[1], second[1], third[1]]\n",
    "\n",
    "x_set = set(x_list)\n",
    "y_set = set(y_list)\n",
    "\n",
    "for x in x_set:\n",
    "    count = x_list.count(x)\n",
    "    if count == 1:\n",
    "        ansx = x\n",
    "        \n",
    "for y in y_set:\n",
    "    count = y_list.count(y)\n",
    "    if count == 1:\n",
    "        ansy = y\n",
    "\n",
    "print(str(ansx) + \" \" + str(ansy))"
   ]
  },
  {
   "cell_type": "markdown",
   "id": "d7f879b8-d24c-49f9-8d94-4a2ef73c6afb",
   "metadata": {},
   "source": [
    "## 대지\n",
    "- url : https://www.acmicpc.net/problem/9063"
   ]
  },
  {
   "cell_type": "code",
   "execution_count": null,
   "id": "b1182208-44ac-44c5-acac-95689d8d09dc",
   "metadata": {},
   "outputs": [],
   "source": [
    "\n",
    "\n",
    "t = int(input())\n",
    "x = list()\n",
    "y = list()\n",
    "\n",
    "for i in range(t):\n",
    "    xy = list(map(int, input().split(' ')))\n",
    "    x.append(xy[0])\n",
    "    y.append(xy[1])\n",
    "\n",
    "if t == 1:\n",
    "    print(0)\n",
    "else:\n",
    "    max_x = max(x)\n",
    "    min_x = min(x)\n",
    "    max_y = max(y)\n",
    "    min_y = min(y)\n",
    "    \n",
    "    print((max_x - min_x) * (max_y - min_y))"
   ]
  },
  {
   "cell_type": "markdown",
   "id": "389052bd-97f0-4edf-a161-1c5a85643291",
   "metadata": {},
   "source": [
    "## 삼각형 외우기\n",
    "- https://www.acmicpc.net/problem/10101"
   ]
  },
  {
   "cell_type": "code",
   "execution_count": 8,
   "id": "01c1feb1-bbf5-4613-a85f-bde5bd734076",
   "metadata": {},
   "outputs": [
    {
     "name": "stdin",
     "output_type": "stream",
     "text": [
      " 60\n",
      " 60\n",
      " 60\n"
     ]
    },
    {
     "name": "stdout",
     "output_type": "stream",
     "text": [
      "Equilateral\n"
     ]
    }
   ],
   "source": [
    "first = int(input())\n",
    "second = int(input())\n",
    "third = int(input())\n",
    "triangle = [first, second, third]\n",
    "\n",
    "if first + second + third != 180:\n",
    "    print(\"Error\")\n",
    "else:\n",
    "    triangle_set = set(triangle)\n",
    "    if len(triangle_set) == 1:\n",
    "        print(\"Equilateral\")\n",
    "    elif len(triangle_set) == 2:\n",
    "        print(\"Isosceles\")\n",
    "    elif len(triangle_set) == 3:\n",
    "        print(\"Scalene\")\n",
    "    else:\n",
    "        pass"
   ]
  },
  {
   "cell_type": "markdown",
   "id": "cda8d1a7-19c1-472c-8ed0-1cd1dbcd9529",
   "metadata": {},
   "source": [
    "## 삼각형과 세 변\n",
    "- url : https://www.acmicpc.net/problem/5073"
   ]
  },
  {
   "cell_type": "code",
   "execution_count": 10,
   "id": "0a698736-f9c4-49e4-b7da-b93e8e0a1479",
   "metadata": {},
   "outputs": [
    {
     "name": "stdin",
     "output_type": "stream",
     "text": [
      " 7 7 7\n"
     ]
    },
    {
     "name": "stdout",
     "output_type": "stream",
     "text": [
      "Equilateral\n"
     ]
    },
    {
     "name": "stdin",
     "output_type": "stream",
     "text": [
      " 0 0 0\n"
     ]
    }
   ],
   "source": [
    "while True:\n",
    "    triangle = list(map(int, input().split(' ')))\n",
    "    first = triangle[0]\n",
    "    second = triangle[1]\n",
    "    third = triangle[2]\n",
    "    \n",
    "    triangle.sort()\n",
    "    \n",
    "    if first == 0 and second == 0 and third == 0:\n",
    "        break\n",
    "    else:\n",
    "        if triangle[2] >= triangle[0] + triangle[1]:\n",
    "            print(\"Invalid\")\n",
    "        else:\n",
    "            triangle_set = set(triangle)\n",
    "            if len(triangle_set) == 1:\n",
    "                print(\"Equilateral\")\n",
    "            elif len(triangle_set) == 2:\n",
    "                print(\"Isosceles\")\n",
    "            elif len(triangle_set) == 3:\n",
    "                print(\"Scalene\")\n",
    "            else:\n",
    "                pass"
   ]
  }
 ],
 "metadata": {
  "kernelspec": {
   "display_name": "Python 3 (ipykernel)",
   "language": "python",
   "name": "python3"
  },
  "language_info": {
   "codemirror_mode": {
    "name": "ipython",
    "version": 3
   },
   "file_extension": ".py",
   "mimetype": "text/x-python",
   "name": "python",
   "nbconvert_exporter": "python",
   "pygments_lexer": "ipython3",
   "version": "3.9.7"
  }
 },
 "nbformat": 4,
 "nbformat_minor": 5
}
