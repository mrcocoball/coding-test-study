{
 "cells": [
  {
   "cell_type": "markdown",
   "id": "b88a02c1-cf57-445b-a63a-5b01b69b18a4",
   "metadata": {},
   "source": [
    "## 배수와 약수\n",
    "- url : https://www.acmicpc.net/problem/5086\n",
    "- 문제 설명"
   ]
  },
  {
   "cell_type": "markdown",
   "id": "1f133930-208b-4b7c-aca0-ea253d6f8df8",
   "metadata": {},
   "source": [
    "4 × 3 = 12이다.\n",
    "이 식을 통해 다음과 같은 사실을 알 수 있다.\n",
    "3은 12의 약수이고, 12는 3의 배수이다.\n",
    "4도 12의 약수이고, 12는 4의 배수이다.\n",
    "\n",
    "두 수가 주어졌을 때, 다음 3가지 중 어떤 관계인지 구하는 프로그램을 작성하시오.\n",
    "\n",
    "첫 번째 숫자가 두 번째 숫자의 약수이다.\n",
    "첫 번째 숫자가 두 번째 숫자의 배수이다.\n",
    "첫 번째 숫자가 두 번째 숫자의 약수와 배수 모두 아니다."
   ]
  },
  {
   "cell_type": "code",
   "execution_count": 3,
   "id": "033dc6e2-693a-4b65-aa3a-34eb59924180",
   "metadata": {},
   "outputs": [
    {
     "name": "stdin",
     "output_type": "stream",
     "text": [
      " 3 3\n"
     ]
    },
    {
     "name": "stdout",
     "output_type": "stream",
     "text": [
      "factor\n"
     ]
    },
    {
     "name": "stdin",
     "output_type": "stream",
     "text": [
      " 2 3\n"
     ]
    },
    {
     "name": "stdout",
     "output_type": "stream",
     "text": [
      "neither\n"
     ]
    },
    {
     "name": "stdin",
     "output_type": "stream",
     "text": [
      " 0 2\n"
     ]
    }
   ],
   "source": [
    "zero = False\n",
    "\n",
    "while zero == False:\n",
    "    a = list(map(int, input().split(' ')))\n",
    "    num1 = a[0]\n",
    "    num2 = a[1]\n",
    "    factor = False\n",
    "    multiple = False\n",
    "\n",
    "    if num1 == 0 or num2 == 0:\n",
    "        zero = True\n",
    "\n",
    "    if zero != True:\n",
    "        if num1 > num2:\n",
    "            if num1 % num2 == 0: # num1이 num2의 배수인지\n",
    "                multiple = True\n",
    "        elif num1 < num2:\n",
    "            if num2 % num1 == 0: # num2가 num1의 배수인지 == num1이 num2의 약수인지\n",
    "                factor = True\n",
    "        else:\n",
    "            factor = True\n",
    "            multiple = True\n",
    "    \n",
    "        if factor:\n",
    "            print(\"factor\")\n",
    "        elif multiple:\n",
    "            print(\"multiple\")\n",
    "        else:\n",
    "            print(\"neither\")"
   ]
  },
  {
   "cell_type": "markdown",
   "id": "c4c8c653-c2b6-41bd-9d26-0e6004c6c48b",
   "metadata": {},
   "source": [
    "## 약수 구하기\n",
    "- url : https://www.acmicpc.net/problem/2501\n",
    "- 문제 설명"
   ]
  },
  {
   "cell_type": "markdown",
   "id": "3aaaacd0-7218-46da-9660-e1dd326527f4",
   "metadata": {},
   "source": [
    "어떤 자연수 p와 q가 있을 때, 만일 p를 q로 나누었을 때 나머지가 0이면 q는 p의 약수이다. \n",
    "\n",
    "6을 예로 들면\n",
    "\n",
    "6 ÷ 1 = 6 … 0\n",
    "6 ÷ 2 = 3 … 0\n",
    "6 ÷ 3 = 2 … 0\n",
    "6 ÷ 4 = 1 … 2\n",
    "6 ÷ 5 = 1 … 1\n",
    "6 ÷ 6 = 1 … 0\n",
    "그래서 6의 약수는 1, 2, 3, 6, 총 네 개이다.\n",
    "\n",
    "두 개의 자연수 N과 K가 주어졌을 때, N의 약수들 중 K번째로 작은 수를 출력하는 프로그램을 작성하시오."
   ]
  },
  {
   "cell_type": "code",
   "execution_count": 12,
   "id": "003fc792-bc2e-46d2-8ffd-ea5accdbd253",
   "metadata": {},
   "outputs": [
    {
     "name": "stdin",
     "output_type": "stream",
     "text": [
      " 12 3\n"
     ]
    },
    {
     "name": "stdout",
     "output_type": "stream",
     "text": [
      "3\n"
     ]
    }
   ],
   "source": [
    "a = list(map(int, input().split(' ')))\n",
    "num1 = a[0]\n",
    "num2 = a[1]\n",
    "\n",
    "num1_list = list()\n",
    "\n",
    "for i in range(1, num1+1):\n",
    "    if num1 % i == 0:\n",
    "        num1_list.append(i)\n",
    "\n",
    "if len(num1_list) >= num2:\n",
    "    print(num1_list[num2-1])\n",
    "else:\n",
    "    print(0)"
   ]
  },
  {
   "cell_type": "markdown",
   "id": "0fcd4c7a-f24a-4704-ad62-6b2139ed0b08",
   "metadata": {},
   "source": [
    "## 약수들의 합\n",
    "- url : https://www.acmicpc.net/problem/9506\n",
    "- 문제 설명"
   ]
  },
  {
   "cell_type": "markdown",
   "id": "4832be43-b9ad-4d53-bba2-12d656c421bf",
   "metadata": {},
   "source": [
    "어떤 숫자 n이 자신을 제외한 모든 약수들의 합과 같으면, 그 수를 완전수라고 한다.\n",
    "\n",
    "예를 들어 6은 6 = 1 + 2 + 3 으로 완전수이다.\n",
    "\n",
    "n이 완전수인지 아닌지 판단해주는 프로그램을 작성하라."
   ]
  },
  {
   "cell_type": "code",
   "execution_count": 26,
   "id": "ec7de98e-6054-42ac-8089-0f2bde4a6cb5",
   "metadata": {},
   "outputs": [
    {
     "name": "stdin",
     "output_type": "stream",
     "text": [
      " 5\n"
     ]
    },
    {
     "name": "stdout",
     "output_type": "stream",
     "text": [
      "5 is NOT perfect.\n"
     ]
    },
    {
     "name": "stdin",
     "output_type": "stream",
     "text": [
      " 6\n"
     ]
    },
    {
     "name": "stdout",
     "output_type": "stream",
     "text": [
      "6 = 1 + 2 + 3\n"
     ]
    },
    {
     "name": "stdin",
     "output_type": "stream",
     "text": [
      " 12\n"
     ]
    },
    {
     "name": "stdout",
     "output_type": "stream",
     "text": [
      "12 is NOT perfect.\n"
     ]
    },
    {
     "name": "stdin",
     "output_type": "stream",
     "text": [
      " 28\n"
     ]
    },
    {
     "name": "stdout",
     "output_type": "stream",
     "text": [
      "28 = 1 + 2 + 4 + 7 + 14\n"
     ]
    },
    {
     "name": "stdin",
     "output_type": "stream",
     "text": [
      " 14\n"
     ]
    },
    {
     "name": "stdout",
     "output_type": "stream",
     "text": [
      "14 is NOT perfect.\n"
     ]
    },
    {
     "name": "stdin",
     "output_type": "stream",
     "text": [
      " -1\n"
     ]
    }
   ],
   "source": [
    "while True:\n",
    "    a = int(input())\n",
    "    \n",
    "    if a <0:\n",
    "        break\n",
    "\n",
    "    a_list = list()\n",
    "    total = 0\n",
    "    perfect = False\n",
    "    string = list()\n",
    "\n",
    "    for i in range(1, a):\n",
    "        if a % i == 0:\n",
    "            a_list.append(i)\n",
    "            total += i\n",
    "            string.append(str(i))\n",
    "\n",
    "    if a == total:\n",
    "        perfect = True\n",
    "    \n",
    "    if perfect:\n",
    "        answer = ' + '.join(string)\n",
    "        print(str(a) + \" = \" + answer)\n",
    "    else:\n",
    "        print(str(a) + \" is NOT perfect.\")"
   ]
  },
  {
   "cell_type": "markdown",
   "id": "082bd018-b6d8-4dd0-934b-6b077c121b8a",
   "metadata": {},
   "source": [
    "문자열 연결 관련 : https://aplab.tistory.com/entry/%ED%8C%8C%EC%9D%B4%EC%8D%AC-%EB%A6%AC%EC%8A%A4%ED%8A%B8-%EB%AC%B8%EC%9E%90%EC%97%B4-%ED%95%A9%EC%B9%98%EA%B8%B0-join"
   ]
  },
  {
   "cell_type": "markdown",
   "id": "c6fc44d6-9ead-4451-8cf2-0140c0ae44e2",
   "metadata": {},
   "source": [
    "## 소수 찾기\n",
    "- url : https://www.acmicpc.net/problem/1978\n",
    "- 문제 설명"
   ]
  },
  {
   "cell_type": "markdown",
   "id": "12b6e769-4a25-4689-b04b-0324c67582b8",
   "metadata": {},
   "source": [
    "주어진 수 N개 중에서 소수가 몇 개인지 찾아서 출력하는 프로그램을 작성하시오."
   ]
  },
  {
   "cell_type": "code",
   "execution_count": 41,
   "id": "ee547325-5e52-4d58-b71e-42bfa9970416",
   "metadata": {},
   "outputs": [
    {
     "name": "stdout",
     "output_type": "stream",
     "text": [
      "[2, 3, 5, 47]\n",
      "4\n"
     ]
    }
   ],
   "source": [
    "#num_list = list()\n",
    "num_list = [1, 2, 3, 20, 5, 6, 47]\n",
    "\n",
    "for i in num_list:\n",
    "    fun(i)\n",
    "\n",
    "def fun(a):\n",
    "    correct = False\n",
    "    if a == 1:\n",
    "        num_list.remove(a)\n",
    "    elif a == 2:\n",
    "        pass\n",
    "    else:\n",
    "        for i in range(2,a):\n",
    "            if a % i == 0:\n",
    "                correct = True\n",
    "                break\n",
    "        if correct:\n",
    "            num_list.remove(a)\n",
    "\n",
    "print(num_list)\n",
    "print(len(num_list))"
   ]
  },
  {
   "cell_type": "code",
   "execution_count": 42,
   "id": "6cd157ed-dae7-4334-b82e-87b05eb32a30",
   "metadata": {},
   "outputs": [
    {
     "name": "stdin",
     "output_type": "stream",
     "text": [
      " 5\n",
      " 1\n",
      " 2\n",
      " 3\n",
      " 4\n",
      " 5\n"
     ]
    },
    {
     "name": "stdout",
     "output_type": "stream",
     "text": [
      "3\n"
     ]
    }
   ],
   "source": [
    "a = int(input())\n",
    "num_list = list()\n",
    "for i in range(a):\n",
    "    b = int(input())\n",
    "    num_list.append(b)\n",
    "\n",
    "def fun(a):\n",
    "    correct = False\n",
    "    if a == 1:\n",
    "        num_list.remove(a)\n",
    "    elif a == 2:\n",
    "        pass\n",
    "    else:\n",
    "        for i in range(2,a):\n",
    "            if a % i == 0:\n",
    "                correct = True\n",
    "                break\n",
    "        if correct:\n",
    "            num_list.remove(a)\n",
    "            \n",
    "for i in num_list:\n",
    "    fun(i)\n",
    "    \n",
    "print(len(num_list))"
   ]
  },
  {
   "cell_type": "code",
   "execution_count": 69,
   "id": "3539f51a-f614-4934-b6a8-8a638eed068f",
   "metadata": {},
   "outputs": [
    {
     "name": "stdin",
     "output_type": "stream",
     "text": [
      " 3\n",
      " 1 2 4\n"
     ]
    },
    {
     "name": "stdout",
     "output_type": "stream",
     "text": [
      "2\n"
     ]
    }
   ],
   "source": [
    "a = int(input())\n",
    "num_list = list(map(int, input().split(' ')))\n",
    "     \n",
    "for i in num_list:\n",
    "    correct = False\n",
    "    if i == 1:\n",
    "        num_list.remove(i)\n",
    "    else:\n",
    "        for j in range(2,i):\n",
    "            if i % j == 0:\n",
    "                correct = True\n",
    "                break\n",
    "            if correct:\n",
    "                num_list.remove(i)\n",
    "\n",
    "if 1 in num_list:\n",
    "    num_list.remove(1)\n",
    "    \n",
    "print(len(num_list))"
   ]
  },
  {
   "cell_type": "code",
   "execution_count": null,
   "id": "ed6af79b-b295-4669-b88c-012435925cb1",
   "metadata": {},
   "outputs": [],
   "source": [
    "sosu = 0\n",
    "for num in numbers:\n",
    "    error = 0\n",
    "    if num > 1 :\n",
    "        for i in range(2, num):  # 2부터 n-1까지\n",
    "            if num % i == 0:\n",
    "                error += 1  # 2부터 n-1까지 나눈 몫이 0이면 error가 증가\n",
    "        if error == 0:\n",
    "            sosu += 1  # error가 없으면 소수."
   ]
  },
  {
   "cell_type": "code",
   "execution_count": 71,
   "id": "e7c31997-3da5-4084-a941-176b5c83c772",
   "metadata": {},
   "outputs": [
    {
     "name": "stdin",
     "output_type": "stream",
     "text": [
      " 20\n"
     ]
    },
    {
     "name": "stdout",
     "output_type": "stream",
     "text": [
      "long long long long long int\n"
     ]
    }
   ],
   "source": [
    "a = int(input())\n",
    "\n",
    "b = a // 4\n",
    "answer = \"long \" * b\n",
    "print(answer + \"int\")"
   ]
  },
  {
   "cell_type": "markdown",
   "id": "106b19fc-f13f-4959-9bae-d0ee07d8a825",
   "metadata": {},
   "source": [
    "## 소수\n",
    "- url : https://www.acmicpc.net/problem/2581\n",
    "- 문제 설명"
   ]
  },
  {
   "cell_type": "markdown",
   "id": "9861cb5d-5367-4d24-8601-07f777e2be9c",
   "metadata": {},
   "source": [
    "자연수 M과 N이 주어질 때 M이상 N이하의 자연수 중 소수인 것을 모두 골라 이들 소수의 합과 최솟값을 찾는 프로그램을 작성하시오.\n",
    "\n",
    "예를 들어 M=60, N=100인 경우 60이상 100이하의 자연수 중 소수는 61, 67, 71, 73, 79, 83, 89, 97 총 8개가 있으므로, 이들 소수의 합은 620이고, 최솟값은 61이 된다."
   ]
  },
  {
   "cell_type": "code",
   "execution_count": 101,
   "id": "752b15c2-86a2-41c7-b9de-337c578cda3f",
   "metadata": {},
   "outputs": [
    {
     "name": "stdin",
     "output_type": "stream",
     "text": [
      " 1\n",
      " 5\n"
     ]
    },
    {
     "name": "stdout",
     "output_type": "stream",
     "text": [
      "10\n",
      "2\n"
     ]
    }
   ],
   "source": [
    "a = int(input())\n",
    "b = int(input())\n",
    "\n",
    "num_list = list()\n",
    "total = 0\n",
    "\n",
    "# 주어진 범위에서 소수를 탐색하여 리스트에 추가\n",
    "\n",
    "for i in range(a, b+1):\n",
    "    catch = False\n",
    "    if i > 1:\n",
    "        for j in range(2, i-1):\n",
    "            if i % j == 0:\n",
    "                catch = True\n",
    "                break\n",
    "            else:\n",
    "                j += 1\n",
    "        if catch == False:\n",
    "            num_list.append(i)\n",
    "            total += i\n",
    "\n",
    "if len(num_list) >= 1:\n",
    "    print(total)\n",
    "    print(num_list[0])\n",
    "else:\n",
    "    print(-1)"
   ]
  }
 ],
 "metadata": {
  "kernelspec": {
   "display_name": "Python 3 (ipykernel)",
   "language": "python",
   "name": "python3"
  },
  "language_info": {
   "codemirror_mode": {
    "name": "ipython",
    "version": 3
   },
   "file_extension": ".py",
   "mimetype": "text/x-python",
   "name": "python",
   "nbconvert_exporter": "python",
   "pygments_lexer": "ipython3",
   "version": "3.9.7"
  }
 },
 "nbformat": 4,
 "nbformat_minor": 5
}
