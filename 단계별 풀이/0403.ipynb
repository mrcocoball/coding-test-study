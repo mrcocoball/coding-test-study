{
 "cells": [
  {
   "cell_type": "markdown",
   "id": "10d5e796-c11b-4bca-a65b-c9154eadf7e5",
   "metadata": {},
   "source": [
    "## 파도반 수열\n",
    "- url : https://www.acmicpc.net/problem/9461"
   ]
  },
  {
   "cell_type": "code",
   "execution_count": null,
   "id": "4ed6bed2-3f58-40b4-a834-97a59424ee59",
   "metadata": {},
   "outputs": [],
   "source": [
    "p(1) = 1\n",
    "p(2) = 1\n",
    "p(3) = 1\n",
    "p(4) = 2\n",
    "p(5) = 2\n",
    "p(6) = 3 (p(5) + p(1))\n",
    "p(7) = 4 (p(6) + p(2))\n",
    "p(8) = 5 (p(7) + p(3))\n",
    "p(9) = 7 (p(8) + p(4))\n",
    "p(10) = 9 (p(9) + p(5))\n",
    "p(11) = 12 (p(10) + p(6))\n",
    "p(12) = 16 (p(11) + p(7))\n",
    "p(13) = 21 (p(12) + p(8))\n",
    "\n",
    "....\n",
    "\n",
    "p(n) = p(n-1) + p(n-4)"
   ]
  },
  {
   "cell_type": "code",
   "execution_count": 2,
   "id": "7a10b104-3c16-489b-aaf9-dc9dc4e368fd",
   "metadata": {},
   "outputs": [
    {
     "name": "stdin",
     "output_type": "stream",
     "text": [
      " 2\n",
      " 6\n"
     ]
    },
    {
     "name": "stdout",
     "output_type": "stream",
     "text": [
      "3\n"
     ]
    },
    {
     "name": "stdin",
     "output_type": "stream",
     "text": [
      " 12\n"
     ]
    },
    {
     "name": "stdout",
     "output_type": "stream",
     "text": [
      "16\n"
     ]
    }
   ],
   "source": [
    "dp = [0 for _ in range(101)]\n",
    "\n",
    "dp[1] = 1\n",
    "dp[2] = 1\n",
    "dp[3] = 1\n",
    "dp[4] = 2\n",
    "dp[5] = 2\n",
    "\n",
    "for i in range(6, 101):\n",
    "    dp[i] = dp[i-1] + dp[i-5]\n",
    "    \n",
    "t = int(input())\n",
    "for i in range(t):\n",
    "    s = int(input())\n",
    "    print(dp[s])"
   ]
  },
  {
   "cell_type": "code",
   "execution_count": null,
   "id": "2a2f9698-c8ff-4626-8418-be679788d9d1",
   "metadata": {},
   "outputs": [],
   "source": [
    "t = int(input())\n",
    "a_list = list()\n",
    "\n",
    "for i in range(t):\n",
    "    a = int(input())\n",
    "    a_list.append(a)\n",
    "    \n"
   ]
  },
  {
   "cell_type": "markdown",
   "id": "5c891253-c5ab-4d18-8572-a3a5e388f13d",
   "metadata": {},
   "source": [
    "## 연속합\n",
    "- url : https://www.acmicpc.net/problem/1912"
   ]
  },
  {
   "cell_type": "code",
   "execution_count": 10,
   "id": "e3acdd86-4ec9-4b37-89ce-93ad3870b5b2",
   "metadata": {},
   "outputs": [
    {
     "name": "stdin",
     "output_type": "stream",
     "text": [
      " 10\n",
      " 10 -4 3 1 5 6 -35 12 21 -1\n"
     ]
    },
    {
     "name": "stdout",
     "output_type": "stream",
     "text": [
      "33\n"
     ]
    }
   ],
   "source": [
    "# 시간초과\n",
    "t = int(input())\n",
    "t_list = list(map(int, input().split(' ')))\n",
    "\n",
    "tt = [list() for _ in range(t)]\n",
    "\n",
    "for i in range(len(t_list)):\n",
    "    init = 0\n",
    "    for j in range(i, len(t_list)):\n",
    "        init += t_list[j]\n",
    "        tt[i].append(init)\n",
    "    tt_max = max(tt[i])\n",
    "    tt[i] = tt_max\n",
    "        \n",
    "print(max(tt))"
   ]
  },
  {
   "cell_type": "code",
   "execution_count": 26,
   "id": "2502393e-5361-4863-b654-08dac70721ac",
   "metadata": {},
   "outputs": [
    {
     "name": "stdin",
     "output_type": "stream",
     "text": [
      " 10\n",
      " 10 -4 3 1 5 6 -35 12 21 -1\n"
     ]
    },
    {
     "name": "stdout",
     "output_type": "stream",
     "text": [
      "33\n"
     ]
    }
   ],
   "source": [
    "# 메모리 초과\n",
    "\n",
    "t = int(input())\n",
    "t_list = list(map(int, input().split(' ')))\n",
    "\n",
    "tt = [list() for _ in range(t)]\n",
    "\n",
    "for i in range(len(tt)):\n",
    "    tt[i] = [0 for _ in range(t)]\n",
    "\n",
    "for i in range(len(t_list)):\n",
    "    init = 0\n",
    "    for j in range(i, len(t_list)):\n",
    "        init += t_list[j]\n",
    "        tt[i][j] = init\n",
    "    tt_max = max(tt[i])\n",
    "    tt[i] = tt_max\n",
    "\n",
    "print(max(tt))"
   ]
  },
  {
   "cell_type": "code",
   "execution_count": null,
   "id": "4dcfa474-71d1-4321-92a2-72cd0e83cb14",
   "metadata": {},
   "outputs": [],
   "source": [
    "# https://pacific-ocean.tistory.com/96\n",
    "\n",
    "n = int(input())\n",
    "a = list(map(int, input().split()))\n",
    "sum = [a[0]]\n",
    "for i in range(len(a) - 1):\n",
    "    sum.append(max(sum[i] + a[i + 1], a[i + 1]))\n",
    "print(max(sum))"
   ]
  }
 ],
 "metadata": {
  "kernelspec": {
   "display_name": "Python 3 (ipykernel)",
   "language": "python",
   "name": "python3"
  },
  "language_info": {
   "codemirror_mode": {
    "name": "ipython",
    "version": 3
   },
   "file_extension": ".py",
   "mimetype": "text/x-python",
   "name": "python",
   "nbconvert_exporter": "python",
   "pygments_lexer": "ipython3",
   "version": "3.9.7"
  }
 },
 "nbformat": 4,
 "nbformat_minor": 5
}
