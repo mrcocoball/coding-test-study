{
 "cells": [
  {
   "cell_type": "markdown",
   "id": "73704151-13e2-4f80-93d9-c2f904392d91",
   "metadata": {},
   "source": [
    "## 최소공배수\n",
    "- url : https://www.acmicpc.net/problem/13241"
   ]
  },
  {
   "cell_type": "code",
   "execution_count": null,
   "id": "adfcd212-be5f-4021-a36a-2610879568bd",
   "metadata": {},
   "outputs": [],
   "source": [
    "import sys\n",
    "\n",
    "# 유클리드 호제법 사용\n",
    "\n",
    "# 최대공약수\n",
    "# a & b의 최대 공약수는 b & a를 b로 나눈 나머지의 최대 공약수\n",
    "def gcd(a, b):\n",
    "    while b > 0:\n",
    "        a, b = b, a % b\n",
    "    return a\n",
    "\n",
    "# 최소공배수 \n",
    "# a와 b의 곱을 a와 b의 최대 공약수로 나눈 값\n",
    "def lcm(a, b):\n",
    "    return a * b // gcd(a, b)\n",
    "\n",
    "t = list(map(int, sys.stdin.readline().split(' ')))\n",
    "\n",
    "print(lcm(t[0], t[1]))\n"
   ]
  },
  {
   "cell_type": "markdown",
   "id": "eefb7079-b5f0-4423-89af-ff7c83deee93",
   "metadata": {},
   "source": [
    "## 분수 합\n",
    "- url : https://www.acmicpc.net/problem/1735"
   ]
  },
  {
   "cell_type": "code",
   "execution_count": 11,
   "id": "ea0105c7-13d5-4284-a7f5-c3966063fdb6",
   "metadata": {},
   "outputs": [
    {
     "name": "stdin",
     "output_type": "stream",
     "text": [
      " 2 7\n",
      " 3 5\n"
     ]
    },
    {
     "name": "stdout",
     "output_type": "stream",
     "text": [
      "31 35\n"
     ]
    }
   ],
   "source": [
    "# 유클리드 호제법 사용\n",
    "\n",
    "def gcd(x,y):\n",
    "    mod = x % y\n",
    "    while mod >0:\n",
    "        x = y\n",
    "        y = mod\n",
    "        mod = x % y\n",
    "    return y    \n",
    "\n",
    "A, B = map(int, input().split())\n",
    "C, D = map(int, input().split())\n",
    "N = gcd(A*D + C*B, B*D) \n",
    "print((A*D + C*B)//N, B*D//N)"
   ]
  },
  {
   "cell_type": "markdown",
   "id": "76564e78-d330-4278-b2d9-c534e09ab39c",
   "metadata": {},
   "source": [
    "## 가로수\n",
    "- url : https://www.acmicpc.net/problem/2485"
   ]
  },
  {
   "cell_type": "code",
   "execution_count": null,
   "id": "2e5dde1b-5641-45d1-a0df-5be74402c5cf",
   "metadata": {},
   "outputs": [],
   "source": [
    "import sys\n",
    "from math import gcd\n",
    "\n",
    "# 이미 심어져 있는 가로수 수 \n",
    "N = int(sys.stdin.readline())\n",
    "\n",
    "# 첫 가로수 위치 \n",
    "a = int(sys.stdin.readline())\n",
    "\n",
    "# 가로수들 사이의 값을 저장할 배열\n",
    "arr = []\n",
    "\n",
    "# 가로수들 사이의 간격 저장 \n",
    "for i in range(N-1):\n",
    "    num = int(sys.stdin.readline())\n",
    "    arr.append(num - a)\n",
    "    a = num\n",
    "\n",
    "# arr에 들어있는 모든 수들의 최대공약수 찾기\n",
    "g = arr[0]\n",
    "for j in range(1, len(arr)):\n",
    "    g = gcd(g, arr[j])\n",
    "\n",
    "# 둘 사이에 심을 가로수 개수: 간격 // 최대공약수 - 1\n",
    "result = 0\n",
    "for each in arr:\n",
    "    result += each // g - 1\n",
    "print(result)"
   ]
  }
 ],
 "metadata": {
  "kernelspec": {
   "display_name": "Python 3 (ipykernel)",
   "language": "python",
   "name": "python3"
  },
  "language_info": {
   "codemirror_mode": {
    "name": "ipython",
    "version": 3
   },
   "file_extension": ".py",
   "mimetype": "text/x-python",
   "name": "python",
   "nbconvert_exporter": "python",
   "pygments_lexer": "ipython3",
   "version": "3.9.7"
  }
 },
 "nbformat": 4,
 "nbformat_minor": 5
}
