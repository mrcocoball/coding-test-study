{
 "cells": [
  {
   "cell_type": "markdown",
   "id": "09ca9a6e-1a2c-4ff4-be99-ed6b42d73cad",
   "metadata": {},
   "source": [
    "## 직사각형\n",
    "- url : https://www.acmicpc.net/problem/27323"
   ]
  },
  {
   "cell_type": "code",
   "execution_count": null,
   "id": "6ed941c2-4bea-45c8-af68-3522b53a2185",
   "metadata": {},
   "outputs": [],
   "source": [
    "a = int(input())\n",
    "b = int(input())\n",
    "\n",
    "print(a*b)"
   ]
  },
  {
   "cell_type": "markdown",
   "id": "dd03e0cb-a2c6-49c4-a96a-0822eee2533e",
   "metadata": {},
   "source": [
    "## 직사각형에서 탈출\n",
    "- url : https://www.acmicpc.net/problem/1085"
   ]
  },
  {
   "cell_type": "code",
   "execution_count": 8,
   "id": "e57b30d5-4cec-42a8-86c4-7417c895466c",
   "metadata": {},
   "outputs": [
    {
     "name": "stdin",
     "output_type": "stream",
     "text": [
      " 161 181 762 375\n"
     ]
    },
    {
     "name": "stdout",
     "output_type": "stream",
     "text": [
      "161\n"
     ]
    }
   ],
   "source": [
    "p = list(map(int, input().split(' ')))\n",
    "x = p[0]\n",
    "y = p[1]\n",
    "w = p[2]\n",
    "h = p[3]\n",
    "\n",
    "garo = w-x\n",
    "sero = h-y\n",
    "p.append(garo)\n",
    "p.append(sero)\n",
    "\n",
    "p.sort() # 가장 거리가 작은 것 찾기 위해 정렬\n",
    "print(p[0])"
   ]
  }
 ],
 "metadata": {
  "kernelspec": {
   "display_name": "Python 3 (ipykernel)",
   "language": "python",
   "name": "python3"
  },
  "language_info": {
   "codemirror_mode": {
    "name": "ipython",
    "version": 3
   },
   "file_extension": ".py",
   "mimetype": "text/x-python",
   "name": "python",
   "nbconvert_exporter": "python",
   "pygments_lexer": "ipython3",
   "version": "3.9.7"
  }
 },
 "nbformat": 4,
 "nbformat_minor": 5
}
