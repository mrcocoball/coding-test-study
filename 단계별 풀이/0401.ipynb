{
 "cells": [
  {
   "cell_type": "markdown",
   "id": "4a0ee642-99df-4db4-92c6-1d85cf665254",
   "metadata": {},
   "source": [
    "## 동전 0\n",
    "- url : https://www.acmicpc.net/problem/11047"
   ]
  },
  {
   "cell_type": "code",
   "execution_count": 3,
   "id": "f5da4f05-1cf8-42f3-94ec-c9d59275e08a",
   "metadata": {},
   "outputs": [
    {
     "name": "stdin",
     "output_type": "stream",
     "text": [
      " 10 4790\n",
      " 1\n",
      " 5\n",
      " 10\n",
      " 50\n",
      " 100\n",
      " 500\n",
      " 1000\n",
      " 5000\n",
      " 10000\n",
      " 50000\n"
     ]
    },
    {
     "name": "stdout",
     "output_type": "stream",
     "text": [
      "12\n"
     ]
    }
   ],
   "source": [
    "import sys\n",
    "\n",
    "t = list(map(int, input().split(' ')))\n",
    "num_list = list()\n",
    "count = 0\n",
    "\n",
    "for i in range(t[0]):\n",
    "    num = int(sys.stdin.readline().rstrip())\n",
    "    num_list.append(num)\n",
    "    \n",
    "num_list.sort(reverse=True) # 큰 순서대로 정렬\n",
    "\n",
    "for i in range(len(num_list)):\n",
    "    if num_list[i] > t[1]:\n",
    "        pass\n",
    "    else:\n",
    "        cc = t[1] // num_list[i]\n",
    "        count += cc\n",
    "        t[1] -= cc * num_list[i]\n",
    "        \n",
    "print(count)"
   ]
  },
  {
   "cell_type": "markdown",
   "id": "641cde9e-04f5-4e6c-87d1-c93d9d9cff77",
   "metadata": {},
   "source": [
    "## ATM\n",
    "- url : https://www.acmicpc.net/problem/11399"
   ]
  },
  {
   "cell_type": "code",
   "execution_count": 7,
   "id": "74ce941b-e29d-4f5c-a824-a4874e0291ba",
   "metadata": {},
   "outputs": [
    {
     "name": "stdin",
     "output_type": "stream",
     "text": [
      " 5\n",
      " 3 1 4 3 2\n"
     ]
    },
    {
     "name": "stdout",
     "output_type": "stream",
     "text": [
      "32\n"
     ]
    }
   ],
   "source": [
    "t = int(input())\n",
    "p_list = list(map(int, input().split(' ')))\n",
    "p_list.sort()\n",
    "\n",
    "count = 0\n",
    "answer = 0\n",
    "\n",
    "for i in range(len(p_list)):\n",
    "    count += p_list[i]\n",
    "    answer += count\n",
    "    \n",
    "print(answer)"
   ]
  },
  {
   "cell_type": "code",
   "execution_count": null,
   "id": "5235e3d8-a47c-4bac-ab90-a5a530d4559d",
   "metadata": {},
   "outputs": [],
   "source": []
  }
 ],
 "metadata": {
  "kernelspec": {
   "display_name": "Python 3 (ipykernel)",
   "language": "python",
   "name": "python3"
  },
  "language_info": {
   "codemirror_mode": {
    "name": "ipython",
    "version": 3
   },
   "file_extension": ".py",
   "mimetype": "text/x-python",
   "name": "python",
   "nbconvert_exporter": "python",
   "pygments_lexer": "ipython3",
   "version": "3.9.7"
  }
 },
 "nbformat": 4,
 "nbformat_minor": 5
}
