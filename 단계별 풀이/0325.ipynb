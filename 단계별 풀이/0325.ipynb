{
 "cells": [
  {
   "cell_type": "markdown",
   "id": "e323de44-a68c-41c3-8d66-8abded9268ff",
   "metadata": {},
   "source": [
    "## 대칭 차집합\n",
    "- url : https://www.acmicpc.net/problem/1269"
   ]
  },
  {
   "cell_type": "code",
   "execution_count": null,
   "id": "724885bb-03f0-45b1-9de8-a8acbfa2d05a",
   "metadata": {},
   "outputs": [],
   "source": [
    "t = list(map(int, input().split(' ')))\n",
    "a = set(list(map(int, input().split(' '))))\n",
    "b = set(list(map(int, input().split(' '))))\n",
    "c = a.difference(b) # 차집합\n",
    "d = b.difference(a) # 차집합\n",
    "f = c.union(d) # 합집합\n",
    "print(len(f))"
   ]
  },
  {
   "cell_type": "markdown",
   "id": "f3a740d3-6b0b-46b8-bb05-7f8ed10d5698",
   "metadata": {},
   "source": [
    "## 서로 다른 부분 문자열의 개수\n",
    "- url : https://www.acmicpc.net/problem/11478"
   ]
  },
  {
   "cell_type": "code",
   "execution_count": 10,
   "id": "037c8480-786e-4586-9c1f-1a6c1dddd270",
   "metadata": {},
   "outputs": [
    {
     "name": "stdin",
     "output_type": "stream",
     "text": [
      " ababc\n"
     ]
    },
    {
     "name": "stdout",
     "output_type": "stream",
     "text": [
      "{'a', 'babc', 'abc', 'c', 'b', 'ab', 'bc', 'ba', 'aba', 'abab', 'bab', 'ababc'}\n",
      "12\n"
     ]
    }
   ],
   "source": [
    "t = input()\n",
    "str_list = list()\n",
    "\n",
    "for i in range(len(t)):\n",
    "    str_list.append(t[i:]) #해당 인덱스부터 끝까지\n",
    "    for j in range(len(t)-1, i, -1):\n",
    "        str_list.append(t[i:j]) # 해당 인덱스~끝에서부터 해당 인덱스 앞까지\n",
    "\n",
    "answer_set = set(str_list)\n",
    "print(len(answer_set))"
   ]
  }
 ],
 "metadata": {
  "kernelspec": {
   "display_name": "Python 3 (ipykernel)",
   "language": "python",
   "name": "python3"
  },
  "language_info": {
   "codemirror_mode": {
    "name": "ipython",
    "version": 3
   },
   "file_extension": ".py",
   "mimetype": "text/x-python",
   "name": "python",
   "nbconvert_exporter": "python",
   "pygments_lexer": "ipython3",
   "version": "3.9.7"
  }
 },
 "nbformat": 4,
 "nbformat_minor": 5
}
