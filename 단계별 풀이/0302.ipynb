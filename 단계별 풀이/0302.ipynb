{
 "cells": [
  {
   "cell_type": "markdown",
   "id": "c1956895-80a2-4156-8db6-d7e04a493af0",
   "metadata": {},
   "source": [
    "## 소인수 분해\n",
    "- url : https://www.acmicpc.net/problem/11653\n",
    "- 문제 설명"
   ]
  },
  {
   "cell_type": "markdown",
   "id": "1dd07d8a-1637-495e-a23d-cabba12c9c5f",
   "metadata": {},
   "source": [
    "정수 N이 주어졌을 때, 소인수분해하는 프로그램을 작성하시오."
   ]
  },
  {
   "cell_type": "code",
   "execution_count": 21,
   "id": "254b9ebf-e0f8-4f4c-9f0c-b40cd6eacf22",
   "metadata": {},
   "outputs": [
    {
     "name": "stdin",
     "output_type": "stream",
     "text": [
      " 9991\n"
     ]
    },
    {
     "name": "stdout",
     "output_type": "stream",
     "text": [
      "97\n",
      "103\n"
     ]
    }
   ],
   "source": [
    "num = int(input())\n",
    "num_list = list()\n",
    "num_list.append(2)\n",
    "\n",
    "while(num != 1):\n",
    "    for i in num_list:\n",
    "        if num % i == 0:\n",
    "            print(i)\n",
    "            num = num / i\n",
    "        else:\n",
    "            i += 1\n",
    "            num_list.append(i)\n",
    "        if num == 1:\n",
    "            break"
   ]
  },
  {
   "cell_type": "markdown",
   "id": "e48cfda3-31a9-49ce-bd55-090373fc0786",
   "metadata": {},
   "source": [
    "## 골드바흐의 추측 [시간 복잡도 문제]\n",
    "- url : https://www.acmicpc.net/problem/9020\n",
    "- 문제 설명"
   ]
  },
  {
   "cell_type": "markdown",
   "id": "f70859e4-1551-4f5a-80c5-06274413d35d",
   "metadata": {},
   "source": [
    "1보다 큰 자연수 중에서  1과 자기 자신을 제외한 약수가 없는 자연수를 소수라고 한다. 예를 들어, 5는 1과 5를 제외한 약수가 없기 때문에 소수이다. 하지만, 6은 6 = 2 × 3 이기 때문에 소수가 아니다.\n",
    "\n",
    "골드바흐의 추측은 유명한 정수론의 미해결 문제로, 2보다 큰 모든 짝수는 두 소수의 합으로 나타낼 수 있다는 것이다. 이러한 수를 골드바흐 수라고 한다. 또, 짝수를 두 소수의 합으로 나타내는 표현을 그 수의 골드바흐 파티션이라고 한다. 예를 들면, 4 = 2 + 2, 6 = 3 + 3, 8 = 3 + 5, 10 = 5 + 5, 12 = 5 + 7, 14 = 3 + 11, 14 = 7 + 7이다. 10000보다 작거나 같은 모든 짝수 n에 대한 골드바흐 파티션은 존재한다.\n",
    "\n",
    "2보다 큰 짝수 n이 주어졌을 때, n의 골드바흐 파티션을 출력하는 프로그램을 작성하시오. 만약 가능한 n의 골드바흐 파티션이 여러 가지인 경우에는 두 소수의 차이가 가장 작은 것을 출력한다."
   ]
  },
  {
   "cell_type": "code",
   "execution_count": 79,
   "id": "d64c0d3a-7e77-4812-956b-256d3dd1256a",
   "metadata": {},
   "outputs": [
    {
     "name": "stdin",
     "output_type": "stream",
     "text": [
      " 3\n",
      " 6\n"
     ]
    },
    {
     "name": "stdout",
     "output_type": "stream",
     "text": [
      "3 3\n"
     ]
    },
    {
     "name": "stdin",
     "output_type": "stream",
     "text": [
      " 6\n"
     ]
    },
    {
     "name": "stdout",
     "output_type": "stream",
     "text": [
      "3 3\n"
     ]
    },
    {
     "name": "stdin",
     "output_type": "stream",
     "text": [
      " 6\n"
     ]
    },
    {
     "name": "stdout",
     "output_type": "stream",
     "text": [
      "3 3\n"
     ]
    }
   ],
   "source": [
    "T = int(input())\n",
    "\n",
    "for i in range(T):\n",
    "    num = int(input())    \n",
    "    num1 = int(num / 2)\n",
    "    num2 = int(num / 2)\n",
    "    num1_list = list()\n",
    "    num2_list = list()\n",
    "\n",
    "    for i in range(1, num1+1):\n",
    "        if i > 1:\n",
    "            catch = False\n",
    "            for j in range(2, i-1):\n",
    "                if i % j == 0:\n",
    "                    catch = True\n",
    "                    break\n",
    "                else:\n",
    "                    j += 1\n",
    "            if catch == False:\n",
    "                num1_list.append(i)\n",
    "\n",
    "    for i in range(num2, num):\n",
    "        catch = False\n",
    "        for j in range(2, i-1):\n",
    "            if i % j == 0:\n",
    "                catch = True\n",
    "                break\n",
    "            else:\n",
    "                j += 1\n",
    "        if catch == False:\n",
    "            num2_list.append(i)\n",
    "\n",
    "    #num1의 맨 마지막 요쇼부터 #num2의 맨 첫번째 요소와 결합하여 값이 맞는지 확인한다\n",
    "\n",
    "    num1_list.reverse()\n",
    "    active = True\n",
    "\n",
    "    for i in num1_list:\n",
    "        if active == True:\n",
    "            size = len(num2_list)\n",
    "            for j in range(size):\n",
    "                if num2_list[-j-1] + i == num:\n",
    "                    ans = num2_list[-j-1]\n",
    "                    print(i, ans)\n",
    "                    active = False\n",
    "            "
   ]
  },
  {
   "cell_type": "code",
   "execution_count": 82,
   "id": "56f9e558-1b5a-4277-930c-3a52f03a9f2a",
   "metadata": {},
   "outputs": [
    {
     "name": "stdin",
     "output_type": "stream",
     "text": [
      " 3\n",
      " 6\n"
     ]
    },
    {
     "name": "stdout",
     "output_type": "stream",
     "text": [
      "3 3\n"
     ]
    },
    {
     "name": "stdin",
     "output_type": "stream",
     "text": [
      " 6\n"
     ]
    },
    {
     "name": "stdout",
     "output_type": "stream",
     "text": [
      "3 3\n"
     ]
    },
    {
     "name": "stdin",
     "output_type": "stream",
     "text": [
      " 6\n"
     ]
    },
    {
     "name": "stdout",
     "output_type": "stream",
     "text": [
      "3 3\n"
     ]
    }
   ],
   "source": [
    "# https://velog.io/@jieuihong/%EB%B0%B1%EC%A4%80-9020-%EA%B3%A8%EB%93%9C%EB%B0%94%ED%9D%90%EC%9D%98-%EC%B6%94%EC%B8%A1%EC%8B%A4%EB%B2%841-Python\n",
    "\n",
    "T = int(input())\n",
    "\n",
    "## 소수 판별 시 판별하려는 숫자의 절반까지만 확인을 해도 됨\n",
    "def is_prime(n):\n",
    "    if n == 1:\n",
    "        return False\n",
    "    for j in range(2, int(n**0.5) + 1):\n",
    "        if n % j == 0:\n",
    "            return False\n",
    "    return True\n",
    "\n",
    "for i in range(T):\n",
    "    num = int(input())    \n",
    "    num1 = int(num / 2)\n",
    "    num2 = int(num / 2)\n",
    "    \n",
    "    active = True\n",
    "    \n",
    "    while active == True:\n",
    "        if is_prime(num1) and is_prime(num2):\n",
    "            print(num1,num2)\n",
    "            active = False\n",
    "        else:\n",
    "            num1 -= 1\n",
    "            num2 += 1"
   ]
  },
  {
   "cell_type": "markdown",
   "id": "96fe239f-1517-4d6f-b4d7-15dc132cc725",
   "metadata": {},
   "source": [
    "## 알고리즘 수업 - 알고리즘의 수행 시간 1\n",
    "- url : https://www.acmicpc.net/problem/24262\n",
    "- 문제 설명"
   ]
  },
  {
   "cell_type": "markdown",
   "id": "737bd994-ad9d-4d76-9875-5654daf6468e",
   "metadata": {},
   "source": [
    "오늘도 서준이는 알고리즘의 수행시간 수업 조교를 하고 있다. 아빠가 수업한 내용을 학생들이 잘 이해했는지 문제를 통해서 확인해보자.\n",
    "\n",
    "입력의 크기 n이 주어지면 MenOfPassion 알고리즘 수행 시간을 예제 출력과 같은 방식으로 출력해보자.\n",
    "\n",
    "MenOfPassion 알고리즘은 다음과 같다.\n",
    "```\n",
    "MenOfPassion(A[], n) {\n",
    "    i = ⌊n / 2⌋;\n",
    "    return A[i]; # 코드1\n",
    "}\n",
    "```\n",
    "첫째 줄에 코드1 의 수행 횟수를 출력한다.\n",
    "\n",
    "둘째 줄에 코드1의 수행 횟수를 다항식으로 나타내었을 때, 최고차항의 차수를 출력한다. 단, 다항식으로 나타낼 수 없거나 최고차항의 차수가 3보다 크면 4를 출력한다."
   ]
  },
  {
   "cell_type": "code",
   "execution_count": 83,
   "id": "48b5346d-a6b2-4f90-b128-3bdc8aa4272e",
   "metadata": {},
   "outputs": [
    {
     "name": "stdout",
     "output_type": "stream",
     "text": [
      "1\n",
      "0\n"
     ]
    }
   ],
   "source": [
    "#처음엔 뭔 소리인가 했는데 i가 코드이고 A[]가 코드 i를 검증하는 느낌인듯\n",
    "#수행 횟수는 n / 2이기 때문에 1번, 최고 차항은 상수이므로 0\n",
    "\n",
    "print(1)\n",
    "print(0)"
   ]
  },
  {
   "cell_type": "markdown",
   "id": "30410701-5520-42d8-9a23-691d1e62e328",
   "metadata": {},
   "source": [
    "## 알고리즘 수업 - 알고리즘의 수행 시간 2\n",
    "- url : https://www.acmicpc.net/problem/24263\n",
    "- 문제 설명\n",
    "\n",
    "오늘도 서준이는 알고리즘의 수행시간 수업 조교를 하고 있다. 아빠가 수업한 내용을 학생들이 잘 이해했는지 문제를 통해서 확인해보자.\n",
    "\n",
    "입력의 크기 n이 주어지면 MenOfPassion 알고리즘 수행 시간을 예제 출력과 같은 방식으로 출력해보자.\n",
    "\n",
    "MenOfPassion 알고리즘은 다음과 같다.\n",
    "```\n",
    "MenOfPassion(A[], n) {\n",
    "    sum <- 0;\n",
    "    for i <- 1 to n\n",
    "        sum <- sum + A[i]; # 코드1\n",
    "    return sum;\n",
    "}\n",
    "```\n",
    "첫째 줄에 코드1 의 수행 횟수를 출력한다.\n",
    "\n",
    "둘째 줄에 코드1의 수행 횟수를 다항식으로 나타내었을 때, 최고차항의 차수를 출력한다. 단, 다항식으로 나타낼 수 없거나 최고차항의 차수가 3보다 크면 4를 출력한다."
   ]
  },
  {
   "cell_type": "code",
   "execution_count": null,
   "id": "0fda03cd-3701-498d-a8aa-63faf3a96fab",
   "metadata": {},
   "outputs": [],
   "source": [
    "# 수행 횟수 n번\n",
    "# 최고 차항은 1\n",
    "n = int(input())\n",
    "print(n)\n",
    "print(1)"
   ]
  },
  {
   "cell_type": "markdown",
   "id": "c4d3011d-d624-4df1-95b0-9ef22449c33e",
   "metadata": {},
   "source": [
    "## 알고리즘 수업 - 알고리즘 수행 시간 3\n",
    "- url : https://www.acmicpc.net/problem/24264\n",
    "- 문제 설명\n",
    "\n",
    "오늘도 서준이는 알고리즘의 수행시간 수업 조교를 하고 있다. 아빠가 수업한 내용을 학생들이 잘 이해했는지 문제를 통해서 확인해보자.\n",
    "\n",
    "입력의 크기 n이 주어지면 MenOfPassion 알고리즘 수행 시간을 예제 출력과 같은 방식으로 출력해보자.\n",
    "\n",
    "MenOfPassion 알고리즘은 다음과 같다.\n",
    "\n",
    "```\n",
    "MenOfPassion(A[], n) {\n",
    "    sum <- 0;\n",
    "    for i <- 1 to n\n",
    "        for j <- 1 to n\n",
    "            sum <- sum + A[i] × A[j]; # 코드1\n",
    "    return sum;\n",
    "}\n",
    "```"
   ]
  },
  {
   "cell_type": "code",
   "execution_count": null,
   "id": "a914371d-4756-421a-b6a6-b9310fb3fd64",
   "metadata": {},
   "outputs": [],
   "source": [
    "# 수행 횟수는 n^2\n",
    "# 최고 차항은 2\n",
    "n = int(input())\n",
    "print(n**2)\n",
    "print(2)"
   ]
  },
  {
   "cell_type": "markdown",
   "id": "cf78634e-2fc6-4c50-b200-271574975be7",
   "metadata": {},
   "source": [
    "## 알고리즘 수업 - 알고리즘 수행 시간 4\n",
    "- url : https://www.acmicpc.net/problem/24265\n",
    "- 문제 설명\n",
    "\n",
    "오늘도 서준이는 알고리즘의 수행시간 수업 조교를 하고 있다. 아빠가 수업한 내용을 학생들이 잘 이해했는지 문제를 통해서 확인해보자.\n",
    "\n",
    "입력의 크기 n이 주어지면 MenOfPassion 알고리즘 수행 시간을 예제 출력과 같은 방식으로 출력해보자.\n",
    "\n",
    "MenOfPassion 알고리즘은 다음과 같다.\n",
    "\n",
    "```\n",
    "MenOfPassion(A[], n) {\n",
    "    sum <- 0;\n",
    "    for i <- 1 to n - 1\n",
    "        for j <- i + 1 to n\n",
    "            sum <- sum + A[i] × A[j]; # 코드1\n",
    "    return sum;\n",
    "}\n",
    "```"
   ]
  },
  {
   "cell_type": "code",
   "execution_count": 86,
   "id": "fe76e614-16c0-492a-8115-d32849066551",
   "metadata": {},
   "outputs": [
    {
     "name": "stdin",
     "output_type": "stream",
     "text": [
      " 7\n"
     ]
    },
    {
     "name": "stdout",
     "output_type": "stream",
     "text": [
      "21\n",
      "2\n"
     ]
    }
   ],
   "source": [
    "# 시행 횟수 1 + 2 + 3 .... + n-1 = n(n-1)/2\n",
    "\n",
    "n = int(input())\n",
    "print(int(n * (n-1) / 2))\n",
    "print(2)"
   ]
  },
  {
   "cell_type": "markdown",
   "id": "853a13c4-2387-4371-b2d9-fc109820ab79",
   "metadata": {},
   "source": [
    "## 알고리즘 수업 - 알고리즘의 수행 시간 5\n",
    "- url : https://www.acmicpc.net/problem/24266\n",
    "- 실행 과정\n",
    "\n",
    "오늘도 서준이는 알고리즘의 수행시간 수업 조교를 하고 있다. 아빠가 수업한 내용을 학생들이 잘 이해했는지 문제를 통해서 확인해보자.\n",
    "\n",
    "입력의 크기 n이 주어지면 MenOfPassion 알고리즘 수행 시간을 예제 출력과 같은 방식으로 출력해보자.\n",
    "\n",
    "MenOfPassion 알고리즘은 다음과 같다.\n",
    "\n",
    "```\n",
    "MenOfPassion(A[], n) {\n",
    "    sum <- 0;\n",
    "    for i <- 1 to n\n",
    "        for j <- 1 to n\n",
    "            for k <- 1 to n\n",
    "                sum <- sum + A[i] × A[j] × A[k]; # 코드1\n",
    "    return sum;\n",
    "}\n",
    "```"
   ]
  },
  {
   "cell_type": "code",
   "execution_count": null,
   "id": "4f0af966-5eb0-490b-b226-93804d1052f1",
   "metadata": {},
   "outputs": [],
   "source": [
    "n = int(input())\n",
    "print(n*n*n)\n",
    "print(3)"
   ]
  },
  {
   "cell_type": "markdown",
   "id": "3930d251-004c-46f3-b576-9852c4ed659c",
   "metadata": {},
   "source": [
    "## 알고리즘 수업 - 알고리즘의 수행 시간 6\n",
    "- url : https://www.acmicpc.net/problem/24267\n",
    "- 문제 설명\n",
    "\n",
    "오늘도 서준이는 알고리즘의 수행시간 수업 조교를 하고 있다. 아빠가 수업한 내용을 학생들이 잘 이해했는지 문제를 통해서 확인해보자.\n",
    "\n",
    "입력의 크기 n이 주어지면 MenOfPassion 알고리즘 수행 시간을 예제 출력과 같은 방식으로 출력해보자.\n",
    "\n",
    "MenOfPassion 알고리즘은 다음과 같다.\n",
    "\n",
    "```\n",
    "MenOfPassion(A[], n) {\n",
    "    sum <- 0;\n",
    "    for i <- 1 to n - 2\n",
    "        for j <- i + 1 to n - 1\n",
    "            for k <- j + 1 to n\n",
    "                sum <- sum + A[i] × A[j] × A[k]; # 코드1\n",
    "    return sum;\n",
    "}\n",
    "```"
   ]
  },
  {
   "cell_type": "code",
   "execution_count": null,
   "id": "9e9cbbe8-6a7f-43b4-b099-57dff5662324",
   "metadata": {},
   "outputs": [],
   "source": [
    "n = int(input())\n",
    "print(((n-2)*(n-1)*(2*n-3)+3*(n-1)*(n-2))//12)\n",
    "print(3)"
   ]
  },
  {
   "cell_type": "markdown",
   "id": "e777668e-e00e-42fd-a865-43d63e8b2e0a",
   "metadata": {},
   "source": [
    "## 알고리즘 수업 - 점근적 표기 1\n",
    "- url : https://www.acmicpc.net/problem/24313\n",
    "- 문제 설명\n",
    "\n",
    "오늘도 서준이는 점근적 표기 수업 조교를 하고 있다. 아빠가 수업한 내용을 학생들이 잘 이해했는지 문제를 통해서 확인해보자.\n",
    "\n",
    "알고리즘의 소요 시간을 나타내는 O-표기법(빅-오)을 다음과 같이 정의하자.\n",
    "\n",
    "O(g(n)) = {f(n) | 모든 n ≥ n0에 대하여 f(n) ≤ c × g(n)인 양의 상수 c와 n0가 존재한다}\n",
    "\n",
    "이 정의는 실제 O-표기법(https://en.wikipedia.org/wiki/Big_O_notation)과 다를 수 있다.\n",
    "\n",
    "함수 f(n) = a1n + a0, 양의 정수 c, n0가 주어질 경우 O(n) 정의를 만족하는지 알아보자.\n",
    "\n",
    "첫째 줄에 함수 f(n)을 나타내는 정수 a1, a0가 주어진다. (0 ≤ |ai| ≤ 100)\n",
    "\n",
    "다음 줄에 양의 정수 c가 주어진다. (1 ≤ c ≤ 100)\n",
    "\n",
    "다음 줄에 양의 정수 n0가 주어진다. (1 ≤ n0 ≤ 100)"
   ]
  },
  {
   "cell_type": "markdown",
   "id": "9143f8a7-3aa7-4204-8825-86f4b31afbca",
   "metadata": {},
   "source": [
    "### 예시\n",
    "- 첫번째 줄 a1 = 7, a0 = 7 입력 -> f(n) = 7n+7\n",
    "- 두번째 줄 c = 8 입력 -> g(n) = n\n",
    "- 세번째 줄 n0 = 1 입력 -> 위의 f(1), g(1)은 각각 14, 8, c * g(1) = 8이므로 성립 x\n",
    "\n",
    "### 예시 2\n",
    "- 첫번째 줄 a1 = 7, a0 = 7 입력 -> f(n) = 7n+7\n",
    "- 두번째 줄 c = 8 입력 g(n) = n\n",
    "- 세번째 줄 no = 10 입력 -> f(10) = 77, 10 * g(10) = 100 -> 7n + 7 <= 8n 성립"
   ]
  },
  {
   "cell_type": "code",
   "execution_count": 108,
   "id": "34582c2e-bf37-4357-8445-52e020728411",
   "metadata": {},
   "outputs": [
    {
     "name": "stdin",
     "output_type": "stream",
     "text": [
      " 7 7\n",
      " 8\n",
      " 10\n"
     ]
    },
    {
     "name": "stdout",
     "output_type": "stream",
     "text": [
      "1\n"
     ]
    }
   ],
   "source": [
    "first = list(map(int, input().split(' ')))\n",
    "c = int(input())\n",
    "n = int(input())\n",
    "\n",
    "a1 = first[0]\n",
    "a0 = first[1]\n",
    "\n",
    "def validate(a1, a0, c, n):\n",
    "    # 결국 변화폭이 큰 것은 n에 곱해지는 값 (기울기)이다\n",
    "    # n, c는 양수, a1, a0은 정수이므로 음수도 포함\n",
    "    # f(n)이 n>입력받은 숫자 구간에서 항상 음수일 경우 성립, a1, a0이 모두 음수면 항상 성립\n",
    "    # a1이 음수고 a0이 양수면 n=입력받은 구간에서 음수일 경우 성립하면 됨\n",
    "    # a1이 양수일 경우 c보다 작아야 하고 n=입력 받은 구간에서 f(n) < g(n)이면 성립\n",
    "    \n",
    "    # a1이 음수인 경우\n",
    "    if a1 <= 0:\n",
    "        if a0 <= 0: #a0까지 음수\n",
    "            print(1)\n",
    "        else: #a0은 양수인 경우\n",
    "            if a1 * n + a0 <= c * n: #입력받은 n에서 성립한다면\n",
    "                print(1)\n",
    "            else:\n",
    "                print(0)\n",
    "    else: #a1이 양수인 경우\n",
    "        if a1 <= c: #a1이 c보다 작을 경우\n",
    "            if a1 * n + a0 <= c * n: #입력받은 n에서 성립한다면\n",
    "                print(1)\n",
    "            else:\n",
    "                print(0)\n",
    "        else:\n",
    "            print(0)\n",
    "\n",
    "validate(a1, a0, c, n)"
   ]
  },
  {
   "cell_type": "code",
   "execution_count": null,
   "id": "190099ae-8f85-47d8-9e68-5b172080080e",
   "metadata": {},
   "outputs": [],
   "source": []
  },
  {
   "cell_type": "code",
   "execution_count": 126,
   "id": "9274bed5-a095-4f51-a546-bb1a0868921d",
   "metadata": {},
   "outputs": [
    {
     "name": "stdin",
     "output_type": "stream",
     "text": [
      " 99\n",
      " 98\n",
      " 97\n",
      " 96\n",
      " 95\n",
      " 94\n",
      " 93\n",
      " 92\n",
      " 91\n"
     ]
    },
    {
     "name": "stdout",
     "output_type": "stream",
     "text": [
      "99\n",
      "1\n"
     ]
    }
   ],
   "source": [
    "index = 0\n",
    "max_index = 0\n",
    "max_num = 0\n",
    "for i in range(9):\n",
    "    num = int(input())\n",
    "    if max_num == 0:\n",
    "        max_num += num\n",
    "        index += 1\n",
    "        max_index = index\n",
    "    else:\n",
    "        index += 1\n",
    "        if num > max_num:\n",
    "            max_num = num\n",
    "            max_index = index    \n",
    "print(max_num)\n",
    "print(max_index)"
   ]
  },
  {
   "cell_type": "code",
   "execution_count": 130,
   "id": "43c35cf7-d2a8-4036-a99a-7ee7d91cb364",
   "metadata": {},
   "outputs": [
    {
     "name": "stdin",
     "output_type": "stream",
     "text": [
      " 5\n"
     ]
    },
    {
     "name": "stdout",
     "output_type": "stream",
     "text": [
      "5\n",
      "4\n",
      "3\n",
      "2\n",
      "1\n"
     ]
    }
   ],
   "source": [
    "t = int(input())\n",
    "for i in range(t, 0, -1):\n",
    "    print(i)"
   ]
  },
  {
   "cell_type": "code",
   "execution_count": 131,
   "id": "84c74b96-6a83-4132-9a75-1a4516a171e0",
   "metadata": {},
   "outputs": [
    {
     "name": "stdin",
     "output_type": "stream",
     "text": [
      " 5\n"
     ]
    },
    {
     "name": "stdout",
     "output_type": "stream",
     "text": [
      "1\n",
      "2\n",
      "3\n",
      "4\n",
      "5\n"
     ]
    }
   ],
   "source": [
    "t = int(input())\n",
    "for i in range(1, t+1):\n",
    "    print(i)"
   ]
  },
  {
   "cell_type": "code",
   "execution_count": 134,
   "id": "b1533d77-9b1b-4538-9ab1-e5730b36a8a6",
   "metadata": {},
   "outputs": [
    {
     "name": "stdin",
     "output_type": "stream",
     "text": [
      " 0 4 2 5 6\n"
     ]
    },
    {
     "name": "stdout",
     "output_type": "stream",
     "text": [
      "1\n"
     ]
    }
   ],
   "source": [
    "t = list(map(int, input().split(' ')))\n",
    "total = t[0]**2 + t[1]**2 + t[2]**2 + t[3]**2 + t[4]**2\n",
    "print(total % 10)"
   ]
  }
 ],
 "metadata": {
  "kernelspec": {
   "display_name": "Python 3 (ipykernel)",
   "language": "python",
   "name": "python3"
  },
  "language_info": {
   "codemirror_mode": {
    "name": "ipython",
    "version": 3
   },
   "file_extension": ".py",
   "mimetype": "text/x-python",
   "name": "python",
   "nbconvert_exporter": "python",
   "pygments_lexer": "ipython3",
   "version": "3.9.7"
  }
 },
 "nbformat": 4,
 "nbformat_minor": 5
}
