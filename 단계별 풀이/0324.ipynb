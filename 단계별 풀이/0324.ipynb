{
 "cells": [
  {
   "cell_type": "markdown",
   "id": "e09b1e11-d9ee-44b0-ba7a-4dbf118ba0b9",
   "metadata": {},
   "source": [
    "## 숫자 카드\n",
    "- url : https://www.acmicpc.net/problem/10815"
   ]
  },
  {
   "cell_type": "code",
   "execution_count": 8,
   "id": "24b9fd60-ca72-4159-aa36-11899e343216",
   "metadata": {},
   "outputs": [
    {
     "name": "stdin",
     "output_type": "stream",
     "text": [
      " 5\n",
      " 6 3 2 10 -10\n",
      " 8\n",
      " 10 9 -5 2 3 4 5 -10\n"
     ]
    },
    {
     "name": "stdout",
     "output_type": "stream",
     "text": [
      "1 0 0 1 1 0 0 1\n"
     ]
    }
   ],
   "source": [
    "a = int(input())\n",
    "a_list = list(map(int, input().split(' ')))\n",
    "a_set = set(a_list)\n",
    "b = int(input())\n",
    "b_list = list(map(int, input().split(' ')))\n",
    "b_set = set(b_list)\n",
    "\n",
    "# 교집합\n",
    "c = a_set.intersection(b_set)\n",
    "answer_list = list()\n",
    "\n",
    "for i in range(b):\n",
    "    if b_list[i] in c:\n",
    "        answer_list.append(str(1))\n",
    "    else:\n",
    "        answer_list.append(str(0))\n",
    "        \n",
    "print(' '.join(answer_list))"
   ]
  },
  {
   "cell_type": "markdown",
   "id": "d8c4d72f-0fe2-47f1-99f5-b0390ed348c1",
   "metadata": {},
   "source": [
    "## 문자열 집합\n",
    "- url : https://www.acmicpc.net/problem/14425"
   ]
  },
  {
   "cell_type": "code",
   "execution_count": 15,
   "id": "3cb21da7-58bf-4ba4-8ccc-7bc96cfcd443",
   "metadata": {},
   "outputs": [
    {
     "name": "stdin",
     "output_type": "stream",
     "text": [
      " 1 1\n"
     ]
    },
    {
     "name": "stdout",
     "output_type": "stream",
     "text": [
      "1입니다\n",
      "0\n"
     ]
    }
   ],
   "source": [
    "import sys\n",
    "\n",
    "t = list(map(int, input().split(' ')))\n",
    "n = t[0]\n",
    "m = t[1]\n",
    "\n",
    "s_list = list()\n",
    "if n == 1:\n",
    "    s = sys.stdin.readline()\n",
    "    s_list.append(s)\n",
    "else:\n",
    "    for i in range(n):\n",
    "        s = sys.stdin.readline().rstrip()\n",
    "        s_list.append(s)\n",
    "    \n",
    "m_list = list()\n",
    "if m == 1:\n",
    "    t = sys.stdin.readline()\n",
    "    m_list.append(t)\n",
    "else:\n",
    "    for i in range(m):\n",
    "        t = sys.stdin.readline().rstrip()\n",
    "        m_list.append(t)\n",
    "    \n",
    "s_set = set(s_list)\n",
    "m_set = set(m_list)\n",
    "i = s_set.intersection(m_set)\n",
    "print(len(i))"
   ]
  },
  {
   "cell_type": "code",
   "execution_count": 21,
   "id": "1664e53c-dba5-420f-9a3e-447db1dd172e",
   "metadata": {},
   "outputs": [
    {
     "name": "stdin",
     "output_type": "stream",
     "text": [
      " 1 1\n",
      "  \n",
      "  \n"
     ]
    },
    {
     "name": "stdout",
     "output_type": "stream",
     "text": [
      "1\n"
     ]
    }
   ],
   "source": [
    "t = list(map(int, input().split(' ')))\n",
    "n = t[0]\n",
    "m = t[1]\n",
    "\n",
    "s_list = list()\n",
    "if n == 1:\n",
    "    s = input()\n",
    "    s_list.append(s)\n",
    "else:\n",
    "    for i in range(n):\n",
    "        s = input()\n",
    "        s_list.append(s)\n",
    "    \n",
    "m_list = list()\n",
    "if m == 1:\n",
    "    t = input()\n",
    "    m_list.append(t)\n",
    "else:\n",
    "    for i in range(m):\n",
    "        t = input()\n",
    "        m_list.append(t)\n",
    "    \n",
    "s_set = set(s_list)\n",
    "m_set = set(m_list)\n",
    "i = s_set.intersection(m_set)\n",
    "print(len(i))"
   ]
  }
 ],
 "metadata": {
  "kernelspec": {
   "display_name": "Python 3 (ipykernel)",
   "language": "python",
   "name": "python3"
  },
  "language_info": {
   "codemirror_mode": {
    "name": "ipython",
    "version": 3
   },
   "file_extension": ".py",
   "mimetype": "text/x-python",
   "name": "python",
   "nbconvert_exporter": "python",
   "pygments_lexer": "ipython3",
   "version": "3.9.7"
  }
 },
 "nbformat": 4,
 "nbformat_minor": 5
}
