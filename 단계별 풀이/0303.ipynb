{
 "cells": [
  {
   "cell_type": "markdown",
   "id": "775d4b41-d790-4308-9c8b-1e63069e0d06",
   "metadata": {},
   "source": [
    "## 숫자의 개수\n",
    "- url : https://www.acmicpc.net/problem/2577\n",
    "- 문제 설명\n",
    "\n",
    "세 개의 자연수 A, B, C가 주어질 때 A × B × C를 계산한 결과에 0부터 9까지 각각의 숫자가 몇 번씩 쓰였는지를 구하는 프로그램을 작성하시오.\n",
    "\n",
    "예를 들어 A = 150, B = 266, C = 427 이라면 A × B × C = 150 × 266 × 427 = 17037300 이 되고, 계산한 결과 17037300 에는 0이 3번, 1이 1번, 3이 2번, 7이 2번 쓰였다."
   ]
  },
  {
   "cell_type": "code",
   "execution_count": 6,
   "id": "b0b14e6e-c4be-4e88-906a-dae7bef619e0",
   "metadata": {},
   "outputs": [
    {
     "name": "stdin",
     "output_type": "stream",
     "text": [
      " 150\n",
      " 266\n",
      " 427\n"
     ]
    },
    {
     "name": "stdout",
     "output_type": "stream",
     "text": [
      "3\n",
      "1\n",
      "0\n",
      "2\n",
      "0\n",
      "0\n",
      "0\n",
      "2\n",
      "0\n",
      "0\n"
     ]
    }
   ],
   "source": [
    "a = int(input())\n",
    "b = int(input())\n",
    "c = int(input())\n",
    "\n",
    "question = a * b * c\n",
    "s_question = str(question)\n",
    "\n",
    "for i in range(0,10):\n",
    "    answer = s_question.count(str(i))\n",
    "    print(answer)"
   ]
  },
  {
   "cell_type": "markdown",
   "id": "68cf3c44-a40a-475f-95ae-ba599929e5bb",
   "metadata": {},
   "source": [
    "## 단어 공부\n",
    "- url : https://www.acmicpc.net/problem/1157\n",
    "- 문제 설명\n",
    "\n",
    "알파벳 대소문자로 된 단어가 주어지면, 이 단어에서 가장 많이 사용된 알파벳이 무엇인지 알아내는 프로그램을 작성하시오. 단, 대문자와 소문자를 구분하지 않는다.\n",
    "첫째 줄에 이 단어에서 가장 많이 사용된 알파벳을 대문자로 출력한다. 단, 가장 많이 사용된 알파벳이 여러 개 존재하는 경우에는 ?를 출력한다"
   ]
  },
  {
   "cell_type": "code",
   "execution_count": 76,
   "id": "5387f39c-d38f-407b-83d2-f4f50c9b5cae",
   "metadata": {},
   "outputs": [
    {
     "name": "stdin",
     "output_type": "stream",
     "text": [
      " abababab\n"
     ]
    },
    {
     "name": "stdout",
     "output_type": "stream",
     "text": [
      "4\n",
      "4\n",
      "?\n"
     ]
    }
   ],
   "source": [
    "# 시간 복잡도에서 실패하였음\n",
    "\n",
    "t = input()\n",
    "t = t.upper()\n",
    "max_list = list()\n",
    "\n",
    "if len(t) > 0:\n",
    "    while len(t) > 0:\n",
    "        if t[0] != ' ':\n",
    "            count = t.count(t[0])\n",
    "            max_list.append(str(count)+\".\"+t[0])\n",
    "            t = t.replace(t[0], '')\n",
    "        else:\n",
    "            t = t.replace(t[0], '')\n",
    "    \n",
    "    max_list.sort(reverse=True)\n",
    "\n",
    "    if len(max_list) == 1:\n",
    "        print(max_list[0][-1])\n",
    "    elif len(max_list) > 1:\n",
    "        a = max_list[0]\n",
    "        b = max_list[1]\n",
    "        am = a[-2:]\n",
    "        bm = b[-2:]\n",
    "        a = a.replace(am, '')\n",
    "        b = b.replace(bm, '')\n",
    "        if a != b:\n",
    "            print(max_list[0][-1])\n",
    "        else:\n",
    "            print(\"?\")\n",
    "    else:\n",
    "        pass"
   ]
  },
  {
   "cell_type": "code",
   "execution_count": 81,
   "id": "027b22a4-e1e3-4447-aea1-280daa44af1c",
   "metadata": {},
   "outputs": [
    {
     "name": "stdin",
     "output_type": "stream",
     "text": [
      " abababababababababadbadbadbabababab\n"
     ]
    },
    {
     "name": "stdout",
     "output_type": "stream",
     "text": [
      "?\n"
     ]
    }
   ],
   "source": [
    "# 재풀이\n",
    "\n",
    "t = input()\n",
    "t = t.upper()\n",
    "max_list = list()\n",
    "max_alphabet = \"\"\n",
    "count_max = 0\n",
    "active = True\n",
    "\n",
    "# 문자열에서 문자를 카운트하고 제거할 때마다 max 값과 비교하여 리스트에 집어넣기\n",
    "# 남은 문자열이 max값보다 작거나 같은 경우 더 이상 카운터하지 않기 (중요)\n",
    "\n",
    "if len(t) > 0:\n",
    "    while active == True:\n",
    "        if len(t) >= count_max:\n",
    "            if t[0] != ' ':\n",
    "                count = t.count(t[0])\n",
    "                if count > count_max:\n",
    "                    max_list.clear()\n",
    "                    max_alphabet = t[0]\n",
    "                    max_list.append(max_alphabet)\n",
    "                    count_max = count\n",
    "                    t = t.replace(t[0], '')\n",
    "                elif count == count_max:\n",
    "                    max_list.append(t[0])\n",
    "                    t = t.replace(t[0], '')\n",
    "                else:\n",
    "                    t = t.replace(t[0], '')\n",
    "            else:\n",
    "                t = t.replace(t[0], '')\n",
    "        else:\n",
    "            active = False\n",
    "            \n",
    "if len(max_list) >= 2:\n",
    "    print(\"?\")\n",
    "elif len(max_list) == 1:\n",
    "    print(max_alphabet)"
   ]
  },
  {
   "cell_type": "markdown",
   "id": "86844f2e-80ab-4221-bd64-de9a3c1daf20",
   "metadata": {},
   "source": [
    "## 수 정렬하기\n",
    "- url : https://www.acmicpc.net/problem/2750\n",
    "- 문제 설명\n",
    "\n",
    "N개의 수가 주어졌을 때, 이를 오름차순으로 정렬하는 프로그램을 작성하시오.\n",
    "\n",
    "첫째 줄에 수의 개수 N(1 ≤ N ≤ 1,000)이 주어진다. 둘째 줄부터 N개의 줄에는 수가 주어진다. 이 수는 절댓값이 1,000보다 작거나 같은 정수이다. 수는 중복되지 않는다.\n",
    "\n",
    "첫째 줄부터 N개의 줄에 오름차순으로 정렬한 결과를 한 줄에 하나씩 출력한다."
   ]
  },
  {
   "cell_type": "code",
   "execution_count": 90,
   "id": "95aaf29f-1aa7-4982-b019-9a14fe63cbf0",
   "metadata": {},
   "outputs": [
    {
     "name": "stdin",
     "output_type": "stream",
     "text": [
      " 5\n",
      " 4\n",
      " 3\n",
      " 2\n",
      " 1\n",
      " 0\n"
     ]
    },
    {
     "name": "stdout",
     "output_type": "stream",
     "text": [
      "0\n",
      "1\n",
      "2\n",
      "3\n",
      "4\n"
     ]
    }
   ],
   "source": [
    "a = int(input())\n",
    "num_list = list()\n",
    "\n",
    "for i in range(a):\n",
    "    num = int(input())\n",
    "    num_list.append(num)\n",
    "\n",
    "num_list.sort(reverse=False)\n",
    "\n",
    "for i in range(len(num_list)):\n",
    "    print(num_list[i])"
   ]
  },
  {
   "cell_type": "markdown",
   "id": "1bba3713-5f9f-4b68-80ff-cf473303ddf2",
   "metadata": {},
   "source": [
    "## 대표값2\n",
    "- url : https://www.acmicpc.net/problem/2587\n",
    "- 문제 설명\n",
    "\n",
    "어떤 수들이 있을 때, 그 수들을 대표하는 값으로 가장 흔하게 쓰이는 것은 평균이다. 평균은 주어진 모든 수의 합을 수의 개수로 나눈 것이다. 예를 들어 10, 40, 30, 60, 30의 평균은 (10 + 40 + 30 + 60 + 30) / 5 = 170 / 5 = 34가 된다.\n",
    "\n",
    "평균 이외의 또 다른 대표값으로 중앙값이라는 것이 있다. 중앙값은 주어진 수를 크기 순서대로 늘어 놓았을 때 가장 중앙에 놓인 값이다. 예를 들어 10, 40, 30, 60, 30의 경우, 크기 순서대로 늘어 놓으면\n",
    "\n",
    "10 30 30 40 60\n",
    "\n",
    "이 되고 따라서 중앙값은 30이 된다.\n",
    "\n",
    "다섯 개의 자연수가 주어질 때 이들의 평균과 중앙값을 구하는 프로그램을 작성하시오.\n",
    "\n",
    "첫째 줄부터 다섯 번째 줄까지 한 줄에 하나씩 자연수가 주어진다. 주어지는 자연수는 100 보다 작은 10의 배수이다.\n",
    "\n",
    "첫째 줄에는 평균을 출력하고, 둘째 줄에는 중앙값을 출력한다. 평균과 중앙값은 모두 자연수이다."
   ]
  },
  {
   "cell_type": "code",
   "execution_count": 91,
   "id": "ede250fb-0d41-49de-92ba-8ca7ca45881a",
   "metadata": {},
   "outputs": [
    {
     "name": "stdin",
     "output_type": "stream",
     "text": [
      " 10\n",
      " 50\n",
      " 40\n",
      " 60\n",
      " 30\n"
     ]
    },
    {
     "name": "stdout",
     "output_type": "stream",
     "text": [
      "38\n",
      "40\n"
     ]
    }
   ],
   "source": [
    "num_list = list()\n",
    "total = 0\n",
    "\n",
    "for i in range(5):\n",
    "    num = int(input())\n",
    "    num_list.append(num)\n",
    "    total += num\n",
    "    \n",
    "answer = int(total / 5)\n",
    "num_list.sort(reverse=False)\n",
    "print(answer)\n",
    "print(num_list[2])"
   ]
  },
  {
   "cell_type": "markdown",
   "id": "6c290484-4a1b-45d2-bc11-b605ab3e14a4",
   "metadata": {},
   "source": [
    "## 커트라인\n",
    "- url : https://www.acmicpc.net/problem/25305\n",
    "- 문제 설명\n",
    "\n",
    "2022 연세대학교 미래캠퍼스 슬기로운 코딩생활에 \n",
    "$N$명의 학생들이 응시했다.\n",
    "\n",
    "이들 중 점수가 가장 높은 \n",
    "$k$명은 상을 받을 것이다. 이 때, 상을 받는 커트라인이 몇 점인지 구하라.\n",
    "\n",
    "커트라인이란 상을 받는 사람들 중 점수가 가장 가장 낮은 사람의 점수를 말한다.\n",
    "\n",
    "첫째 줄에는 응시자의 수 \n",
    "$N$과 상을 받는 사람의 수 \n",
    "$k$가 공백을 사이에 두고 주어진다.\n",
    "\n",
    "둘째 줄에는 각 학생의 점수 \n",
    "$x$가 공백을 사이에 두고 주어진다.\n",
    "\n",
    "상을 받는 커트라인을 출력하라."
   ]
  },
  {
   "cell_type": "code",
   "execution_count": 94,
   "id": "e219d610-fd3e-46f2-a063-52cd66fcbda1",
   "metadata": {},
   "outputs": [
    {
     "name": "stdin",
     "output_type": "stream",
     "text": [
      " 5 2\n",
      " 10 20 30 40 50\n"
     ]
    },
    {
     "name": "stdout",
     "output_type": "stream",
     "text": [
      "[50, 40, 30, 20, 10]\n",
      "40\n"
     ]
    }
   ],
   "source": [
    "first = list(map(int, input().split(' ')))\n",
    "second = list(map(int, input().split(' ')))\n",
    "\n",
    "second.sort(reverse=True)\n",
    "print(second[first[1]-1])"
   ]
  },
  {
   "cell_type": "markdown",
   "id": "ea6211ef-caba-483e-ac58-05fe0785e824",
   "metadata": {},
   "source": [
    "## 소트 인사이드\n",
    "- url : https://www.acmicpc.net/problem/1427\n",
    "- 문제 설명\n",
    "\n",
    "배열을 정렬하는 것은 쉽다. 수가 주어지면, 그 수의 각 자리수를 내림차순으로 정렬해보자.\n",
    "\n",
    "첫째 줄에 자리수를 내림차순으로 정렬한 수를 출력한다.\n",
    "\n",
    "https://otugi.tistory.com/268"
   ]
  },
  {
   "cell_type": "code",
   "execution_count": 97,
   "id": "f7b7e993-4beb-4528-82fa-618c46b0be64",
   "metadata": {},
   "outputs": [
    {
     "name": "stdin",
     "output_type": "stream",
     "text": [
      " 54534534\n"
     ]
    },
    {
     "name": "stdout",
     "output_type": "stream",
     "text": [
      "55544433\n"
     ]
    }
   ],
   "source": [
    "t = int(input())\n",
    "\n",
    "s_t = str(t)\n",
    "answer = ''.join(sorted(s_t, reverse=True))\n",
    "print(answer)"
   ]
  },
  {
   "cell_type": "markdown",
   "id": "54a97370-05d3-446e-9d31-e7a34dd4e1fa",
   "metadata": {},
   "source": [
    "## 수 정렬하기 2\n",
    "- url : https://www.acmicpc.net/problem/2751\n",
    "\n",
    "N개의 수가 주어졌을 때, 이를 오름차순으로 정렬하는 프로그램을 작성하시오.\n",
    "\n",
    "첫째 줄에 수의 개수 N(1 ≤ N ≤ 1,000,000)이 주어진다. 둘째 줄부터 N개의 줄에는 수가 주어진다. 이 수는 절댓값이 1,000,000보다 작거나 같은 정수이다. 수는 중복되지 않는다.\n",
    "\n",
    "첫째 줄부터 N개의 줄에 오름차순으로 정렬한 결과를 한 줄에 하나씩 출력한다."
   ]
  },
  {
   "cell_type": "code",
   "execution_count": 101,
   "id": "69154e48-95ab-4d45-93c3-f4addfd88a8c",
   "metadata": {},
   "outputs": [
    {
     "ename": "KeyboardInterrupt",
     "evalue": "Interrupted by user",
     "output_type": "error",
     "traceback": [
      "\u001b[1;31m---------------------------------------------------------------------------\u001b[0m",
      "\u001b[1;31mKeyboardInterrupt\u001b[0m                         Traceback (most recent call last)",
      "\u001b[1;32m~\\AppData\\Local\\Temp/ipykernel_35164/3114477361.py\u001b[0m in \u001b[0;36m<module>\u001b[1;34m\u001b[0m\n\u001b[0;32m      5\u001b[0m \u001b[1;33m\u001b[0m\u001b[0m\n\u001b[0;32m      6\u001b[0m \u001b[1;32mfor\u001b[0m \u001b[0mi\u001b[0m \u001b[1;32min\u001b[0m \u001b[0mrange\u001b[0m\u001b[1;33m(\u001b[0m\u001b[1;36m5\u001b[0m\u001b[1;33m)\u001b[0m\u001b[1;33m:\u001b[0m\u001b[1;33m\u001b[0m\u001b[1;33m\u001b[0m\u001b[0m\n\u001b[1;32m----> 7\u001b[1;33m     \u001b[0mnum\u001b[0m \u001b[1;33m=\u001b[0m \u001b[0mint\u001b[0m\u001b[1;33m(\u001b[0m\u001b[0minput\u001b[0m\u001b[1;33m(\u001b[0m\u001b[1;33m)\u001b[0m\u001b[1;33m)\u001b[0m\u001b[1;33m\u001b[0m\u001b[1;33m\u001b[0m\u001b[0m\n\u001b[0m\u001b[0;32m      8\u001b[0m     \u001b[0mnum_list\u001b[0m\u001b[1;33m.\u001b[0m\u001b[0mappend\u001b[0m\u001b[1;33m(\u001b[0m\u001b[0mnum\u001b[0m\u001b[1;33m)\u001b[0m\u001b[1;33m\u001b[0m\u001b[1;33m\u001b[0m\u001b[0m\n\u001b[0;32m      9\u001b[0m     \u001b[0mtotal\u001b[0m \u001b[1;33m+=\u001b[0m \u001b[0mnum\u001b[0m\u001b[1;33m\u001b[0m\u001b[1;33m\u001b[0m\u001b[0m\n",
      "\u001b[1;32mC:\\ProgramData\\Anaconda3\\lib\\site-packages\\ipykernel\\kernelbase.py\u001b[0m in \u001b[0;36mraw_input\u001b[1;34m(self, prompt)\u001b[0m\n\u001b[0;32m   1004\u001b[0m                 \u001b[1;34m\"raw_input was called, but this frontend does not support input requests.\"\u001b[0m\u001b[1;33m\u001b[0m\u001b[1;33m\u001b[0m\u001b[0m\n\u001b[0;32m   1005\u001b[0m             )\n\u001b[1;32m-> 1006\u001b[1;33m         return self._input_request(\n\u001b[0m\u001b[0;32m   1007\u001b[0m             \u001b[0mstr\u001b[0m\u001b[1;33m(\u001b[0m\u001b[0mprompt\u001b[0m\u001b[1;33m)\u001b[0m\u001b[1;33m,\u001b[0m\u001b[1;33m\u001b[0m\u001b[1;33m\u001b[0m\u001b[0m\n\u001b[0;32m   1008\u001b[0m             \u001b[0mself\u001b[0m\u001b[1;33m.\u001b[0m\u001b[0m_parent_ident\u001b[0m\u001b[1;33m[\u001b[0m\u001b[1;34m\"shell\"\u001b[0m\u001b[1;33m]\u001b[0m\u001b[1;33m,\u001b[0m\u001b[1;33m\u001b[0m\u001b[1;33m\u001b[0m\u001b[0m\n",
      "\u001b[1;32mC:\\ProgramData\\Anaconda3\\lib\\site-packages\\ipykernel\\kernelbase.py\u001b[0m in \u001b[0;36m_input_request\u001b[1;34m(self, prompt, ident, parent, password)\u001b[0m\n\u001b[0;32m   1049\u001b[0m             \u001b[1;32mexcept\u001b[0m \u001b[0mKeyboardInterrupt\u001b[0m\u001b[1;33m:\u001b[0m\u001b[1;33m\u001b[0m\u001b[1;33m\u001b[0m\u001b[0m\n\u001b[0;32m   1050\u001b[0m                 \u001b[1;31m# re-raise KeyboardInterrupt, to truncate traceback\u001b[0m\u001b[1;33m\u001b[0m\u001b[1;33m\u001b[0m\u001b[0m\n\u001b[1;32m-> 1051\u001b[1;33m                 \u001b[1;32mraise\u001b[0m \u001b[0mKeyboardInterrupt\u001b[0m\u001b[1;33m(\u001b[0m\u001b[1;34m\"Interrupted by user\"\u001b[0m\u001b[1;33m)\u001b[0m \u001b[1;32mfrom\u001b[0m \u001b[1;32mNone\u001b[0m\u001b[1;33m\u001b[0m\u001b[1;33m\u001b[0m\u001b[0m\n\u001b[0m\u001b[0;32m   1052\u001b[0m             \u001b[1;32mexcept\u001b[0m \u001b[0mException\u001b[0m\u001b[1;33m:\u001b[0m\u001b[1;33m\u001b[0m\u001b[1;33m\u001b[0m\u001b[0m\n\u001b[0;32m   1053\u001b[0m                 \u001b[0mself\u001b[0m\u001b[1;33m.\u001b[0m\u001b[0mlog\u001b[0m\u001b[1;33m.\u001b[0m\u001b[0mwarning\u001b[0m\u001b[1;33m(\u001b[0m\u001b[1;34m\"Invalid Message:\"\u001b[0m\u001b[1;33m,\u001b[0m \u001b[0mexc_info\u001b[0m\u001b[1;33m=\u001b[0m\u001b[1;32mTrue\u001b[0m\u001b[1;33m)\u001b[0m\u001b[1;33m\u001b[0m\u001b[1;33m\u001b[0m\u001b[0m\n",
      "\u001b[1;31mKeyboardInterrupt\u001b[0m: Interrupted by user"
     ]
    }
   ],
   "source": [
    "import sys\n",
    "\n",
    "a = int(input())\n",
    "num_list = list()\n",
    "\n",
    "for i in range(a):\n",
    "    num = int(sys.stdin.readline()) # input() 으로 할 때 시간 초과, 대신 Jupyter에서는 인식을 못함;\n",
    "    num_list.append(num)\n",
    "\n",
    "num_list.sort(reverse=False)\n",
    "\n",
    "for i in range(len(num_list)):\n",
    "    print(num_list[i])"
   ]
  },
  {
   "cell_type": "markdown",
   "id": "04961237-305d-49bd-b412-0712ce4e1e40",
   "metadata": {},
   "source": [
    "## 좌표 정렬하기 [lambda + tuple 암기할 것]\n",
    "- url : https://www.acmicpc.net/problem/11650\n",
    "- 문제 설명\n",
    "\n",
    "첫째 줄에 점의 개수 N (1 ≤ N ≤ 100,000)이 주어진다. 둘째 줄부터 N개의 줄에는 i번점의 위치 xi와 yi가 주어진다. (-100,000 ≤ xi, yi ≤ 100,000) 좌표는 항상 정수이고, 위치가 같은 두 점은 없다.\n",
    "\n",
    "첫째 줄부터 N개의 줄에 점을 정렬한 결과를 출력한다."
   ]
  },
  {
   "cell_type": "markdown",
   "id": "8ee25847-8e3e-4234-80db-f27c3dc335db",
   "metadata": {},
   "source": [
    "- 튜플 정렬\n",
    "https://leedakyeong.tistory.com/entry/python-%ED%8A%9C%ED%94%8C-%EC%A0%95%EB%A0%AC%ED%95%98%EA%B8%B0%EB%91%90-%EB%B2%88%EC%A7%B8-%EC%9B%90%EC%86%8C%EB%A1%9C-%EC%A0%95%EB%A0%AC%ED%95%98%EA%B8%B0-tuple-sorting-in-python"
   ]
  },
  {
   "cell_type": "code",
   "execution_count": 104,
   "id": "cf42dbcb-faaf-470e-b029-2e4da3b1e746",
   "metadata": {},
   "outputs": [
    {
     "name": "stdin",
     "output_type": "stream",
     "text": [
      " 5\n",
      " 1 2\n",
      " 3 4\n",
      " 5 6\n",
      " 5 5\n",
      " 6 7\n"
     ]
    },
    {
     "name": "stdout",
     "output_type": "stream",
     "text": [
      "1 2\n",
      "3 4\n",
      "5 6\n",
      "5 5\n",
      "6 7\n"
     ]
    }
   ],
   "source": [
    "import sys\n",
    "\n",
    "t = int(input())\n",
    "tuple_list = list()\n",
    "\n",
    "for i in range(t):\n",
    "    nums = tuple(map(int, sys.stdin.readline().split()))\n",
    "    tuple_list.append(nums)\n",
    "    \n",
    "tuple_list.sort(key=lambda x:(x[0],x[1]))\n",
    "\n",
    "for i in range(len(tuple_list)):\n",
    "    print(tuple_list[i][0], tuple_list[i][1])"
   ]
  },
  {
   "cell_type": "markdown",
   "id": "5994d6a1-be6f-4b47-a364-3815cb7bba4f",
   "metadata": {},
   "source": [
    "## 좌표 정렬하기 2\n",
    "- url : https://www.acmicpc.net/problem/11651\n",
    "- 문제 설명\n",
    "\n",
    "2차원 평면 위의 점 N개가 주어진다. 좌표를 y좌표가 증가하는 순으로, y좌표가 같으면 x좌표가 증가하는 순서로 정렬한 다음 출력하는 프로그램을 작성하시오.\n",
    "\n",
    "첫째 줄에 점의 개수 N (1 ≤ N ≤ 100,000)이 주어진다. 둘째 줄부터 N개의 줄에는 i번점의 위치 xi와 yi가 주어진다. (-100,000 ≤ xi, yi ≤ 100,000) 좌표는 항상 정수이고, 위치가 같은 두 점은 없다."
   ]
  },
  {
   "cell_type": "code",
   "execution_count": null,
   "id": "35880c40-6bdf-4588-b9b3-931c57099e21",
   "metadata": {},
   "outputs": [],
   "source": [
    "import sys\n",
    "\n",
    "t = int(input())\n",
    "tuple_list = list()\n",
    "\n",
    "for i in range(t):\n",
    "    nums = tuple(map(int, sys.stdin.readline().split()))\n",
    "    tuple_list.append(nums)\n",
    "    \n",
    "tuple_list.sort(key=lambda x:(x[1],x[0]))\n",
    "\n",
    "for i in range(len(tuple_list)):\n",
    "    print(tuple_list[i][0], tuple_list[i][1])"
   ]
  },
  {
   "cell_type": "markdown",
   "id": "c9cce87c-d6d3-455a-b59e-0df559f9187b",
   "metadata": {},
   "source": [
    "## 단어 정렬\n",
    "- url : https://www.acmicpc.net/problem/1181\n",
    "- 문제 설명\n",
    "\n",
    "알파벳 소문자로 이루어진 N개의 단어가 들어오면 아래와 같은 조건에 따라 정렬하는 프로그램을 작성하시오.\n",
    "\n",
    "길이가 짧은 것부터\n",
    "길이가 같으면 사전 순으로\n",
    "단, 중복된 단어는 하나만 남기고 제거해야 한다."
   ]
  },
  {
   "cell_type": "code",
   "execution_count": 127,
   "id": "a29876e5-5e5e-4488-b2b0-93bf77db09bc",
   "metadata": {},
   "outputs": [
    {
     "name": "stdin",
     "output_type": "stream",
     "text": [
      " 13\n",
      " but\n",
      " i\n",
      " wont\n",
      " hesitate\n",
      " no\n",
      " more\n",
      " no\n",
      " more\n",
      " it\n",
      " cannot\n",
      " wait\n",
      " im\n",
      " yours\n"
     ]
    },
    {
     "name": "stdout",
     "output_type": "stream",
     "text": [
      "i\n",
      "im\n",
      "it\n",
      "no\n",
      "but\n",
      "more\n",
      "wait\n",
      "wont\n",
      "yours\n",
      "cannot\n",
      "hesitate\n"
     ]
    }
   ],
   "source": [
    "import sys\n",
    "\n",
    "t = int(input())\n",
    "answer_list = list()\n",
    "\n",
    "for i in range(t):\n",
    "    a = sys.stdin.readline().rstrip() ## rstrip() 꼭 붙일 것\n",
    "    if a not in answer_list:\n",
    "        answer_list.append(a)\n",
    "\n",
    "answer_list.sort() # 사전순 정렬 먼저\n",
    "answer_list.sort(key=len) # 길이순 정렬 나중에\n",
    "\n",
    "for i in range(len(answer_list)):\n",
    "    print(answer_list[i])"
   ]
  }
 ],
 "metadata": {
  "kernelspec": {
   "display_name": "Python 3 (ipykernel)",
   "language": "python",
   "name": "python3"
  },
  "language_info": {
   "codemirror_mode": {
    "name": "ipython",
    "version": 3
   },
   "file_extension": ".py",
   "mimetype": "text/x-python",
   "name": "python",
   "nbconvert_exporter": "python",
   "pygments_lexer": "ipython3",
   "version": "3.9.7"
  }
 },
 "nbformat": 4,
 "nbformat_minor": 5
}
