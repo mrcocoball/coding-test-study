{
 "cells": [
  {
   "cell_type": "markdown",
   "id": "a10d345b-b2ea-4e07-a296-e16cb35c330c",
   "metadata": {},
   "source": [
    "## 하노이의 탑 이동순서 [GG...]\n",
    "- url : https://www.acmicpc.net/problem/11729"
   ]
  },
  {
   "cell_type": "code",
   "execution_count": 11,
   "id": "7e746f84-604e-4927-8eec-a76c54985045",
   "metadata": {},
   "outputs": [
    {
     "name": "stdout",
     "output_type": "stream",
     "text": [
      "[3, 2, 1]\n"
     ]
    }
   ],
   "source": [
    "def hanoi(a, b):\n",
    "    if len(a) > 0 and len(b) > 0:\n",
    "        if a[-1] < b[-1]:\n",
    "            b.append(a[-1])\n",
    "            del a[len(a)-1]\n",
    "        elif a[-1] > b[-1]:\n",
    "            a.append(b[-1])\n",
    "            del b[len(b)-1]\n",
    "    elif len(a) > 0 and len(b) == 0:\n",
    "        b.append(a[-1])\n",
    "        del a[len(a)-1]\n",
    "            \n",
    "a = [1,2,3]\n",
    "b = list()\n",
    "c = list()\n",
    "\n",
    "clone = a\n",
    "\n",
    "while c == clone:\n",
    "    if a "
   ]
  },
  {
   "cell_type": "code",
   "execution_count": null,
   "id": "1fa2be12-c96a-4c09-9a3e-7f09b2140cc3",
   "metadata": {},
   "outputs": [],
   "source": [
    "# https://study-all-night.tistory.com/6\n",
    "\n",
    "# 제일 최소의 경우는 1번 막대에 있는 n개의 판 중 n-1개 (위에서 n-1개까지) 를 2번에 두고 1번 막대의 맨 아래 판을 3번에 둔 뒤\n",
    "# 2번에 있는 n-1개의 판을 3번으로 옮기는 것\n",
    "\n",
    "# 재귀적으로 옮기는 방법 1~3단계\n",
    "\n",
    "# 1단계 : 1번 막대에 있는 n개의 판 중 n-1개 (위에서 n-1개까지)를 2번으로 옮긴다\n",
    "# 2단계 : 1번 막대에 있는 마지막 판을 3번으로 옮긴다\n",
    "# 3단계 : 2번 박대에 있는 n-1개의 판을 3번으로 옮긴다\n",
    "\n",
    "def hanoi(n, start, end): # n은 원판 개수, start와 end는 각각 막대 번호 (1,2,3)\n",
    "    if n == 1:\n",
    "        print(start, end)\n",
    "        return\n",
    "    \n",
    "    hanoi(n-1, start, 6-start-end) # 1단계, start와 end 막대는 알고 있으나 중간 막대는 모름. \n",
    "                                   # 다만 세 막대를 전부 합치면 6이 됨 (1+2+3) -> 즉, 6에서 start, end를 빼면 나머지 막대\n",
    "    print(start, end) # 2단계\n",
    "    hanoi(n-1, 6-start-end, end) # 3단계\n",
    "    \n",
    "n = int(input())\n",
    "print(2**n-1)\n",
    "hanoi(n,1,3)"
   ]
  },
  {
   "cell_type": "markdown",
   "id": "3ce1bed4-05ba-4f87-b0b1-c84f4a79443b",
   "metadata": {
    "tags": []
   },
   "source": [
    "## 알고리즘 수업 - 병합 정렬 1 [GG]\n",
    "- url : https://www.acmicpc.net/problem/24060\n",
    "- 문제 설명\n",
    "\n",
    "오늘도 서준이는 병합 정렬 수업 조교를 하고 있다. 아빠가 수업한 내용을 학생들이 잘 이해했는지 문제를 통해서 확인해보자.\n",
    "\n",
    "N개의 서로 다른 양의 정수가 저장된 배열 A가 있다. 병합 정렬로 배열 A를 오름차순 정렬할 경우 배열 A에 K 번째 저장되는 수를 구해서 우리 서준이를 도와주자.\n",
    "\n",
    "크기가 N인 배열에 대한 병합 정렬 의사 코드는 다음과 같다.\n",
    "\n",
    "```\n",
    "merge_sort(A[p..r]) { # A[p..r]을 오름차순 정렬한다.\n",
    "    if (p < r) then {\n",
    "        q <- ⌊(p + r) / 2⌋;       # q는 p, r의 중간 지점\n",
    "        merge_sort(A, p, q);      # 전반부 정렬\n",
    "        merge_sort(A, q + 1, r);  # 후반부 정렬\n",
    "        merge(A, p, q, r);        # 병합\n",
    "    }\n",
    "}\n",
    "\n",
    "# A[p..q]와 A[q+1..r]을 병합하여 A[p..r]을 오름차순 정렬된 상태로 만든다.\n",
    "# A[p..q]와 A[q+1..r]은 이미 오름차순으로 정렬되어 있다.\n",
    "merge(A[], p, q, r) {\n",
    "    i <- p; j <- q + 1; t <- 1;\n",
    "    while (i ≤ q and j ≤ r) {\n",
    "        if (A[i] ≤ A[j])\n",
    "        then tmp[t++] <- A[i++]; # tmp[t] <- A[i]; t++; i++;\n",
    "        else tmp[t++] <- A[j++]; # tmp[t] <- A[j]; t++; j++;\n",
    "    }\n",
    "    while (i ≤ q)  # 왼쪽 배열 부분이 남은 경우\n",
    "        tmp[t++] <- A[i++];\n",
    "    while (j ≤ r)  # 오른쪽 배열 부분이 남은 경우\n",
    "        tmp[t++] <- A[j++];\n",
    "    i <- p; t <- 1;\n",
    "    while (i ≤ r)  # 결과를 A[p..r]에 저장\n",
    "        A[i++] <- tmp[t++]; \n",
    "}\n",
    "```\n",
    "\n",
    "첫째 줄에 배열 A의 크기 N(5 ≤ N ≤ 500,000), 저장 횟수 K(1 ≤ K ≤ 108)가 주어진다.\n",
    "\n",
    "다음 줄에 서로 다른 배열 A의 원소 A1, A2, ..., AN이 주어진다. (1 ≤ Ai ≤ 109)\n",
    "\n",
    "배열 A에 K 번째 저장 되는 수를 출력한다. 저장 횟수가 K 보다 작으면 -1을 출력한다."
   ]
  },
  {
   "cell_type": "code",
   "execution_count": null,
   "id": "ca596b23-3989-44b1-a2c8-b2400c7189c4",
   "metadata": {},
   "outputs": [],
   "source": [
    "import sys\n",
    "input = sys.stdin.readline\n",
    "\n",
    "\n",
    "def mergeSort(L):\n",
    "    if len(L) == 1:\n",
    "        return L\n",
    "    \n",
    "    mid = (len(L) + 1)//2\n",
    "    left = mergeSort(L[:mid])\n",
    "    right = mergeSort(L[mid:])\n",
    "    \n",
    "    L2 = []\n",
    "    i = 0\n",
    "    j = 0\n",
    "    \n",
    "    while i < len(left) and j < len(right):\n",
    "        if left[i] < right[j]:\n",
    "            L2.append(left[i])\n",
    "            ans.append(left[i])\n",
    "            i += 1\n",
    "        else:\n",
    "            L2.append(right[j])\n",
    "            ans.append(right[j])\n",
    "            j += 1\n",
    "    \n",
    "    while i < len(left):\n",
    "        L2.append(left[i])\n",
    "        ans.append(left[i])\n",
    "        i += 1\n",
    "        \n",
    "    while j < len(right):\n",
    "        L2.append(right[j])\n",
    "        ans.append(right[j])\n",
    "        j += 1\n",
    "        \n",
    "    return L2\n",
    "\n",
    "n, k = map(int, input().split())\n",
    "a = list(map(int, input().split()))\n",
    "\n",
    "ans = []\n",
    "mergeSort(a)\n",
    "\n",
    "if len(ans) >= k:\n",
    "    print(ans[k-1])\n",
    "else:\n",
    "    print(-1) "
   ]
  },
  {
   "cell_type": "markdown",
   "id": "a5d258a9-b498-4bcb-bcc8-fe14b249d63e",
   "metadata": {},
   "source": [
    "## 블랙잭\n",
    "- url : https://www.acmicpc.net/problem/2798\n",
    "- 문제 설명\n",
    "\n",
    "카지노에서 제일 인기 있는 게임 블랙잭의 규칙은 상당히 쉽다. 카드의 합이 21을 넘지 않는 한도 내에서, 카드의 합을 최대한 크게 만드는 게임이다. 블랙잭은 카지노마다 다양한 규정이 있다.\n",
    "\n",
    "한국 최고의 블랙잭 고수 김정인은 새로운 블랙잭 규칙을 만들어 상근, 창영이와 게임하려고 한다.\n",
    "\n",
    "김정인 버전의 블랙잭에서 각 카드에는 양의 정수가 쓰여 있다. 그 다음, 딜러는 N장의 카드를 모두 숫자가 보이도록 바닥에 놓는다. 그런 후에 딜러는 숫자 M을 크게 외친다.\n",
    "\n",
    "이제 플레이어는 제한된 시간 안에 N장의 카드 중에서 3장의 카드를 골라야 한다. 블랙잭 변형 게임이기 때문에, 플레이어가 고른 카드의 합은 M을 넘지 않으면서 M과 최대한 가깝게 만들어야 한다.\n",
    "\n",
    "N장의 카드에 써져 있는 숫자가 주어졌을 때, M을 넘지 않으면서 M에 최대한 가까운 카드 3장의 합을 구해 출력하시오.\n",
    "\n",
    "첫째 줄에 카드의 개수 N(3 ≤ N ≤ 100)과 M(10 ≤ M ≤ 300,000)이 주어진다. 둘째 줄에는 카드에 쓰여 있는 수가 주어지며, 이 값은 100,000을 넘지 않는 양의 정수이다.\n",
    "\n",
    "합이 M을 넘지 않는 카드 3장을 찾을 수 있는 경우만 입력으로 주어진다."
   ]
  },
  {
   "cell_type": "code",
   "execution_count": 46,
   "id": "0e30b9db-d351-4469-9071-841241aa33aa",
   "metadata": {},
   "outputs": [
    {
     "name": "stdin",
     "output_type": "stream",
     "text": [
      " 10 500\n",
      " 93 181 245 214 315 36 185 138 216 295\n"
     ]
    },
    {
     "name": "stdout",
     "output_type": "stream",
     "text": [
      "497\n"
     ]
    }
   ],
   "source": [
    "t = list(map(int, input().split(' ')))\n",
    "num = t[0]\n",
    "sum_max = t[1]\n",
    "t2 = list(map(int, input().split(' ')))\n",
    "t2.sort(reverse=True)\n",
    "\n",
    "# 모든 경우의 수를 다 더하되, 세 카드가 모두 다른 경우에만 더한다\n",
    "while True:\n",
    "    total = list()\n",
    "    for i in range(0, len(t2)):\n",
    "        for j in range(0, len(t2)):\n",
    "            for k in range(0, len(t2)):\n",
    "                if i != j and i != k:\n",
    "                    if j != k:\n",
    "                        total.append(t2[i] + t2[j] + t2[k])\n",
    "    break\n",
    "\n",
    "\n",
    "if sum_max in total: # 세 카드의 합이 최대값과 같은 경우\n",
    "    print(sum_max)\n",
    "else: # 최대값을 경우의 수 리스트에 넣고 정렬을 한 뒤, 최대값 다음으로 큰 수를 반환한다\n",
    "    total.append(sum_max)\n",
    "    total.sort(reverse=True)\n",
    "    total_set = set(total)\n",
    "    new_total = list(total_set)\n",
    "    new_total.sort(reverse=True)\n",
    "    index = new_total.index(sum_max)\n",
    "    print(new_total[index+1])"
   ]
  }
 ],
 "metadata": {
  "kernelspec": {
   "display_name": "Python 3 (ipykernel)",
   "language": "python",
   "name": "python3"
  },
  "language_info": {
   "codemirror_mode": {
    "name": "ipython",
    "version": 3
   },
   "file_extension": ".py",
   "mimetype": "text/x-python",
   "name": "python",
   "nbconvert_exporter": "python",
   "pygments_lexer": "ipython3",
   "version": "3.9.7"
  }
 },
 "nbformat": 4,
 "nbformat_minor": 5
}
