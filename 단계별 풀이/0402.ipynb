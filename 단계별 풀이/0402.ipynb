{
 "cells": [
  {
   "cell_type": "markdown",
   "id": "f95e74dc-6f3d-48cf-a8ee-08abdd17c9f9",
   "metadata": {},
   "source": [
    "## 정수 삼각형\n",
    "- url : https://www.acmicpc.net/problem/1932"
   ]
  },
  {
   "cell_type": "code",
   "execution_count": null,
   "id": "1d4b9214-a625-4d6f-87e4-ae8b8ebe9291",
   "metadata": {},
   "outputs": [],
   "source": [
    "n=int(input())\n",
    "d=[]\n",
    "for i in range(n):\n",
    "  d.append(list(map(int, input().split())))\n",
    "\n",
    "for i in range(1,n):\n",
    "  for j in range(len(d[i])):\n",
    "    if j==0:\n",
    "      d[i][j]=d[i][j]+d[i-1][j]\n",
    "    elif j==len(d[i])-1: \n",
    "      d[i][j]=d[i][j]+d[i-1][j-1]\n",
    "    else:\n",
    "      d[i][j]=max(d[i-1][j-1],d[i-1][j])+d[i][j]\n",
    "print(max(d[n-1]))"
   ]
  }
 ],
 "metadata": {
  "kernelspec": {
   "display_name": "Python 3 (ipykernel)",
   "language": "python",
   "name": "python3"
  },
  "language_info": {
   "codemirror_mode": {
    "name": "ipython",
    "version": 3
   },
   "file_extension": ".py",
   "mimetype": "text/x-python",
   "name": "python",
   "nbconvert_exporter": "python",
   "pygments_lexer": "ipython3",
   "version": "3.9.7"
  }
 },
 "nbformat": 4,
 "nbformat_minor": 5
}
