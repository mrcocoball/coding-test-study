{
 "cells": [
  {
   "cell_type": "markdown",
   "id": "0b14cc9a-ec20-4fd5-ab1b-4ae5b5c8e8a7",
   "metadata": {},
   "source": [
    "## 나이 순 정렬\n",
    "- url : https://www.acmicpc.net/problem/10814\n",
    "- 문제 설명\n",
    "\n",
    "온라인 저지에 가입한 사람들의 나이와 이름이 가입한 순서대로 주어진다. 이때, 회원들을 나이가 증가하는 순으로, 나이가 같으면 먼저 가입한 사람이 앞에 오는 순서로 정렬하는 프로그램을 작성하시오.\n",
    "\n",
    "첫째 줄에 온라인 저지 회원의 수 N이 주어진다. (1 ≤ N ≤ 100,000)\n",
    "\n",
    "둘째 줄부터 N개의 줄에는 각 회원의 나이와 이름이 공백으로 구분되어 주어진다. 나이는 1보다 크거나 같으며, 200보다 작거나 같은 정수이고, 이름은 알파벳 대소문자로 이루어져 있고, 길이가 100보다 작거나 같은 문자열이다. 입력은 가입한 순서로 주어진다."
   ]
  },
  {
   "cell_type": "code",
   "execution_count": 15,
   "id": "e7ea4467-8316-464e-affa-df8c52c7c3f4",
   "metadata": {},
   "outputs": [
    {
     "name": "stdin",
     "output_type": "stream",
     "text": [
      " 3\n",
      " 21 dohyun\n",
      " 21 junkyu\n",
      " 20 sunyoung\n"
     ]
    },
    {
     "name": "stdout",
     "output_type": "stream",
     "text": [
      "[('21', 'dohyun'), ('21', 'junkyu'), ('20', 'sunyoung')]\n",
      "[('20', 'sunyoung'), ('21', 'dohyun'), ('21', 'junkyu')]\n",
      "20 sunyoung\n",
      "21 dohyun\n",
      "21 junkyu\n"
     ]
    }
   ],
   "source": [
    "t = int(input())\n",
    "t_dict = {}\n",
    "\n",
    "for i in range(t):\n",
    "    t_tuple = tuple(map(str, input().split(' ')))\n",
    "    t_dict[i] = t_tuple\n",
    "    \n",
    "t_list = list(t_dict.values())\n",
    "print(t_list)\n",
    "t_list.sort(key=lambda x:int(x[0]))\n",
    "print(t_list)\n",
    "\n",
    "for i in range(len(t_list)):\n",
    "    print(int(t_list[i][0]), t_list[i][1])"
   ]
  },
  {
   "cell_type": "markdown",
   "id": "316328e6-b87f-4366-9a80-043913af4e7c",
   "metadata": {},
   "source": [
    "시간 복잡도 문제는 없었으나 훨씬 느림"
   ]
  },
  {
   "cell_type": "code",
   "execution_count": null,
   "id": "cc01e270-5c0c-458e-a19a-486d363920d5",
   "metadata": {},
   "outputs": [],
   "source": [
    "t = int(input())\n",
    "t_dict = {}\n",
    "\n",
    "for i in range(t):\n",
    "    t_tuple = tuple(map(str, input().split(' ')))\n",
    "    t_dict[i] = t_tuple\n",
    "    \n",
    "t_list = list(t_dict.values())\n",
    "t_list.sort(key=lambda x:int(x[0]))\n",
    "\n",
    "for i in range(len(t_list)):\n",
    "    print(int(t_list[i][0]), t_list[i][1])"
   ]
  },
  {
   "cell_type": "code",
   "execution_count": null,
   "id": "23d163f2-1ad4-4e56-8eee-4738d4b71800",
   "metadata": {},
   "outputs": [],
   "source": [
    "import sys\n",
    "\n",
    "t = int(input())\n",
    "t_dict = {}\n",
    "\n",
    "for i in range(t):\n",
    "    t_tuple = tuple(map(str, sys.stdin.readline().split()))\n",
    "    t_dict[i] = t_tuple\n",
    "    \n",
    "t_list = list(t_dict.values())\n",
    "t_list.sort(key=lambda x:int(x[0])) # 나이를 int로 변경한 것으로 sorting\n",
    "\n",
    "for i in range(len(t_list)):\n",
    "    print(int(t_list[i][0]), t_list[i][1])"
   ]
  },
  {
   "cell_type": "markdown",
   "id": "4cd2509c-7e09-4c98-8a46-e80e31493816",
   "metadata": {},
   "source": [
    "## 좌표 압축 [시간 초과]\n",
    "- url : https://www.acmicpc.net/problem/18870\n",
    "- 문제 설명\n",
    "\n",
    "수직선 위에 N개의 좌표 X1, X2, ..., XN이 있다. 이 좌표에 좌표 압축을 적용하려고 한다.\n",
    "\n",
    "Xi를 좌표 압축한 결과 X'i의 값은 Xi > Xj를 만족하는 서로 다른 좌표의 개수와 같아야 한다.\n",
    "\n",
    "X1, X2, ..., XN에 좌표 압축을 적용한 결과 X'1, X'2, ..., X'N를 출력해보자.\n",
    "\n",
    "첫째 줄에 N이 주어진다.\n",
    "\n",
    "둘째 줄에는 공백 한 칸으로 구분된 X1, X2, ..., XN이 주어진다.\n",
    "\n"
   ]
  },
  {
   "cell_type": "markdown",
   "id": "4e662149-cb2f-464c-af1a-84782c65c14d",
   "metadata": {},
   "source": [
    "## 구상\n",
    "- 리스트를 오름차순으로 정렬한 후, 특정 요소보다 작거나 같은 것들을 먼저 발라냄\n",
    "- 큰것들 중에서 중복값을 걸러내야 함.. 걸러내는 것보다는 count를 해서 2 이상이면 count를 1로 저장하고 remove로 중복 요소를 전부 제거\n",
    "  - len > 0이 될 때까지 index=0 기준으로 계속 판별"
   ]
  },
  {
   "cell_type": "code",
   "execution_count": 47,
   "id": "3a34950f-9525-4429-afde-4aaba7487706",
   "metadata": {},
   "outputs": [
    {
     "name": "stdin",
     "output_type": "stream",
     "text": [
      " 6\n",
      " 100 99 100 99 100 99\n"
     ]
    },
    {
     "name": "stdout",
     "output_type": "stream",
     "text": [
      "1 0 1 0 1 0\n"
     ]
    }
   ],
   "source": [
    "import sys\n",
    "\n",
    "first = int(input())\n",
    "second = list(map(int, sys.stdin.readline().split(' ')))\n",
    "t_list = list()\n",
    "duplicate_number = {}\n",
    "\n",
    "for i in range(len(second)):\n",
    "    s_index = second[i]\n",
    "    if s_index not in duplicate_number.keys():\n",
    "        sorted_list = list()\n",
    "        sorted_list += second\n",
    "        sorted_list.sort(reverse=True) # 큰 수 순으로 정렬\n",
    "        c_index = sorted_list.index(s_index) # 원본 숫자의 정렬한 리스트의 인덱스를 구함\n",
    "        count = 0\n",
    "        if c_index == 0: # 해당 숫자가 가장 큰 경우라면\n",
    "            remove_num = sorted_list[0]\n",
    "            result = set(sorted_list) # List -> Set -> List로 중복 데이터 제거\n",
    "            list_result = list(result)\n",
    "            list_result.remove(remove_num)\n",
    "            count += len(list_result)\n",
    "        else: # 해당 숫자가 가장 큰 경우가 아니라면\n",
    "            remove_num = sorted_list[c_index]\n",
    "            new_list = sorted_list[c_index:] # 슬라이싱 처리\n",
    "            result = set(new_list)\n",
    "            list_result = list(result)\n",
    "            list_result.remove(remove_num)\n",
    "            count += len(list_result)\n",
    "        t_list.append(str(count))\n",
    "        duplicate_number[s_index] = str(count)\n",
    "    else:\n",
    "        t_list.append(duplicate_number[s_index])\n",
    "    \n",
    "print(' '.join(t_list))\n",
    "    "
   ]
  },
  {
   "cell_type": "markdown",
   "id": "926977bd-fd6f-4510-a3b5-e0dfe9e1f6b1",
   "metadata": {},
   "source": [
    "시간 초과"
   ]
  },
  {
   "cell_type": "code",
   "execution_count": 54,
   "id": "ec336170-1a25-4df0-a13d-32d7e863d770",
   "metadata": {},
   "outputs": [
    {
     "name": "stdin",
     "output_type": "stream",
     "text": [
      " 6\n",
      " 100 99 100 99 100 99\n"
     ]
    },
    {
     "name": "stdout",
     "output_type": "stream",
     "text": [
      "1 0 1 0 1 0\n"
     ]
    }
   ],
   "source": [
    "import sys\n",
    "\n",
    "first = int(input())\n",
    "second = list(map(int, sys.stdin.readline().split(' ')))\n",
    "t_list = list()\n",
    "duplicate_number = {}\n",
    "\n",
    "set_second = set(second)\n",
    "new_second = list(set_second)\n",
    "new_second.sort(reverse=True)\n",
    "\n",
    "while len(new_second) > 0:\n",
    "    if len(new_second) == 1:\n",
    "        key = new_second[0]\n",
    "        value = 0\n",
    "        duplicate_number[key] = value\n",
    "        new_second.remove(key)\n",
    "    else:\n",
    "        key = new_second[0]\n",
    "        new_second.remove(key)\n",
    "        value = len(new_second)\n",
    "        duplicate_number[key] = value\n",
    "\n",
    "for i in range(len(second)):\n",
    "    print(duplicate_number[second[i]], end = ' ')"
   ]
  },
  {
   "cell_type": "code",
   "execution_count": null,
   "id": "e23958f7-3951-4f0e-9d24-22d276046a26",
   "metadata": {},
   "outputs": [],
   "source": [
    "# https://gudwns1243.tistory.com/52\n",
    "\n",
    "import sys\n",
    "\n",
    "input = sys.stdin.readline\n",
    "\n",
    "n = int(input())\n",
    "arr = list(map(int, input().split()))\n",
    "\n",
    "arr2 = sorted(list(set(arr)))\n",
    "dic = {arr2[i] : i for i in range(len(arr2))}\n",
    "for i in arr:\n",
    "    print(dic[i], end = ' ')"
   ]
  }
 ],
 "metadata": {
  "kernelspec": {
   "display_name": "Python 3 (ipykernel)",
   "language": "python",
   "name": "python3"
  },
  "language_info": {
   "codemirror_mode": {
    "name": "ipython",
    "version": 3
   },
   "file_extension": ".py",
   "mimetype": "text/x-python",
   "name": "python",
   "nbconvert_exporter": "python",
   "pygments_lexer": "ipython3",
   "version": "3.9.7"
  }
 },
 "nbformat": 4,
 "nbformat_minor": 5
}
